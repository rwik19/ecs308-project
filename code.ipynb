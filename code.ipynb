{
 "cells": [
  {
   "cell_type": "markdown",
   "metadata": {},
   "source": [
    "## Libraries"
   ]
  },
  {
   "cell_type": "code",
   "execution_count": 63,
   "metadata": {},
   "outputs": [],
   "source": [
    "import re\n",
    "import numpy as np\n",
    "import pandas as pd\n",
    "import matplotlib.pyplot as plt\n",
    "import seaborn as sns\n",
    "from sklearn import model_selection\n",
    "from sklearn import preprocessing\n",
    "from sklearn import decomposition\n",
    "from sklearn import cluster\n",
    "from sklearn import metrics\n",
    "\n",
    "pd.set_option(\"display.max_columns\", 100)\n",
    "pd.set_option(\"display.max_rows\", 100)"
   ]
  },
  {
   "cell_type": "markdown",
   "metadata": {},
   "source": [
    "## Import the data"
   ]
  },
  {
   "cell_type": "code",
   "execution_count": 64,
   "metadata": {},
   "outputs": [
    {
     "data": {
      "text/html": [
       "<div>\n",
       "<style scoped>\n",
       "    .dataframe tbody tr th:only-of-type {\n",
       "        vertical-align: middle;\n",
       "    }\n",
       "\n",
       "    .dataframe tbody tr th {\n",
       "        vertical-align: top;\n",
       "    }\n",
       "\n",
       "    .dataframe thead th {\n",
       "        text-align: right;\n",
       "    }\n",
       "</style>\n",
       "<table border=\"1\" class=\"dataframe\">\n",
       "  <thead>\n",
       "    <tr style=\"text-align: right;\">\n",
       "      <th></th>\n",
       "      <th>Unnamed: 0</th>\n",
       "      <th>ID</th>\n",
       "      <th>Case Number</th>\n",
       "      <th>Date</th>\n",
       "      <th>Block</th>\n",
       "      <th>IUCR</th>\n",
       "      <th>Primary Type</th>\n",
       "      <th>Description</th>\n",
       "      <th>Location Description</th>\n",
       "      <th>Arrest</th>\n",
       "      <th>Domestic</th>\n",
       "      <th>Beat</th>\n",
       "      <th>District</th>\n",
       "      <th>Ward</th>\n",
       "      <th>Community Area</th>\n",
       "      <th>FBI Code</th>\n",
       "      <th>X Coordinate</th>\n",
       "      <th>Y Coordinate</th>\n",
       "      <th>Year</th>\n",
       "      <th>Updated On</th>\n",
       "      <th>Latitude</th>\n",
       "      <th>Longitude</th>\n",
       "      <th>Location</th>\n",
       "    </tr>\n",
       "  </thead>\n",
       "  <tbody>\n",
       "    <tr>\n",
       "      <th>0</th>\n",
       "      <td>2015825</td>\n",
       "      <td>2508182</td>\n",
       "      <td>HH781001</td>\n",
       "      <td>11/15/2002 12:30:00 PM</td>\n",
       "      <td>003XX N ASHLAND AVE</td>\n",
       "      <td>0810</td>\n",
       "      <td>THEFT</td>\n",
       "      <td>OVER $500</td>\n",
       "      <td>STREET</td>\n",
       "      <td>False</td>\n",
       "      <td>False</td>\n",
       "      <td>1333</td>\n",
       "      <td>12.0</td>\n",
       "      <td>27.0</td>\n",
       "      <td>28.0</td>\n",
       "      <td>06</td>\n",
       "      <td>1165667.0</td>\n",
       "      <td>1902638.0</td>\n",
       "      <td>2002</td>\n",
       "      <td>02/28/2018 03:56:25 PM</td>\n",
       "      <td>41.888430</td>\n",
       "      <td>-87.667064</td>\n",
       "      <td>(41.888429628, -87.667063831)</td>\n",
       "    </tr>\n",
       "    <tr>\n",
       "      <th>1</th>\n",
       "      <td>2110300</td>\n",
       "      <td>2687361</td>\n",
       "      <td>HJ308830</td>\n",
       "      <td>04/18/2003 06:10:00 PM</td>\n",
       "      <td>016XX W 18TH ST</td>\n",
       "      <td>0486</td>\n",
       "      <td>BATTERY</td>\n",
       "      <td>DOMESTIC BATTERY SIMPLE</td>\n",
       "      <td>SIDEWALK</td>\n",
       "      <td>False</td>\n",
       "      <td>True</td>\n",
       "      <td>1222</td>\n",
       "      <td>12.0</td>\n",
       "      <td>25.0</td>\n",
       "      <td>31.0</td>\n",
       "      <td>08B</td>\n",
       "      <td>1165650.0</td>\n",
       "      <td>1891466.0</td>\n",
       "      <td>2003</td>\n",
       "      <td>02/10/2018 03:50:01 PM</td>\n",
       "      <td>41.857773</td>\n",
       "      <td>-87.667445</td>\n",
       "      <td>(41.857773091, -87.667444544)</td>\n",
       "    </tr>\n",
       "    <tr>\n",
       "      <th>2</th>\n",
       "      <td>381828</td>\n",
       "      <td>10755691</td>\n",
       "      <td>HZ518320</td>\n",
       "      <td>11/16/2016 09:50:00 PM</td>\n",
       "      <td>009XX S CICERO AVE</td>\n",
       "      <td>1506</td>\n",
       "      <td>PROSTITUTION</td>\n",
       "      <td>SOLICIT ON PUBLIC WAY</td>\n",
       "      <td>STREET</td>\n",
       "      <td>True</td>\n",
       "      <td>False</td>\n",
       "      <td>1131</td>\n",
       "      <td>11.0</td>\n",
       "      <td>24.0</td>\n",
       "      <td>25.0</td>\n",
       "      <td>16</td>\n",
       "      <td>1144531.0</td>\n",
       "      <td>1895566.0</td>\n",
       "      <td>2016</td>\n",
       "      <td>02/10/2018 03:50:01 PM</td>\n",
       "      <td>41.869447</td>\n",
       "      <td>-87.744861</td>\n",
       "      <td>(41.869447309, -87.744861466)</td>\n",
       "    </tr>\n",
       "    <tr>\n",
       "      <th>3</th>\n",
       "      <td>6048052</td>\n",
       "      <td>8740111</td>\n",
       "      <td>HV415603</td>\n",
       "      <td>08/04/2012 05:15:00 PM</td>\n",
       "      <td>072XX S INGLESIDE AVE</td>\n",
       "      <td>0460</td>\n",
       "      <td>BATTERY</td>\n",
       "      <td>SIMPLE</td>\n",
       "      <td>OTHER</td>\n",
       "      <td>False</td>\n",
       "      <td>False</td>\n",
       "      <td>324</td>\n",
       "      <td>3.0</td>\n",
       "      <td>5.0</td>\n",
       "      <td>69.0</td>\n",
       "      <td>08B</td>\n",
       "      <td>1183801.0</td>\n",
       "      <td>1857416.0</td>\n",
       "      <td>2012</td>\n",
       "      <td>02/04/2016 06:33:39 AM</td>\n",
       "      <td>41.763932</td>\n",
       "      <td>-87.601884</td>\n",
       "      <td>(41.763931739, -87.601884055)</td>\n",
       "    </tr>\n",
       "    <tr>\n",
       "      <th>4</th>\n",
       "      <td>6873402</td>\n",
       "      <td>11924187</td>\n",
       "      <td>JC549979</td>\n",
       "      <td>12/16/2019 04:45:00 PM</td>\n",
       "      <td>017XX W THOME AVE</td>\n",
       "      <td>1310</td>\n",
       "      <td>CRIMINAL DAMAGE</td>\n",
       "      <td>TO PROPERTY</td>\n",
       "      <td>APARTMENT</td>\n",
       "      <td>False</td>\n",
       "      <td>False</td>\n",
       "      <td>2433</td>\n",
       "      <td>24.0</td>\n",
       "      <td>40.0</td>\n",
       "      <td>77.0</td>\n",
       "      <td>14</td>\n",
       "      <td>1163394.0</td>\n",
       "      <td>1941667.0</td>\n",
       "      <td>2019</td>\n",
       "      <td>12/23/2019 03:56:38 PM</td>\n",
       "      <td>41.995575</td>\n",
       "      <td>-87.674309</td>\n",
       "      <td>(41.995575459, -87.674309158)</td>\n",
       "    </tr>\n",
       "  </tbody>\n",
       "</table>\n",
       "</div>"
      ],
      "text/plain": [
       "   Unnamed: 0        ID Case Number                    Date  \\\n",
       "0     2015825   2508182    HH781001  11/15/2002 12:30:00 PM   \n",
       "1     2110300   2687361    HJ308830  04/18/2003 06:10:00 PM   \n",
       "2      381828  10755691    HZ518320  11/16/2016 09:50:00 PM   \n",
       "3     6048052   8740111    HV415603  08/04/2012 05:15:00 PM   \n",
       "4     6873402  11924187    JC549979  12/16/2019 04:45:00 PM   \n",
       "\n",
       "                   Block  IUCR     Primary Type              Description  \\\n",
       "0    003XX N ASHLAND AVE  0810            THEFT                OVER $500   \n",
       "1        016XX W 18TH ST  0486          BATTERY  DOMESTIC BATTERY SIMPLE   \n",
       "2     009XX S CICERO AVE  1506     PROSTITUTION    SOLICIT ON PUBLIC WAY   \n",
       "3  072XX S INGLESIDE AVE  0460          BATTERY                   SIMPLE   \n",
       "4      017XX W THOME AVE  1310  CRIMINAL DAMAGE              TO PROPERTY   \n",
       "\n",
       "  Location Description  Arrest  Domestic  Beat  District  Ward  \\\n",
       "0               STREET   False     False  1333      12.0  27.0   \n",
       "1             SIDEWALK   False      True  1222      12.0  25.0   \n",
       "2               STREET    True     False  1131      11.0  24.0   \n",
       "3                OTHER   False     False   324       3.0   5.0   \n",
       "4            APARTMENT   False     False  2433      24.0  40.0   \n",
       "\n",
       "   Community Area FBI Code  X Coordinate  Y Coordinate  Year  \\\n",
       "0            28.0       06     1165667.0     1902638.0  2002   \n",
       "1            31.0      08B     1165650.0     1891466.0  2003   \n",
       "2            25.0       16     1144531.0     1895566.0  2016   \n",
       "3            69.0      08B     1183801.0     1857416.0  2012   \n",
       "4            77.0       14     1163394.0     1941667.0  2019   \n",
       "\n",
       "               Updated On   Latitude  Longitude                       Location  \n",
       "0  02/28/2018 03:56:25 PM  41.888430 -87.667064  (41.888429628, -87.667063831)  \n",
       "1  02/10/2018 03:50:01 PM  41.857773 -87.667445  (41.857773091, -87.667444544)  \n",
       "2  02/10/2018 03:50:01 PM  41.869447 -87.744861  (41.869447309, -87.744861466)  \n",
       "3  02/04/2016 06:33:39 AM  41.763932 -87.601884  (41.763931739, -87.601884055)  \n",
       "4  12/23/2019 03:56:38 PM  41.995575 -87.674309  (41.995575459, -87.674309158)  "
      ]
     },
     "execution_count": 64,
     "metadata": {},
     "output_type": "execute_result"
    }
   ],
   "source": [
    "df = pd.read_csv(\"dataset.csv\")\n",
    "df.head()"
   ]
  },
  {
   "cell_type": "code",
   "execution_count": 39,
   "metadata": {},
   "outputs": [
    {
     "data": {
      "text/plain": [
       "(100000, 23)"
      ]
     },
     "execution_count": 39,
     "metadata": {},
     "output_type": "execute_result"
    }
   ],
   "source": [
    "df.shape"
   ]
  },
  {
   "cell_type": "markdown",
   "metadata": {},
   "source": [
    "## Look into the Data"
   ]
  },
  {
   "cell_type": "code",
   "execution_count": 4,
   "metadata": {},
   "outputs": [
    {
     "name": "stdout",
     "output_type": "stream",
     "text": [
      "<class 'pandas.core.frame.DataFrame'>\n",
      "RangeIndex: 100000 entries, 0 to 99999\n",
      "Data columns (total 23 columns):\n",
      "Unnamed: 0              100000 non-null int64\n",
      "ID                      100000 non-null int64\n",
      "Case Number             100000 non-null object\n",
      "Date                    100000 non-null object\n",
      "Block                   100000 non-null object\n",
      "IUCR                    100000 non-null object\n",
      "Primary Type            100000 non-null object\n",
      "Description             100000 non-null object\n",
      "Location Description    100000 non-null object\n",
      "Arrest                  100000 non-null bool\n",
      "Domestic                100000 non-null bool\n",
      "Beat                    100000 non-null int64\n",
      "District                100000 non-null float64\n",
      "Ward                    100000 non-null float64\n",
      "Community Area          100000 non-null float64\n",
      "FBI Code                100000 non-null object\n",
      "X Coordinate            100000 non-null float64\n",
      "Y Coordinate            100000 non-null float64\n",
      "Year                    100000 non-null int64\n",
      "Updated On              100000 non-null object\n",
      "Latitude                100000 non-null float64\n",
      "Longitude               100000 non-null float64\n",
      "Location                100000 non-null object\n",
      "dtypes: bool(2), float64(7), int64(4), object(10)\n",
      "memory usage: 16.2+ MB\n"
     ]
    }
   ],
   "source": [
    "df.info()"
   ]
  },
  {
   "cell_type": "code",
   "execution_count": 5,
   "metadata": {},
   "outputs": [
    {
     "data": {
      "text/html": [
       "<div>\n",
       "<style scoped>\n",
       "    .dataframe tbody tr th:only-of-type {\n",
       "        vertical-align: middle;\n",
       "    }\n",
       "\n",
       "    .dataframe tbody tr th {\n",
       "        vertical-align: top;\n",
       "    }\n",
       "\n",
       "    .dataframe thead th {\n",
       "        text-align: right;\n",
       "    }\n",
       "</style>\n",
       "<table border=\"1\" class=\"dataframe\">\n",
       "  <thead>\n",
       "    <tr style=\"text-align: right;\">\n",
       "      <th></th>\n",
       "      <th>Unnamed: 0</th>\n",
       "      <th>ID</th>\n",
       "      <th>Beat</th>\n",
       "      <th>District</th>\n",
       "      <th>Ward</th>\n",
       "      <th>Community Area</th>\n",
       "      <th>X Coordinate</th>\n",
       "      <th>Y Coordinate</th>\n",
       "      <th>Year</th>\n",
       "      <th>Latitude</th>\n",
       "      <th>Longitude</th>\n",
       "    </tr>\n",
       "  </thead>\n",
       "  <tbody>\n",
       "    <tr>\n",
       "      <td>count</td>\n",
       "      <td>1.000000e+05</td>\n",
       "      <td>1.000000e+05</td>\n",
       "      <td>100000.00000</td>\n",
       "      <td>100000.000000</td>\n",
       "      <td>100000.000000</td>\n",
       "      <td>100000.000000</td>\n",
       "      <td>1.000000e+05</td>\n",
       "      <td>1.000000e+05</td>\n",
       "      <td>100000.000000</td>\n",
       "      <td>100000.000000</td>\n",
       "      <td>100000.000000</td>\n",
       "    </tr>\n",
       "    <tr>\n",
       "      <td>mean</td>\n",
       "      <td>3.816456e+06</td>\n",
       "      <td>7.109064e+06</td>\n",
       "      <td>1184.04701</td>\n",
       "      <td>11.289060</td>\n",
       "      <td>22.666100</td>\n",
       "      <td>37.606040</td>\n",
       "      <td>1.164563e+06</td>\n",
       "      <td>1.885634e+06</td>\n",
       "      <td>2009.902980</td>\n",
       "      <td>41.841777</td>\n",
       "      <td>-87.671642</td>\n",
       "    </tr>\n",
       "    <tr>\n",
       "      <td>std</td>\n",
       "      <td>2.062735e+06</td>\n",
       "      <td>3.050245e+06</td>\n",
       "      <td>701.25252</td>\n",
       "      <td>6.932335</td>\n",
       "      <td>13.842239</td>\n",
       "      <td>21.558465</td>\n",
       "      <td>1.618725e+04</td>\n",
       "      <td>3.137619e+04</td>\n",
       "      <td>5.328429</td>\n",
       "      <td>0.086290</td>\n",
       "      <td>0.058913</td>\n",
       "    </tr>\n",
       "    <tr>\n",
       "      <td>min</td>\n",
       "      <td>2.000000e+01</td>\n",
       "      <td>6.670000e+02</td>\n",
       "      <td>111.00000</td>\n",
       "      <td>1.000000</td>\n",
       "      <td>1.000000</td>\n",
       "      <td>1.000000</td>\n",
       "      <td>1.095120e+06</td>\n",
       "      <td>1.813910e+06</td>\n",
       "      <td>2001.000000</td>\n",
       "      <td>41.644608</td>\n",
       "      <td>-87.925509</td>\n",
       "    </tr>\n",
       "    <tr>\n",
       "      <td>25%</td>\n",
       "      <td>2.248785e+06</td>\n",
       "      <td>4.400725e+06</td>\n",
       "      <td>622.00000</td>\n",
       "      <td>6.000000</td>\n",
       "      <td>10.000000</td>\n",
       "      <td>23.000000</td>\n",
       "      <td>1.152897e+06</td>\n",
       "      <td>1.858914e+06</td>\n",
       "      <td>2005.000000</td>\n",
       "      <td>41.768308</td>\n",
       "      <td>-87.714015</td>\n",
       "    </tr>\n",
       "    <tr>\n",
       "      <td>50%</td>\n",
       "      <td>3.907453e+06</td>\n",
       "      <td>7.131744e+06</td>\n",
       "      <td>1033.00000</td>\n",
       "      <td>10.000000</td>\n",
       "      <td>22.000000</td>\n",
       "      <td>32.000000</td>\n",
       "      <td>1.165989e+06</td>\n",
       "      <td>1.890402e+06</td>\n",
       "      <td>2009.000000</td>\n",
       "      <td>41.854947</td>\n",
       "      <td>-87.666191</td>\n",
       "    </tr>\n",
       "    <tr>\n",
       "      <td>75%</td>\n",
       "      <td>5.565648e+06</td>\n",
       "      <td>9.765134e+06</td>\n",
       "      <td>1724.00000</td>\n",
       "      <td>17.000000</td>\n",
       "      <td>34.000000</td>\n",
       "      <td>58.000000</td>\n",
       "      <td>1.176363e+06</td>\n",
       "      <td>1.909042e+06</td>\n",
       "      <td>2014.000000</td>\n",
       "      <td>41.906276</td>\n",
       "      <td>-87.628291</td>\n",
       "    </tr>\n",
       "    <tr>\n",
       "      <td>max</td>\n",
       "      <td>7.295508e+06</td>\n",
       "      <td>1.231835e+07</td>\n",
       "      <td>2535.00000</td>\n",
       "      <td>31.000000</td>\n",
       "      <td>50.000000</td>\n",
       "      <td>77.000000</td>\n",
       "      <td>1.205116e+06</td>\n",
       "      <td>1.951503e+06</td>\n",
       "      <td>2021.000000</td>\n",
       "      <td>42.022536</td>\n",
       "      <td>-87.524529</td>\n",
       "    </tr>\n",
       "  </tbody>\n",
       "</table>\n",
       "</div>"
      ],
      "text/plain": [
       "         Unnamed: 0            ID          Beat       District           Ward  \\\n",
       "count  1.000000e+05  1.000000e+05  100000.00000  100000.000000  100000.000000   \n",
       "mean   3.816456e+06  7.109064e+06    1184.04701      11.289060      22.666100   \n",
       "std    2.062735e+06  3.050245e+06     701.25252       6.932335      13.842239   \n",
       "min    2.000000e+01  6.670000e+02     111.00000       1.000000       1.000000   \n",
       "25%    2.248785e+06  4.400725e+06     622.00000       6.000000      10.000000   \n",
       "50%    3.907453e+06  7.131744e+06    1033.00000      10.000000      22.000000   \n",
       "75%    5.565648e+06  9.765134e+06    1724.00000      17.000000      34.000000   \n",
       "max    7.295508e+06  1.231835e+07    2535.00000      31.000000      50.000000   \n",
       "\n",
       "       Community Area  X Coordinate  Y Coordinate           Year  \\\n",
       "count   100000.000000  1.000000e+05  1.000000e+05  100000.000000   \n",
       "mean        37.606040  1.164563e+06  1.885634e+06    2009.902980   \n",
       "std         21.558465  1.618725e+04  3.137619e+04       5.328429   \n",
       "min          1.000000  1.095120e+06  1.813910e+06    2001.000000   \n",
       "25%         23.000000  1.152897e+06  1.858914e+06    2005.000000   \n",
       "50%         32.000000  1.165989e+06  1.890402e+06    2009.000000   \n",
       "75%         58.000000  1.176363e+06  1.909042e+06    2014.000000   \n",
       "max         77.000000  1.205116e+06  1.951503e+06    2021.000000   \n",
       "\n",
       "            Latitude      Longitude  \n",
       "count  100000.000000  100000.000000  \n",
       "mean       41.841777     -87.671642  \n",
       "std         0.086290       0.058913  \n",
       "min        41.644608     -87.925509  \n",
       "25%        41.768308     -87.714015  \n",
       "50%        41.854947     -87.666191  \n",
       "75%        41.906276     -87.628291  \n",
       "max        42.022536     -87.524529  "
      ]
     },
     "execution_count": 5,
     "metadata": {},
     "output_type": "execute_result"
    }
   ],
   "source": [
    "df.describe()"
   ]
  },
  {
   "cell_type": "code",
   "execution_count": 6,
   "metadata": {
    "scrolled": true
   },
   "outputs": [
    {
     "data": {
      "text/plain": [
       "Unnamed: 0              0\n",
       "ID                      0\n",
       "Case Number             0\n",
       "Date                    0\n",
       "Block                   0\n",
       "IUCR                    0\n",
       "Primary Type            0\n",
       "Description             0\n",
       "Location Description    0\n",
       "Arrest                  0\n",
       "Domestic                0\n",
       "Beat                    0\n",
       "District                0\n",
       "Ward                    0\n",
       "Community Area          0\n",
       "FBI Code                0\n",
       "X Coordinate            0\n",
       "Y Coordinate            0\n",
       "Year                    0\n",
       "Updated On              0\n",
       "Latitude                0\n",
       "Longitude               0\n",
       "Location                0\n",
       "dtype: int64"
      ]
     },
     "execution_count": 6,
     "metadata": {},
     "output_type": "execute_result"
    }
   ],
   "source": [
    "df.isnull().sum()"
   ]
  },
  {
   "cell_type": "markdown",
   "metadata": {},
   "source": [
    "The data, thus, contains no null values."
   ]
  },
  {
   "cell_type": "markdown",
   "metadata": {},
   "source": [
    "The Primary Type is what we need to identify. So we can use it later for testing purposes."
   ]
  },
  {
   "cell_type": "code",
   "execution_count": 7,
   "metadata": {},
   "outputs": [
    {
     "data": {
      "text/plain": [
       "THEFT                                20938\n",
       "BATTERY                              18417\n",
       "CRIMINAL DAMAGE                      11573\n",
       "NARCOTICS                             9845\n",
       "ASSAULT                               6448\n",
       "OTHER OFFENSE                         6172\n",
       "BURGLARY                              5692\n",
       "MOTOR VEHICLE THEFT                   4460\n",
       "DECEPTIVE PRACTICE                    4322\n",
       "ROBBERY                               3784\n",
       "CRIMINAL TRESPASS                     2860\n",
       "WEAPONS VIOLATION                     1245\n",
       "PROSTITUTION                           974\n",
       "PUBLIC PEACE VIOLATION                 721\n",
       "OFFENSE INVOLVING CHILDREN             651\n",
       "CRIM SEXUAL ASSAULT                    378\n",
       "SEX OFFENSE                            356\n",
       "INTERFERENCE WITH PUBLIC OFFICER       253\n",
       "GAMBLING                               183\n",
       "ARSON                                  182\n",
       "LIQUOR LAW VIOLATION                   164\n",
       "HOMICIDE                               147\n",
       "KIDNAPPING                              79\n",
       "INTIMIDATION                            55\n",
       "STALKING                                48\n",
       "CRIMINAL SEXUAL ASSAULT                 38\n",
       "CONCEALED CARRY LICENSE VIOLATION        6\n",
       "OBSCENITY                                5\n",
       "PUBLIC INDECENCY                         2\n",
       "NON - CRIMINAL                           1\n",
       "HUMAN TRAFFICKING                        1\n",
       "Name: Primary Type, dtype: int64"
      ]
     },
     "execution_count": 7,
     "metadata": {},
     "output_type": "execute_result"
    }
   ],
   "source": [
    "df['Primary Type'].value_counts()"
   ]
  },
  {
   "cell_type": "code",
   "execution_count": 8,
   "metadata": {},
   "outputs": [
    {
     "data": {
      "text/plain": [
       "31"
      ]
     },
     "execution_count": 8,
     "metadata": {},
     "output_type": "execute_result"
    }
   ],
   "source": [
    "len(df['Primary Type'].unique())"
   ]
  },
  {
   "cell_type": "markdown",
   "metadata": {},
   "source": [
    "Thus, we can expect around 30 clusters in our data based on type of crime"
   ]
  },
  {
   "cell_type": "markdown",
   "metadata": {},
   "source": [
    "Other features for type of crime are IUCR codes, FBI codes and Description."
   ]
  },
  {
   "cell_type": "code",
   "execution_count": 9,
   "metadata": {},
   "outputs": [
    {
     "data": {
      "text/plain": [
       "0486    8650\n",
       "0820    7663\n",
       "0460    6578\n",
       "1320    5476\n",
       "1310    5285\n",
       "        ... \n",
       "1055       1\n",
       "1450       1\n",
       "1622       1\n",
       "0937       1\n",
       "4810       1\n",
       "Name: IUCR, Length: 321, dtype: int64"
      ]
     },
     "execution_count": 9,
     "metadata": {},
     "output_type": "execute_result"
    }
   ],
   "source": [
    "df['IUCR'].value_counts()"
   ]
  },
  {
   "cell_type": "code",
   "execution_count": 10,
   "metadata": {},
   "outputs": [
    {
     "data": {
      "text/plain": [
       "321"
      ]
     },
     "execution_count": 10,
     "metadata": {},
     "output_type": "execute_result"
    }
   ],
   "source": [
    "len(df['IUCR'].unique())"
   ]
  },
  {
   "cell_type": "code",
   "execution_count": 11,
   "metadata": {},
   "outputs": [
    {
     "data": {
      "text/plain": [
       "06     20938\n",
       "08B    15792\n",
       "14     11573\n",
       "26      9928\n",
       "18      9266\n",
       "05      5692\n",
       "08A     4876\n",
       "07      4460\n",
       "03      3784\n",
       "11      3688\n",
       "04B     2641\n",
       "04A     1723\n",
       "15      1251\n",
       "16       975\n",
       "24       807\n",
       "10       575\n",
       "02       469\n",
       "17       440\n",
       "20       386\n",
       "19       187\n",
       "09       180\n",
       "22       164\n",
       "01A      146\n",
       "13        40\n",
       "12        18\n",
       "01B        1\n",
       "Name: FBI Code, dtype: int64"
      ]
     },
     "execution_count": 11,
     "metadata": {},
     "output_type": "execute_result"
    }
   ],
   "source": [
    "df['FBI Code'].value_counts()"
   ]
  },
  {
   "cell_type": "code",
   "execution_count": 12,
   "metadata": {},
   "outputs": [
    {
     "data": {
      "text/plain": [
       "26"
      ]
     },
     "execution_count": 12,
     "metadata": {},
     "output_type": "execute_result"
    }
   ],
   "source": [
    "len(df['FBI Code'].unique())"
   ]
  },
  {
   "cell_type": "markdown",
   "metadata": {},
   "source": [
    "## Manual Feature Engineering"
   ]
  },
  {
   "cell_type": "markdown",
   "metadata": {},
   "source": [
    "Location contains same information as Latitude and Longitude\n",
    "\n",
    "Year contains same information as Date"
   ]
  },
  {
   "cell_type": "code",
   "execution_count": 65,
   "metadata": {},
   "outputs": [
    {
     "name": "stderr",
     "output_type": "stream",
     "text": [
      "/tmp/ipykernel_55137/131335252.py:2: FutureWarning: In a future version of pandas all arguments of DataFrame.drop except for the argument 'labels' will be keyword-only\n",
      "  df = df.drop(['Location', 'Year'], 1)\n"
     ]
    },
    {
     "data": {
      "text/html": [
       "<div>\n",
       "<style scoped>\n",
       "    .dataframe tbody tr th:only-of-type {\n",
       "        vertical-align: middle;\n",
       "    }\n",
       "\n",
       "    .dataframe tbody tr th {\n",
       "        vertical-align: top;\n",
       "    }\n",
       "\n",
       "    .dataframe thead th {\n",
       "        text-align: right;\n",
       "    }\n",
       "</style>\n",
       "<table border=\"1\" class=\"dataframe\">\n",
       "  <thead>\n",
       "    <tr style=\"text-align: right;\">\n",
       "      <th></th>\n",
       "      <th>Unnamed: 0</th>\n",
       "      <th>ID</th>\n",
       "      <th>Case Number</th>\n",
       "      <th>Date</th>\n",
       "      <th>Block</th>\n",
       "      <th>IUCR</th>\n",
       "      <th>Primary Type</th>\n",
       "      <th>Description</th>\n",
       "      <th>Location Description</th>\n",
       "      <th>Arrest</th>\n",
       "      <th>Domestic</th>\n",
       "      <th>Beat</th>\n",
       "      <th>District</th>\n",
       "      <th>Ward</th>\n",
       "      <th>Community Area</th>\n",
       "      <th>FBI Code</th>\n",
       "      <th>X Coordinate</th>\n",
       "      <th>Y Coordinate</th>\n",
       "      <th>Updated On</th>\n",
       "      <th>Latitude</th>\n",
       "      <th>Longitude</th>\n",
       "    </tr>\n",
       "  </thead>\n",
       "  <tbody>\n",
       "    <tr>\n",
       "      <th>0</th>\n",
       "      <td>2015825</td>\n",
       "      <td>2508182</td>\n",
       "      <td>HH781001</td>\n",
       "      <td>11/15/2002 12:30:00 PM</td>\n",
       "      <td>003XX N ASHLAND AVE</td>\n",
       "      <td>0810</td>\n",
       "      <td>THEFT</td>\n",
       "      <td>OVER $500</td>\n",
       "      <td>STREET</td>\n",
       "      <td>False</td>\n",
       "      <td>False</td>\n",
       "      <td>1333</td>\n",
       "      <td>12.0</td>\n",
       "      <td>27.0</td>\n",
       "      <td>28.0</td>\n",
       "      <td>06</td>\n",
       "      <td>1165667.0</td>\n",
       "      <td>1902638.0</td>\n",
       "      <td>02/28/2018 03:56:25 PM</td>\n",
       "      <td>41.888430</td>\n",
       "      <td>-87.667064</td>\n",
       "    </tr>\n",
       "    <tr>\n",
       "      <th>1</th>\n",
       "      <td>2110300</td>\n",
       "      <td>2687361</td>\n",
       "      <td>HJ308830</td>\n",
       "      <td>04/18/2003 06:10:00 PM</td>\n",
       "      <td>016XX W 18TH ST</td>\n",
       "      <td>0486</td>\n",
       "      <td>BATTERY</td>\n",
       "      <td>DOMESTIC BATTERY SIMPLE</td>\n",
       "      <td>SIDEWALK</td>\n",
       "      <td>False</td>\n",
       "      <td>True</td>\n",
       "      <td>1222</td>\n",
       "      <td>12.0</td>\n",
       "      <td>25.0</td>\n",
       "      <td>31.0</td>\n",
       "      <td>08B</td>\n",
       "      <td>1165650.0</td>\n",
       "      <td>1891466.0</td>\n",
       "      <td>02/10/2018 03:50:01 PM</td>\n",
       "      <td>41.857773</td>\n",
       "      <td>-87.667445</td>\n",
       "    </tr>\n",
       "    <tr>\n",
       "      <th>2</th>\n",
       "      <td>381828</td>\n",
       "      <td>10755691</td>\n",
       "      <td>HZ518320</td>\n",
       "      <td>11/16/2016 09:50:00 PM</td>\n",
       "      <td>009XX S CICERO AVE</td>\n",
       "      <td>1506</td>\n",
       "      <td>PROSTITUTION</td>\n",
       "      <td>SOLICIT ON PUBLIC WAY</td>\n",
       "      <td>STREET</td>\n",
       "      <td>True</td>\n",
       "      <td>False</td>\n",
       "      <td>1131</td>\n",
       "      <td>11.0</td>\n",
       "      <td>24.0</td>\n",
       "      <td>25.0</td>\n",
       "      <td>16</td>\n",
       "      <td>1144531.0</td>\n",
       "      <td>1895566.0</td>\n",
       "      <td>02/10/2018 03:50:01 PM</td>\n",
       "      <td>41.869447</td>\n",
       "      <td>-87.744861</td>\n",
       "    </tr>\n",
       "    <tr>\n",
       "      <th>3</th>\n",
       "      <td>6048052</td>\n",
       "      <td>8740111</td>\n",
       "      <td>HV415603</td>\n",
       "      <td>08/04/2012 05:15:00 PM</td>\n",
       "      <td>072XX S INGLESIDE AVE</td>\n",
       "      <td>0460</td>\n",
       "      <td>BATTERY</td>\n",
       "      <td>SIMPLE</td>\n",
       "      <td>OTHER</td>\n",
       "      <td>False</td>\n",
       "      <td>False</td>\n",
       "      <td>324</td>\n",
       "      <td>3.0</td>\n",
       "      <td>5.0</td>\n",
       "      <td>69.0</td>\n",
       "      <td>08B</td>\n",
       "      <td>1183801.0</td>\n",
       "      <td>1857416.0</td>\n",
       "      <td>02/04/2016 06:33:39 AM</td>\n",
       "      <td>41.763932</td>\n",
       "      <td>-87.601884</td>\n",
       "    </tr>\n",
       "    <tr>\n",
       "      <th>4</th>\n",
       "      <td>6873402</td>\n",
       "      <td>11924187</td>\n",
       "      <td>JC549979</td>\n",
       "      <td>12/16/2019 04:45:00 PM</td>\n",
       "      <td>017XX W THOME AVE</td>\n",
       "      <td>1310</td>\n",
       "      <td>CRIMINAL DAMAGE</td>\n",
       "      <td>TO PROPERTY</td>\n",
       "      <td>APARTMENT</td>\n",
       "      <td>False</td>\n",
       "      <td>False</td>\n",
       "      <td>2433</td>\n",
       "      <td>24.0</td>\n",
       "      <td>40.0</td>\n",
       "      <td>77.0</td>\n",
       "      <td>14</td>\n",
       "      <td>1163394.0</td>\n",
       "      <td>1941667.0</td>\n",
       "      <td>12/23/2019 03:56:38 PM</td>\n",
       "      <td>41.995575</td>\n",
       "      <td>-87.674309</td>\n",
       "    </tr>\n",
       "  </tbody>\n",
       "</table>\n",
       "</div>"
      ],
      "text/plain": [
       "   Unnamed: 0        ID Case Number                    Date  \\\n",
       "0     2015825   2508182    HH781001  11/15/2002 12:30:00 PM   \n",
       "1     2110300   2687361    HJ308830  04/18/2003 06:10:00 PM   \n",
       "2      381828  10755691    HZ518320  11/16/2016 09:50:00 PM   \n",
       "3     6048052   8740111    HV415603  08/04/2012 05:15:00 PM   \n",
       "4     6873402  11924187    JC549979  12/16/2019 04:45:00 PM   \n",
       "\n",
       "                   Block  IUCR     Primary Type              Description  \\\n",
       "0    003XX N ASHLAND AVE  0810            THEFT                OVER $500   \n",
       "1        016XX W 18TH ST  0486          BATTERY  DOMESTIC BATTERY SIMPLE   \n",
       "2     009XX S CICERO AVE  1506     PROSTITUTION    SOLICIT ON PUBLIC WAY   \n",
       "3  072XX S INGLESIDE AVE  0460          BATTERY                   SIMPLE   \n",
       "4      017XX W THOME AVE  1310  CRIMINAL DAMAGE              TO PROPERTY   \n",
       "\n",
       "  Location Description  Arrest  Domestic  Beat  District  Ward  \\\n",
       "0               STREET   False     False  1333      12.0  27.0   \n",
       "1             SIDEWALK   False      True  1222      12.0  25.0   \n",
       "2               STREET    True     False  1131      11.0  24.0   \n",
       "3                OTHER   False     False   324       3.0   5.0   \n",
       "4            APARTMENT   False     False  2433      24.0  40.0   \n",
       "\n",
       "   Community Area FBI Code  X Coordinate  Y Coordinate  \\\n",
       "0            28.0       06     1165667.0     1902638.0   \n",
       "1            31.0      08B     1165650.0     1891466.0   \n",
       "2            25.0       16     1144531.0     1895566.0   \n",
       "3            69.0      08B     1183801.0     1857416.0   \n",
       "4            77.0       14     1163394.0     1941667.0   \n",
       "\n",
       "               Updated On   Latitude  Longitude  \n",
       "0  02/28/2018 03:56:25 PM  41.888430 -87.667064  \n",
       "1  02/10/2018 03:50:01 PM  41.857773 -87.667445  \n",
       "2  02/10/2018 03:50:01 PM  41.869447 -87.744861  \n",
       "3  02/04/2016 06:33:39 AM  41.763932 -87.601884  \n",
       "4  12/23/2019 03:56:38 PM  41.995575 -87.674309  "
      ]
     },
     "execution_count": 65,
     "metadata": {},
     "output_type": "execute_result"
    }
   ],
   "source": [
    "# remove column location\n",
    "df = df.drop(['Location', 'Year'], 1)\n",
    "df.head()"
   ]
  },
  {
   "cell_type": "code",
   "execution_count": 14,
   "metadata": {},
   "outputs": [
    {
     "name": "stdout",
     "output_type": "stream",
     "text": [
      "(100000, 21)\n",
      "100000\n",
      "100000\n",
      "100000\n"
     ]
    }
   ],
   "source": [
    "print(df.shape)\n",
    "print(len(df['ID'].unique()))\n",
    "print(len(df['Case Number'].unique()))\n",
    "print(len(df[\"Unnamed: 0\"].unique()))"
   ]
  },
  {
   "cell_type": "markdown",
   "metadata": {},
   "source": [
    "Thus, ID, Case Number and Unnamed: 0 are unique for each feature vector."
   ]
  },
  {
   "cell_type": "code",
   "execution_count": 66,
   "metadata": {},
   "outputs": [
    {
     "name": "stderr",
     "output_type": "stream",
     "text": [
      "/tmp/ipykernel_55137/464464793.py:2: FutureWarning: In a future version of pandas all arguments of DataFrame.drop except for the argument 'labels' will be keyword-only\n",
      "  df = df.drop([\"ID\", \"Case Number\", \"Unnamed: 0\"], 1)\n"
     ]
    },
    {
     "data": {
      "text/html": [
       "<div>\n",
       "<style scoped>\n",
       "    .dataframe tbody tr th:only-of-type {\n",
       "        vertical-align: middle;\n",
       "    }\n",
       "\n",
       "    .dataframe tbody tr th {\n",
       "        vertical-align: top;\n",
       "    }\n",
       "\n",
       "    .dataframe thead th {\n",
       "        text-align: right;\n",
       "    }\n",
       "</style>\n",
       "<table border=\"1\" class=\"dataframe\">\n",
       "  <thead>\n",
       "    <tr style=\"text-align: right;\">\n",
       "      <th></th>\n",
       "      <th>Date</th>\n",
       "      <th>Block</th>\n",
       "      <th>IUCR</th>\n",
       "      <th>Primary Type</th>\n",
       "      <th>Description</th>\n",
       "      <th>Location Description</th>\n",
       "      <th>Arrest</th>\n",
       "      <th>Domestic</th>\n",
       "      <th>Beat</th>\n",
       "      <th>District</th>\n",
       "      <th>Ward</th>\n",
       "      <th>Community Area</th>\n",
       "      <th>FBI Code</th>\n",
       "      <th>X Coordinate</th>\n",
       "      <th>Y Coordinate</th>\n",
       "      <th>Updated On</th>\n",
       "      <th>Latitude</th>\n",
       "      <th>Longitude</th>\n",
       "    </tr>\n",
       "  </thead>\n",
       "  <tbody>\n",
       "    <tr>\n",
       "      <th>0</th>\n",
       "      <td>11/15/2002 12:30:00 PM</td>\n",
       "      <td>003XX N ASHLAND AVE</td>\n",
       "      <td>0810</td>\n",
       "      <td>THEFT</td>\n",
       "      <td>OVER $500</td>\n",
       "      <td>STREET</td>\n",
       "      <td>False</td>\n",
       "      <td>False</td>\n",
       "      <td>1333</td>\n",
       "      <td>12.0</td>\n",
       "      <td>27.0</td>\n",
       "      <td>28.0</td>\n",
       "      <td>06</td>\n",
       "      <td>1165667.0</td>\n",
       "      <td>1902638.0</td>\n",
       "      <td>02/28/2018 03:56:25 PM</td>\n",
       "      <td>41.888430</td>\n",
       "      <td>-87.667064</td>\n",
       "    </tr>\n",
       "    <tr>\n",
       "      <th>1</th>\n",
       "      <td>04/18/2003 06:10:00 PM</td>\n",
       "      <td>016XX W 18TH ST</td>\n",
       "      <td>0486</td>\n",
       "      <td>BATTERY</td>\n",
       "      <td>DOMESTIC BATTERY SIMPLE</td>\n",
       "      <td>SIDEWALK</td>\n",
       "      <td>False</td>\n",
       "      <td>True</td>\n",
       "      <td>1222</td>\n",
       "      <td>12.0</td>\n",
       "      <td>25.0</td>\n",
       "      <td>31.0</td>\n",
       "      <td>08B</td>\n",
       "      <td>1165650.0</td>\n",
       "      <td>1891466.0</td>\n",
       "      <td>02/10/2018 03:50:01 PM</td>\n",
       "      <td>41.857773</td>\n",
       "      <td>-87.667445</td>\n",
       "    </tr>\n",
       "    <tr>\n",
       "      <th>2</th>\n",
       "      <td>11/16/2016 09:50:00 PM</td>\n",
       "      <td>009XX S CICERO AVE</td>\n",
       "      <td>1506</td>\n",
       "      <td>PROSTITUTION</td>\n",
       "      <td>SOLICIT ON PUBLIC WAY</td>\n",
       "      <td>STREET</td>\n",
       "      <td>True</td>\n",
       "      <td>False</td>\n",
       "      <td>1131</td>\n",
       "      <td>11.0</td>\n",
       "      <td>24.0</td>\n",
       "      <td>25.0</td>\n",
       "      <td>16</td>\n",
       "      <td>1144531.0</td>\n",
       "      <td>1895566.0</td>\n",
       "      <td>02/10/2018 03:50:01 PM</td>\n",
       "      <td>41.869447</td>\n",
       "      <td>-87.744861</td>\n",
       "    </tr>\n",
       "    <tr>\n",
       "      <th>3</th>\n",
       "      <td>08/04/2012 05:15:00 PM</td>\n",
       "      <td>072XX S INGLESIDE AVE</td>\n",
       "      <td>0460</td>\n",
       "      <td>BATTERY</td>\n",
       "      <td>SIMPLE</td>\n",
       "      <td>OTHER</td>\n",
       "      <td>False</td>\n",
       "      <td>False</td>\n",
       "      <td>324</td>\n",
       "      <td>3.0</td>\n",
       "      <td>5.0</td>\n",
       "      <td>69.0</td>\n",
       "      <td>08B</td>\n",
       "      <td>1183801.0</td>\n",
       "      <td>1857416.0</td>\n",
       "      <td>02/04/2016 06:33:39 AM</td>\n",
       "      <td>41.763932</td>\n",
       "      <td>-87.601884</td>\n",
       "    </tr>\n",
       "    <tr>\n",
       "      <th>4</th>\n",
       "      <td>12/16/2019 04:45:00 PM</td>\n",
       "      <td>017XX W THOME AVE</td>\n",
       "      <td>1310</td>\n",
       "      <td>CRIMINAL DAMAGE</td>\n",
       "      <td>TO PROPERTY</td>\n",
       "      <td>APARTMENT</td>\n",
       "      <td>False</td>\n",
       "      <td>False</td>\n",
       "      <td>2433</td>\n",
       "      <td>24.0</td>\n",
       "      <td>40.0</td>\n",
       "      <td>77.0</td>\n",
       "      <td>14</td>\n",
       "      <td>1163394.0</td>\n",
       "      <td>1941667.0</td>\n",
       "      <td>12/23/2019 03:56:38 PM</td>\n",
       "      <td>41.995575</td>\n",
       "      <td>-87.674309</td>\n",
       "    </tr>\n",
       "  </tbody>\n",
       "</table>\n",
       "</div>"
      ],
      "text/plain": [
       "                     Date                  Block  IUCR     Primary Type  \\\n",
       "0  11/15/2002 12:30:00 PM    003XX N ASHLAND AVE  0810            THEFT   \n",
       "1  04/18/2003 06:10:00 PM        016XX W 18TH ST  0486          BATTERY   \n",
       "2  11/16/2016 09:50:00 PM     009XX S CICERO AVE  1506     PROSTITUTION   \n",
       "3  08/04/2012 05:15:00 PM  072XX S INGLESIDE AVE  0460          BATTERY   \n",
       "4  12/16/2019 04:45:00 PM      017XX W THOME AVE  1310  CRIMINAL DAMAGE   \n",
       "\n",
       "               Description Location Description  Arrest  Domestic  Beat  \\\n",
       "0                OVER $500               STREET   False     False  1333   \n",
       "1  DOMESTIC BATTERY SIMPLE             SIDEWALK   False      True  1222   \n",
       "2    SOLICIT ON PUBLIC WAY               STREET    True     False  1131   \n",
       "3                   SIMPLE                OTHER   False     False   324   \n",
       "4              TO PROPERTY            APARTMENT   False     False  2433   \n",
       "\n",
       "   District  Ward  Community Area FBI Code  X Coordinate  Y Coordinate  \\\n",
       "0      12.0  27.0            28.0       06     1165667.0     1902638.0   \n",
       "1      12.0  25.0            31.0      08B     1165650.0     1891466.0   \n",
       "2      11.0  24.0            25.0       16     1144531.0     1895566.0   \n",
       "3       3.0   5.0            69.0      08B     1183801.0     1857416.0   \n",
       "4      24.0  40.0            77.0       14     1163394.0     1941667.0   \n",
       "\n",
       "               Updated On   Latitude  Longitude  \n",
       "0  02/28/2018 03:56:25 PM  41.888430 -87.667064  \n",
       "1  02/10/2018 03:50:01 PM  41.857773 -87.667445  \n",
       "2  02/10/2018 03:50:01 PM  41.869447 -87.744861  \n",
       "3  02/04/2016 06:33:39 AM  41.763932 -87.601884  \n",
       "4  12/23/2019 03:56:38 PM  41.995575 -87.674309  "
      ]
     },
     "execution_count": 66,
     "metadata": {},
     "output_type": "execute_result"
    }
   ],
   "source": [
    "# remove columns ID and Case Number\n",
    "df = df.drop([\"ID\", \"Case Number\", \"Unnamed: 0\"], 1)\n",
    "df.head()"
   ]
  },
  {
   "cell_type": "code",
   "execution_count": 67,
   "metadata": {},
   "outputs": [
    {
     "name": "stderr",
     "output_type": "stream",
     "text": [
      "/tmp/ipykernel_55137/2088358710.py:7: FutureWarning: Series.dt.weekofyear and Series.dt.week have been deprecated.  Please use Series.dt.isocalendar().week instead.\n",
      "  df['Date Week'] = df['Date'].dt.week\n",
      "/tmp/ipykernel_55137/2088358710.py:14: FutureWarning: Series.dt.weekofyear and Series.dt.week have been deprecated.  Please use Series.dt.isocalendar().week instead.\n",
      "  df['Updated On Week'] = df['Updated On'].dt.week\n",
      "/tmp/ipykernel_55137/2088358710.py:19: FutureWarning: In a future version of pandas all arguments of DataFrame.drop except for the argument 'labels' will be keyword-only\n",
      "  df = df.drop(['Date', 'Updated On'], 1)\n"
     ]
    },
    {
     "data": {
      "text/html": [
       "<div>\n",
       "<style scoped>\n",
       "    .dataframe tbody tr th:only-of-type {\n",
       "        vertical-align: middle;\n",
       "    }\n",
       "\n",
       "    .dataframe tbody tr th {\n",
       "        vertical-align: top;\n",
       "    }\n",
       "\n",
       "    .dataframe thead th {\n",
       "        text-align: right;\n",
       "    }\n",
       "</style>\n",
       "<table border=\"1\" class=\"dataframe\">\n",
       "  <thead>\n",
       "    <tr style=\"text-align: right;\">\n",
       "      <th></th>\n",
       "      <th>Block</th>\n",
       "      <th>IUCR</th>\n",
       "      <th>Primary Type</th>\n",
       "      <th>Description</th>\n",
       "      <th>Location Description</th>\n",
       "      <th>Arrest</th>\n",
       "      <th>Domestic</th>\n",
       "      <th>Beat</th>\n",
       "      <th>District</th>\n",
       "      <th>Ward</th>\n",
       "      <th>Community Area</th>\n",
       "      <th>FBI Code</th>\n",
       "      <th>X Coordinate</th>\n",
       "      <th>Y Coordinate</th>\n",
       "      <th>Latitude</th>\n",
       "      <th>Longitude</th>\n",
       "      <th>Date Hour</th>\n",
       "      <th>Date Day</th>\n",
       "      <th>Date Week</th>\n",
       "      <th>Date Month</th>\n",
       "      <th>Date Year</th>\n",
       "      <th>Date DayofWeek</th>\n",
       "      <th>Updated On Hour</th>\n",
       "      <th>Updated On Day</th>\n",
       "      <th>Updated On Week</th>\n",
       "      <th>Updated On Month</th>\n",
       "      <th>Updated On Year</th>\n",
       "      <th>Updated On DayofWeek</th>\n",
       "    </tr>\n",
       "  </thead>\n",
       "  <tbody>\n",
       "    <tr>\n",
       "      <th>0</th>\n",
       "      <td>003XX N ASHLAND AVE</td>\n",
       "      <td>0810</td>\n",
       "      <td>THEFT</td>\n",
       "      <td>OVER $500</td>\n",
       "      <td>STREET</td>\n",
       "      <td>False</td>\n",
       "      <td>False</td>\n",
       "      <td>1333</td>\n",
       "      <td>12.0</td>\n",
       "      <td>27.0</td>\n",
       "      <td>28.0</td>\n",
       "      <td>06</td>\n",
       "      <td>1165667.0</td>\n",
       "      <td>1902638.0</td>\n",
       "      <td>41.888430</td>\n",
       "      <td>-87.667064</td>\n",
       "      <td>12</td>\n",
       "      <td>15</td>\n",
       "      <td>46</td>\n",
       "      <td>11</td>\n",
       "      <td>2002</td>\n",
       "      <td>4</td>\n",
       "      <td>15</td>\n",
       "      <td>28</td>\n",
       "      <td>9</td>\n",
       "      <td>2</td>\n",
       "      <td>2018</td>\n",
       "      <td>2</td>\n",
       "    </tr>\n",
       "    <tr>\n",
       "      <th>1</th>\n",
       "      <td>016XX W 18TH ST</td>\n",
       "      <td>0486</td>\n",
       "      <td>BATTERY</td>\n",
       "      <td>DOMESTIC BATTERY SIMPLE</td>\n",
       "      <td>SIDEWALK</td>\n",
       "      <td>False</td>\n",
       "      <td>True</td>\n",
       "      <td>1222</td>\n",
       "      <td>12.0</td>\n",
       "      <td>25.0</td>\n",
       "      <td>31.0</td>\n",
       "      <td>08B</td>\n",
       "      <td>1165650.0</td>\n",
       "      <td>1891466.0</td>\n",
       "      <td>41.857773</td>\n",
       "      <td>-87.667445</td>\n",
       "      <td>18</td>\n",
       "      <td>18</td>\n",
       "      <td>16</td>\n",
       "      <td>4</td>\n",
       "      <td>2003</td>\n",
       "      <td>4</td>\n",
       "      <td>15</td>\n",
       "      <td>10</td>\n",
       "      <td>6</td>\n",
       "      <td>2</td>\n",
       "      <td>2018</td>\n",
       "      <td>5</td>\n",
       "    </tr>\n",
       "    <tr>\n",
       "      <th>2</th>\n",
       "      <td>009XX S CICERO AVE</td>\n",
       "      <td>1506</td>\n",
       "      <td>PROSTITUTION</td>\n",
       "      <td>SOLICIT ON PUBLIC WAY</td>\n",
       "      <td>STREET</td>\n",
       "      <td>True</td>\n",
       "      <td>False</td>\n",
       "      <td>1131</td>\n",
       "      <td>11.0</td>\n",
       "      <td>24.0</td>\n",
       "      <td>25.0</td>\n",
       "      <td>16</td>\n",
       "      <td>1144531.0</td>\n",
       "      <td>1895566.0</td>\n",
       "      <td>41.869447</td>\n",
       "      <td>-87.744861</td>\n",
       "      <td>21</td>\n",
       "      <td>16</td>\n",
       "      <td>46</td>\n",
       "      <td>11</td>\n",
       "      <td>2016</td>\n",
       "      <td>2</td>\n",
       "      <td>15</td>\n",
       "      <td>10</td>\n",
       "      <td>6</td>\n",
       "      <td>2</td>\n",
       "      <td>2018</td>\n",
       "      <td>5</td>\n",
       "    </tr>\n",
       "    <tr>\n",
       "      <th>3</th>\n",
       "      <td>072XX S INGLESIDE AVE</td>\n",
       "      <td>0460</td>\n",
       "      <td>BATTERY</td>\n",
       "      <td>SIMPLE</td>\n",
       "      <td>OTHER</td>\n",
       "      <td>False</td>\n",
       "      <td>False</td>\n",
       "      <td>324</td>\n",
       "      <td>3.0</td>\n",
       "      <td>5.0</td>\n",
       "      <td>69.0</td>\n",
       "      <td>08B</td>\n",
       "      <td>1183801.0</td>\n",
       "      <td>1857416.0</td>\n",
       "      <td>41.763932</td>\n",
       "      <td>-87.601884</td>\n",
       "      <td>17</td>\n",
       "      <td>4</td>\n",
       "      <td>31</td>\n",
       "      <td>8</td>\n",
       "      <td>2012</td>\n",
       "      <td>5</td>\n",
       "      <td>6</td>\n",
       "      <td>4</td>\n",
       "      <td>5</td>\n",
       "      <td>2</td>\n",
       "      <td>2016</td>\n",
       "      <td>3</td>\n",
       "    </tr>\n",
       "    <tr>\n",
       "      <th>4</th>\n",
       "      <td>017XX W THOME AVE</td>\n",
       "      <td>1310</td>\n",
       "      <td>CRIMINAL DAMAGE</td>\n",
       "      <td>TO PROPERTY</td>\n",
       "      <td>APARTMENT</td>\n",
       "      <td>False</td>\n",
       "      <td>False</td>\n",
       "      <td>2433</td>\n",
       "      <td>24.0</td>\n",
       "      <td>40.0</td>\n",
       "      <td>77.0</td>\n",
       "      <td>14</td>\n",
       "      <td>1163394.0</td>\n",
       "      <td>1941667.0</td>\n",
       "      <td>41.995575</td>\n",
       "      <td>-87.674309</td>\n",
       "      <td>16</td>\n",
       "      <td>16</td>\n",
       "      <td>51</td>\n",
       "      <td>12</td>\n",
       "      <td>2019</td>\n",
       "      <td>0</td>\n",
       "      <td>15</td>\n",
       "      <td>23</td>\n",
       "      <td>52</td>\n",
       "      <td>12</td>\n",
       "      <td>2019</td>\n",
       "      <td>0</td>\n",
       "    </tr>\n",
       "  </tbody>\n",
       "</table>\n",
       "</div>"
      ],
      "text/plain": [
       "                   Block  IUCR     Primary Type              Description  \\\n",
       "0    003XX N ASHLAND AVE  0810            THEFT                OVER $500   \n",
       "1        016XX W 18TH ST  0486          BATTERY  DOMESTIC BATTERY SIMPLE   \n",
       "2     009XX S CICERO AVE  1506     PROSTITUTION    SOLICIT ON PUBLIC WAY   \n",
       "3  072XX S INGLESIDE AVE  0460          BATTERY                   SIMPLE   \n",
       "4      017XX W THOME AVE  1310  CRIMINAL DAMAGE              TO PROPERTY   \n",
       "\n",
       "  Location Description  Arrest  Domestic  Beat  District  Ward  \\\n",
       "0               STREET   False     False  1333      12.0  27.0   \n",
       "1             SIDEWALK   False      True  1222      12.0  25.0   \n",
       "2               STREET    True     False  1131      11.0  24.0   \n",
       "3                OTHER   False     False   324       3.0   5.0   \n",
       "4            APARTMENT   False     False  2433      24.0  40.0   \n",
       "\n",
       "   Community Area FBI Code  X Coordinate  Y Coordinate   Latitude  Longitude  \\\n",
       "0            28.0       06     1165667.0     1902638.0  41.888430 -87.667064   \n",
       "1            31.0      08B     1165650.0     1891466.0  41.857773 -87.667445   \n",
       "2            25.0       16     1144531.0     1895566.0  41.869447 -87.744861   \n",
       "3            69.0      08B     1183801.0     1857416.0  41.763932 -87.601884   \n",
       "4            77.0       14     1163394.0     1941667.0  41.995575 -87.674309   \n",
       "\n",
       "   Date Hour  Date Day  Date Week  Date Month  Date Year  Date DayofWeek  \\\n",
       "0         12        15         46          11       2002               4   \n",
       "1         18        18         16           4       2003               4   \n",
       "2         21        16         46          11       2016               2   \n",
       "3         17         4         31           8       2012               5   \n",
       "4         16        16         51          12       2019               0   \n",
       "\n",
       "   Updated On Hour  Updated On Day  Updated On Week  Updated On Month  \\\n",
       "0               15              28                9                 2   \n",
       "1               15              10                6                 2   \n",
       "2               15              10                6                 2   \n",
       "3                6               4                5                 2   \n",
       "4               15              23               52                12   \n",
       "\n",
       "   Updated On Year  Updated On DayofWeek  \n",
       "0             2018                     2  \n",
       "1             2018                     5  \n",
       "2             2018                     5  \n",
       "3             2016                     3  \n",
       "4             2019                     0  "
      ]
     },
     "execution_count": 67,
     "metadata": {},
     "output_type": "execute_result"
    }
   ],
   "source": [
    "# Make features from Date and Updated On\n",
    "df['Date'] = pd.to_datetime(df['Date'])\n",
    "df['Updated On'] = pd.to_datetime(df['Updated On'])\n",
    "\n",
    "df['Date Hour'] = df['Date'].dt.hour\n",
    "df['Date Day'] = df['Date'].dt.day\n",
    "df['Date Week'] = df['Date'].dt.week\n",
    "df['Date Month'] = df['Date'].dt.month\n",
    "df['Date Year'] = df['Date'].dt.year\n",
    "df['Date DayofWeek'] = df['Date'].dt.dayofweek\n",
    "\n",
    "df['Updated On Hour'] = df['Updated On'].dt.hour\n",
    "df['Updated On Day'] = df['Updated On'].dt.day\n",
    "df['Updated On Week'] = df['Updated On'].dt.week\n",
    "df['Updated On Month'] = df['Updated On'].dt.month\n",
    "df['Updated On Year'] = df['Updated On'].dt.year\n",
    "df['Updated On DayofWeek'] = df['Updated On'].dt.dayofweek\n",
    "\n",
    "df = df.drop(['Date', 'Updated On'], 1)\n",
    "\n",
    "df.head()"
   ]
  },
  {
   "cell_type": "code",
   "execution_count": 68,
   "metadata": {},
   "outputs": [
    {
     "name": "stderr",
     "output_type": "stream",
     "text": [
      "/tmp/ipykernel_55137/2281929613.py:4: FutureWarning: In a future version of pandas all arguments of DataFrame.drop except for the argument 'labels' will be keyword-only\n",
      "  df = df.drop(\"Block\", 1)\n"
     ]
    },
    {
     "data": {
      "text/html": [
       "<div>\n",
       "<style scoped>\n",
       "    .dataframe tbody tr th:only-of-type {\n",
       "        vertical-align: middle;\n",
       "    }\n",
       "\n",
       "    .dataframe tbody tr th {\n",
       "        vertical-align: top;\n",
       "    }\n",
       "\n",
       "    .dataframe thead th {\n",
       "        text-align: right;\n",
       "    }\n",
       "</style>\n",
       "<table border=\"1\" class=\"dataframe\">\n",
       "  <thead>\n",
       "    <tr style=\"text-align: right;\">\n",
       "      <th></th>\n",
       "      <th>IUCR</th>\n",
       "      <th>Primary Type</th>\n",
       "      <th>Description</th>\n",
       "      <th>Location Description</th>\n",
       "      <th>Arrest</th>\n",
       "      <th>Domestic</th>\n",
       "      <th>Beat</th>\n",
       "      <th>District</th>\n",
       "      <th>Ward</th>\n",
       "      <th>Community Area</th>\n",
       "      <th>FBI Code</th>\n",
       "      <th>X Coordinate</th>\n",
       "      <th>Y Coordinate</th>\n",
       "      <th>Latitude</th>\n",
       "      <th>Longitude</th>\n",
       "      <th>Date Hour</th>\n",
       "      <th>Date Day</th>\n",
       "      <th>Date Week</th>\n",
       "      <th>Date Month</th>\n",
       "      <th>Date Year</th>\n",
       "      <th>Date DayofWeek</th>\n",
       "      <th>Updated On Hour</th>\n",
       "      <th>Updated On Day</th>\n",
       "      <th>Updated On Week</th>\n",
       "      <th>Updated On Month</th>\n",
       "      <th>Updated On Year</th>\n",
       "      <th>Updated On DayofWeek</th>\n",
       "      <th>Block Name</th>\n",
       "      <th>Block Direction</th>\n",
       "    </tr>\n",
       "  </thead>\n",
       "  <tbody>\n",
       "    <tr>\n",
       "      <th>0</th>\n",
       "      <td>0810</td>\n",
       "      <td>THEFT</td>\n",
       "      <td>OVER $500</td>\n",
       "      <td>STREET</td>\n",
       "      <td>False</td>\n",
       "      <td>False</td>\n",
       "      <td>1333</td>\n",
       "      <td>12.0</td>\n",
       "      <td>27.0</td>\n",
       "      <td>28.0</td>\n",
       "      <td>06</td>\n",
       "      <td>1165667.0</td>\n",
       "      <td>1902638.0</td>\n",
       "      <td>41.888430</td>\n",
       "      <td>-87.667064</td>\n",
       "      <td>12</td>\n",
       "      <td>15</td>\n",
       "      <td>46</td>\n",
       "      <td>11</td>\n",
       "      <td>2002</td>\n",
       "      <td>4</td>\n",
       "      <td>15</td>\n",
       "      <td>28</td>\n",
       "      <td>9</td>\n",
       "      <td>2</td>\n",
       "      <td>2018</td>\n",
       "      <td>2</td>\n",
       "      <td>ASHLAND AVE</td>\n",
       "      <td>N</td>\n",
       "    </tr>\n",
       "    <tr>\n",
       "      <th>1</th>\n",
       "      <td>0486</td>\n",
       "      <td>BATTERY</td>\n",
       "      <td>DOMESTIC BATTERY SIMPLE</td>\n",
       "      <td>SIDEWALK</td>\n",
       "      <td>False</td>\n",
       "      <td>True</td>\n",
       "      <td>1222</td>\n",
       "      <td>12.0</td>\n",
       "      <td>25.0</td>\n",
       "      <td>31.0</td>\n",
       "      <td>08B</td>\n",
       "      <td>1165650.0</td>\n",
       "      <td>1891466.0</td>\n",
       "      <td>41.857773</td>\n",
       "      <td>-87.667445</td>\n",
       "      <td>18</td>\n",
       "      <td>18</td>\n",
       "      <td>16</td>\n",
       "      <td>4</td>\n",
       "      <td>2003</td>\n",
       "      <td>4</td>\n",
       "      <td>15</td>\n",
       "      <td>10</td>\n",
       "      <td>6</td>\n",
       "      <td>2</td>\n",
       "      <td>2018</td>\n",
       "      <td>5</td>\n",
       "      <td>18TH ST</td>\n",
       "      <td>W</td>\n",
       "    </tr>\n",
       "    <tr>\n",
       "      <th>2</th>\n",
       "      <td>1506</td>\n",
       "      <td>PROSTITUTION</td>\n",
       "      <td>SOLICIT ON PUBLIC WAY</td>\n",
       "      <td>STREET</td>\n",
       "      <td>True</td>\n",
       "      <td>False</td>\n",
       "      <td>1131</td>\n",
       "      <td>11.0</td>\n",
       "      <td>24.0</td>\n",
       "      <td>25.0</td>\n",
       "      <td>16</td>\n",
       "      <td>1144531.0</td>\n",
       "      <td>1895566.0</td>\n",
       "      <td>41.869447</td>\n",
       "      <td>-87.744861</td>\n",
       "      <td>21</td>\n",
       "      <td>16</td>\n",
       "      <td>46</td>\n",
       "      <td>11</td>\n",
       "      <td>2016</td>\n",
       "      <td>2</td>\n",
       "      <td>15</td>\n",
       "      <td>10</td>\n",
       "      <td>6</td>\n",
       "      <td>2</td>\n",
       "      <td>2018</td>\n",
       "      <td>5</td>\n",
       "      <td>CICERO AVE</td>\n",
       "      <td>S</td>\n",
       "    </tr>\n",
       "    <tr>\n",
       "      <th>3</th>\n",
       "      <td>0460</td>\n",
       "      <td>BATTERY</td>\n",
       "      <td>SIMPLE</td>\n",
       "      <td>OTHER</td>\n",
       "      <td>False</td>\n",
       "      <td>False</td>\n",
       "      <td>324</td>\n",
       "      <td>3.0</td>\n",
       "      <td>5.0</td>\n",
       "      <td>69.0</td>\n",
       "      <td>08B</td>\n",
       "      <td>1183801.0</td>\n",
       "      <td>1857416.0</td>\n",
       "      <td>41.763932</td>\n",
       "      <td>-87.601884</td>\n",
       "      <td>17</td>\n",
       "      <td>4</td>\n",
       "      <td>31</td>\n",
       "      <td>8</td>\n",
       "      <td>2012</td>\n",
       "      <td>5</td>\n",
       "      <td>6</td>\n",
       "      <td>4</td>\n",
       "      <td>5</td>\n",
       "      <td>2</td>\n",
       "      <td>2016</td>\n",
       "      <td>3</td>\n",
       "      <td>INGLESIDE AVE</td>\n",
       "      <td>S</td>\n",
       "    </tr>\n",
       "    <tr>\n",
       "      <th>4</th>\n",
       "      <td>1310</td>\n",
       "      <td>CRIMINAL DAMAGE</td>\n",
       "      <td>TO PROPERTY</td>\n",
       "      <td>APARTMENT</td>\n",
       "      <td>False</td>\n",
       "      <td>False</td>\n",
       "      <td>2433</td>\n",
       "      <td>24.0</td>\n",
       "      <td>40.0</td>\n",
       "      <td>77.0</td>\n",
       "      <td>14</td>\n",
       "      <td>1163394.0</td>\n",
       "      <td>1941667.0</td>\n",
       "      <td>41.995575</td>\n",
       "      <td>-87.674309</td>\n",
       "      <td>16</td>\n",
       "      <td>16</td>\n",
       "      <td>51</td>\n",
       "      <td>12</td>\n",
       "      <td>2019</td>\n",
       "      <td>0</td>\n",
       "      <td>15</td>\n",
       "      <td>23</td>\n",
       "      <td>52</td>\n",
       "      <td>12</td>\n",
       "      <td>2019</td>\n",
       "      <td>0</td>\n",
       "      <td>THOME AVE</td>\n",
       "      <td>W</td>\n",
       "    </tr>\n",
       "  </tbody>\n",
       "</table>\n",
       "</div>"
      ],
      "text/plain": [
       "   IUCR     Primary Type              Description Location Description  \\\n",
       "0  0810            THEFT                OVER $500               STREET   \n",
       "1  0486          BATTERY  DOMESTIC BATTERY SIMPLE             SIDEWALK   \n",
       "2  1506     PROSTITUTION    SOLICIT ON PUBLIC WAY               STREET   \n",
       "3  0460          BATTERY                   SIMPLE                OTHER   \n",
       "4  1310  CRIMINAL DAMAGE              TO PROPERTY            APARTMENT   \n",
       "\n",
       "   Arrest  Domestic  Beat  District  Ward  Community Area FBI Code  \\\n",
       "0   False     False  1333      12.0  27.0            28.0       06   \n",
       "1   False      True  1222      12.0  25.0            31.0      08B   \n",
       "2    True     False  1131      11.0  24.0            25.0       16   \n",
       "3   False     False   324       3.0   5.0            69.0      08B   \n",
       "4   False     False  2433      24.0  40.0            77.0       14   \n",
       "\n",
       "   X Coordinate  Y Coordinate   Latitude  Longitude  Date Hour  Date Day  \\\n",
       "0     1165667.0     1902638.0  41.888430 -87.667064         12        15   \n",
       "1     1165650.0     1891466.0  41.857773 -87.667445         18        18   \n",
       "2     1144531.0     1895566.0  41.869447 -87.744861         21        16   \n",
       "3     1183801.0     1857416.0  41.763932 -87.601884         17         4   \n",
       "4     1163394.0     1941667.0  41.995575 -87.674309         16        16   \n",
       "\n",
       "   Date Week  Date Month  Date Year  Date DayofWeek  Updated On Hour  \\\n",
       "0         46          11       2002               4               15   \n",
       "1         16           4       2003               4               15   \n",
       "2         46          11       2016               2               15   \n",
       "3         31           8       2012               5                6   \n",
       "4         51          12       2019               0               15   \n",
       "\n",
       "   Updated On Day  Updated On Week  Updated On Month  Updated On Year  \\\n",
       "0              28                9                 2             2018   \n",
       "1              10                6                 2             2018   \n",
       "2              10                6                 2             2018   \n",
       "3               4                5                 2             2016   \n",
       "4              23               52                12             2019   \n",
       "\n",
       "   Updated On DayofWeek     Block Name Block Direction  \n",
       "0                     2    ASHLAND AVE               N  \n",
       "1                     5        18TH ST               W  \n",
       "2                     5     CICERO AVE               S  \n",
       "3                     3  INGLESIDE AVE               S  \n",
       "4                     0      THOME AVE               W  "
      ]
     },
     "execution_count": 68,
     "metadata": {},
     "output_type": "execute_result"
    }
   ],
   "source": [
    "# Make features on Block \n",
    "df['Block Name'] = df['Block'].apply(lambda x: x[8:])\n",
    "df['Block Direction'] = df['Block'].apply(lambda x: x[6:7])\n",
    "df = df.drop(\"Block\", 1)\n",
    "df.head()"
   ]
  },
  {
   "cell_type": "code",
   "execution_count": 69,
   "metadata": {},
   "outputs": [
    {
     "data": {
      "text/html": [
       "<div>\n",
       "<style scoped>\n",
       "    .dataframe tbody tr th:only-of-type {\n",
       "        vertical-align: middle;\n",
       "    }\n",
       "\n",
       "    .dataframe tbody tr th {\n",
       "        vertical-align: top;\n",
       "    }\n",
       "\n",
       "    .dataframe thead th {\n",
       "        text-align: right;\n",
       "    }\n",
       "</style>\n",
       "<table border=\"1\" class=\"dataframe\">\n",
       "  <thead>\n",
       "    <tr style=\"text-align: right;\">\n",
       "      <th></th>\n",
       "      <th>IUCR</th>\n",
       "      <th>Primary Type</th>\n",
       "      <th>Description</th>\n",
       "      <th>Location Description</th>\n",
       "      <th>Arrest</th>\n",
       "      <th>Domestic</th>\n",
       "      <th>Beat</th>\n",
       "      <th>District</th>\n",
       "      <th>Ward</th>\n",
       "      <th>Community Area</th>\n",
       "      <th>FBI Code</th>\n",
       "      <th>X Coordinate</th>\n",
       "      <th>Y Coordinate</th>\n",
       "      <th>Latitude</th>\n",
       "      <th>Longitude</th>\n",
       "      <th>Date Hour</th>\n",
       "      <th>Date Day</th>\n",
       "      <th>Date Week</th>\n",
       "      <th>Date Month</th>\n",
       "      <th>Date Year</th>\n",
       "      <th>Date DayofWeek</th>\n",
       "      <th>Updated On Hour</th>\n",
       "      <th>Updated On Day</th>\n",
       "      <th>Updated On Week</th>\n",
       "      <th>Updated On Month</th>\n",
       "      <th>Updated On Year</th>\n",
       "      <th>Updated On DayofWeek</th>\n",
       "      <th>Block Name</th>\n",
       "      <th>Block Direction</th>\n",
       "    </tr>\n",
       "  </thead>\n",
       "  <tbody>\n",
       "    <tr>\n",
       "      <th>0</th>\n",
       "      <td>0810</td>\n",
       "      <td>THEFT</td>\n",
       "      <td>OVER $500</td>\n",
       "      <td>STREET</td>\n",
       "      <td>0</td>\n",
       "      <td>0</td>\n",
       "      <td>1333</td>\n",
       "      <td>12.0</td>\n",
       "      <td>27.0</td>\n",
       "      <td>28.0</td>\n",
       "      <td>06</td>\n",
       "      <td>1165667.0</td>\n",
       "      <td>1902638.0</td>\n",
       "      <td>41.888430</td>\n",
       "      <td>-87.667064</td>\n",
       "      <td>12</td>\n",
       "      <td>15</td>\n",
       "      <td>46</td>\n",
       "      <td>11</td>\n",
       "      <td>2002</td>\n",
       "      <td>4</td>\n",
       "      <td>15</td>\n",
       "      <td>28</td>\n",
       "      <td>9</td>\n",
       "      <td>2</td>\n",
       "      <td>2018</td>\n",
       "      <td>2</td>\n",
       "      <td>ASHLAND AVE</td>\n",
       "      <td>N</td>\n",
       "    </tr>\n",
       "    <tr>\n",
       "      <th>1</th>\n",
       "      <td>0486</td>\n",
       "      <td>BATTERY</td>\n",
       "      <td>DOMESTIC BATTERY SIMPLE</td>\n",
       "      <td>SIDEWALK</td>\n",
       "      <td>0</td>\n",
       "      <td>1</td>\n",
       "      <td>1222</td>\n",
       "      <td>12.0</td>\n",
       "      <td>25.0</td>\n",
       "      <td>31.0</td>\n",
       "      <td>08B</td>\n",
       "      <td>1165650.0</td>\n",
       "      <td>1891466.0</td>\n",
       "      <td>41.857773</td>\n",
       "      <td>-87.667445</td>\n",
       "      <td>18</td>\n",
       "      <td>18</td>\n",
       "      <td>16</td>\n",
       "      <td>4</td>\n",
       "      <td>2003</td>\n",
       "      <td>4</td>\n",
       "      <td>15</td>\n",
       "      <td>10</td>\n",
       "      <td>6</td>\n",
       "      <td>2</td>\n",
       "      <td>2018</td>\n",
       "      <td>5</td>\n",
       "      <td>18TH ST</td>\n",
       "      <td>W</td>\n",
       "    </tr>\n",
       "    <tr>\n",
       "      <th>2</th>\n",
       "      <td>1506</td>\n",
       "      <td>PROSTITUTION</td>\n",
       "      <td>SOLICIT ON PUBLIC WAY</td>\n",
       "      <td>STREET</td>\n",
       "      <td>1</td>\n",
       "      <td>0</td>\n",
       "      <td>1131</td>\n",
       "      <td>11.0</td>\n",
       "      <td>24.0</td>\n",
       "      <td>25.0</td>\n",
       "      <td>16</td>\n",
       "      <td>1144531.0</td>\n",
       "      <td>1895566.0</td>\n",
       "      <td>41.869447</td>\n",
       "      <td>-87.744861</td>\n",
       "      <td>21</td>\n",
       "      <td>16</td>\n",
       "      <td>46</td>\n",
       "      <td>11</td>\n",
       "      <td>2016</td>\n",
       "      <td>2</td>\n",
       "      <td>15</td>\n",
       "      <td>10</td>\n",
       "      <td>6</td>\n",
       "      <td>2</td>\n",
       "      <td>2018</td>\n",
       "      <td>5</td>\n",
       "      <td>CICERO AVE</td>\n",
       "      <td>S</td>\n",
       "    </tr>\n",
       "    <tr>\n",
       "      <th>3</th>\n",
       "      <td>0460</td>\n",
       "      <td>BATTERY</td>\n",
       "      <td>SIMPLE</td>\n",
       "      <td>OTHER</td>\n",
       "      <td>0</td>\n",
       "      <td>0</td>\n",
       "      <td>324</td>\n",
       "      <td>3.0</td>\n",
       "      <td>5.0</td>\n",
       "      <td>69.0</td>\n",
       "      <td>08B</td>\n",
       "      <td>1183801.0</td>\n",
       "      <td>1857416.0</td>\n",
       "      <td>41.763932</td>\n",
       "      <td>-87.601884</td>\n",
       "      <td>17</td>\n",
       "      <td>4</td>\n",
       "      <td>31</td>\n",
       "      <td>8</td>\n",
       "      <td>2012</td>\n",
       "      <td>5</td>\n",
       "      <td>6</td>\n",
       "      <td>4</td>\n",
       "      <td>5</td>\n",
       "      <td>2</td>\n",
       "      <td>2016</td>\n",
       "      <td>3</td>\n",
       "      <td>INGLESIDE AVE</td>\n",
       "      <td>S</td>\n",
       "    </tr>\n",
       "    <tr>\n",
       "      <th>4</th>\n",
       "      <td>1310</td>\n",
       "      <td>CRIMINAL DAMAGE</td>\n",
       "      <td>TO PROPERTY</td>\n",
       "      <td>APARTMENT</td>\n",
       "      <td>0</td>\n",
       "      <td>0</td>\n",
       "      <td>2433</td>\n",
       "      <td>24.0</td>\n",
       "      <td>40.0</td>\n",
       "      <td>77.0</td>\n",
       "      <td>14</td>\n",
       "      <td>1163394.0</td>\n",
       "      <td>1941667.0</td>\n",
       "      <td>41.995575</td>\n",
       "      <td>-87.674309</td>\n",
       "      <td>16</td>\n",
       "      <td>16</td>\n",
       "      <td>51</td>\n",
       "      <td>12</td>\n",
       "      <td>2019</td>\n",
       "      <td>0</td>\n",
       "      <td>15</td>\n",
       "      <td>23</td>\n",
       "      <td>52</td>\n",
       "      <td>12</td>\n",
       "      <td>2019</td>\n",
       "      <td>0</td>\n",
       "      <td>THOME AVE</td>\n",
       "      <td>W</td>\n",
       "    </tr>\n",
       "  </tbody>\n",
       "</table>\n",
       "</div>"
      ],
      "text/plain": [
       "   IUCR     Primary Type              Description Location Description  \\\n",
       "0  0810            THEFT                OVER $500               STREET   \n",
       "1  0486          BATTERY  DOMESTIC BATTERY SIMPLE             SIDEWALK   \n",
       "2  1506     PROSTITUTION    SOLICIT ON PUBLIC WAY               STREET   \n",
       "3  0460          BATTERY                   SIMPLE                OTHER   \n",
       "4  1310  CRIMINAL DAMAGE              TO PROPERTY            APARTMENT   \n",
       "\n",
       "   Arrest  Domestic  Beat  District  Ward  Community Area FBI Code  \\\n",
       "0       0         0  1333      12.0  27.0            28.0       06   \n",
       "1       0         1  1222      12.0  25.0            31.0      08B   \n",
       "2       1         0  1131      11.0  24.0            25.0       16   \n",
       "3       0         0   324       3.0   5.0            69.0      08B   \n",
       "4       0         0  2433      24.0  40.0            77.0       14   \n",
       "\n",
       "   X Coordinate  Y Coordinate   Latitude  Longitude  Date Hour  Date Day  \\\n",
       "0     1165667.0     1902638.0  41.888430 -87.667064         12        15   \n",
       "1     1165650.0     1891466.0  41.857773 -87.667445         18        18   \n",
       "2     1144531.0     1895566.0  41.869447 -87.744861         21        16   \n",
       "3     1183801.0     1857416.0  41.763932 -87.601884         17         4   \n",
       "4     1163394.0     1941667.0  41.995575 -87.674309         16        16   \n",
       "\n",
       "   Date Week  Date Month  Date Year  Date DayofWeek  Updated On Hour  \\\n",
       "0         46          11       2002               4               15   \n",
       "1         16           4       2003               4               15   \n",
       "2         46          11       2016               2               15   \n",
       "3         31           8       2012               5                6   \n",
       "4         51          12       2019               0               15   \n",
       "\n",
       "   Updated On Day  Updated On Week  Updated On Month  Updated On Year  \\\n",
       "0              28                9                 2             2018   \n",
       "1              10                6                 2             2018   \n",
       "2              10                6                 2             2018   \n",
       "3               4                5                 2             2016   \n",
       "4              23               52                12             2019   \n",
       "\n",
       "   Updated On DayofWeek     Block Name Block Direction  \n",
       "0                     2    ASHLAND AVE               N  \n",
       "1                     5        18TH ST               W  \n",
       "2                     5     CICERO AVE               S  \n",
       "3                     3  INGLESIDE AVE               S  \n",
       "4                     0      THOME AVE               W  "
      ]
     },
     "execution_count": 69,
     "metadata": {},
     "output_type": "execute_result"
    }
   ],
   "source": [
    "# Binarise the Arrest and Domestic\n",
    "df['Arrest'] = df['Arrest'].map({False:0, True:1}).astype(int)\n",
    "df['Domestic'] = df['Domestic'].map({False:0, True:1}).astype(int)\n",
    "df.head()"
   ]
  },
  {
   "cell_type": "code",
   "execution_count": 70,
   "metadata": {},
   "outputs": [],
   "source": [
    "df.to_csv('prep_data.csv', index=False)"
   ]
  },
  {
   "cell_type": "code",
   "execution_count": 76,
   "metadata": {},
   "outputs": [
    {
     "data": {
      "text/html": [
       "<div>\n",
       "<style scoped>\n",
       "    .dataframe tbody tr th:only-of-type {\n",
       "        vertical-align: middle;\n",
       "    }\n",
       "\n",
       "    .dataframe tbody tr th {\n",
       "        vertical-align: top;\n",
       "    }\n",
       "\n",
       "    .dataframe thead th {\n",
       "        text-align: right;\n",
       "    }\n",
       "</style>\n",
       "<table border=\"1\" class=\"dataframe\">\n",
       "  <thead>\n",
       "    <tr style=\"text-align: right;\">\n",
       "      <th></th>\n",
       "      <th>IUCR</th>\n",
       "      <th>Primary Type</th>\n",
       "      <th>Description</th>\n",
       "      <th>Location Description</th>\n",
       "      <th>Arrest</th>\n",
       "      <th>Domestic</th>\n",
       "      <th>Beat</th>\n",
       "      <th>District</th>\n",
       "      <th>Ward</th>\n",
       "      <th>Community Area</th>\n",
       "      <th>FBI Code</th>\n",
       "      <th>X Coordinate</th>\n",
       "      <th>Y Coordinate</th>\n",
       "      <th>Latitude</th>\n",
       "      <th>Longitude</th>\n",
       "      <th>Date Hour</th>\n",
       "      <th>Date Day</th>\n",
       "      <th>Date Week</th>\n",
       "      <th>Date Month</th>\n",
       "      <th>Date Year</th>\n",
       "      <th>Date DayofWeek</th>\n",
       "      <th>Updated On Hour</th>\n",
       "      <th>Updated On Day</th>\n",
       "      <th>Updated On Week</th>\n",
       "      <th>Updated On Month</th>\n",
       "      <th>Updated On Year</th>\n",
       "      <th>Updated On DayofWeek</th>\n",
       "      <th>Block Name</th>\n",
       "      <th>Block Direction</th>\n",
       "    </tr>\n",
       "  </thead>\n",
       "  <tbody>\n",
       "    <tr>\n",
       "      <th>0</th>\n",
       "      <td>0810</td>\n",
       "      <td>THEFT</td>\n",
       "      <td>OVER $500</td>\n",
       "      <td>STREET</td>\n",
       "      <td>0</td>\n",
       "      <td>0</td>\n",
       "      <td>1333</td>\n",
       "      <td>12.0</td>\n",
       "      <td>27.0</td>\n",
       "      <td>28.0</td>\n",
       "      <td>06</td>\n",
       "      <td>1165667.0</td>\n",
       "      <td>1902638.0</td>\n",
       "      <td>41.888430</td>\n",
       "      <td>-87.667064</td>\n",
       "      <td>12</td>\n",
       "      <td>15</td>\n",
       "      <td>46</td>\n",
       "      <td>11</td>\n",
       "      <td>2002</td>\n",
       "      <td>4</td>\n",
       "      <td>15</td>\n",
       "      <td>28</td>\n",
       "      <td>9</td>\n",
       "      <td>2</td>\n",
       "      <td>2018</td>\n",
       "      <td>2</td>\n",
       "      <td>ASHLAND AVE</td>\n",
       "      <td>N</td>\n",
       "    </tr>\n",
       "    <tr>\n",
       "      <th>1</th>\n",
       "      <td>0486</td>\n",
       "      <td>BATTERY</td>\n",
       "      <td>DOMESTIC BATTERY SIMPLE</td>\n",
       "      <td>SIDEWALK</td>\n",
       "      <td>0</td>\n",
       "      <td>1</td>\n",
       "      <td>1222</td>\n",
       "      <td>12.0</td>\n",
       "      <td>25.0</td>\n",
       "      <td>31.0</td>\n",
       "      <td>08B</td>\n",
       "      <td>1165650.0</td>\n",
       "      <td>1891466.0</td>\n",
       "      <td>41.857773</td>\n",
       "      <td>-87.667445</td>\n",
       "      <td>18</td>\n",
       "      <td>18</td>\n",
       "      <td>16</td>\n",
       "      <td>4</td>\n",
       "      <td>2003</td>\n",
       "      <td>4</td>\n",
       "      <td>15</td>\n",
       "      <td>10</td>\n",
       "      <td>6</td>\n",
       "      <td>2</td>\n",
       "      <td>2018</td>\n",
       "      <td>5</td>\n",
       "      <td>18TH ST</td>\n",
       "      <td>W</td>\n",
       "    </tr>\n",
       "    <tr>\n",
       "      <th>2</th>\n",
       "      <td>1506</td>\n",
       "      <td>PROSTITUTION</td>\n",
       "      <td>SOLICIT ON PUBLIC WAY</td>\n",
       "      <td>STREET</td>\n",
       "      <td>1</td>\n",
       "      <td>0</td>\n",
       "      <td>1131</td>\n",
       "      <td>11.0</td>\n",
       "      <td>24.0</td>\n",
       "      <td>25.0</td>\n",
       "      <td>16</td>\n",
       "      <td>1144531.0</td>\n",
       "      <td>1895566.0</td>\n",
       "      <td>41.869447</td>\n",
       "      <td>-87.744861</td>\n",
       "      <td>21</td>\n",
       "      <td>16</td>\n",
       "      <td>46</td>\n",
       "      <td>11</td>\n",
       "      <td>2016</td>\n",
       "      <td>2</td>\n",
       "      <td>15</td>\n",
       "      <td>10</td>\n",
       "      <td>6</td>\n",
       "      <td>2</td>\n",
       "      <td>2018</td>\n",
       "      <td>5</td>\n",
       "      <td>CICERO AVE</td>\n",
       "      <td>S</td>\n",
       "    </tr>\n",
       "    <tr>\n",
       "      <th>3</th>\n",
       "      <td>0460</td>\n",
       "      <td>BATTERY</td>\n",
       "      <td>SIMPLE</td>\n",
       "      <td>OTHER</td>\n",
       "      <td>0</td>\n",
       "      <td>0</td>\n",
       "      <td>324</td>\n",
       "      <td>3.0</td>\n",
       "      <td>5.0</td>\n",
       "      <td>69.0</td>\n",
       "      <td>08B</td>\n",
       "      <td>1183801.0</td>\n",
       "      <td>1857416.0</td>\n",
       "      <td>41.763932</td>\n",
       "      <td>-87.601884</td>\n",
       "      <td>17</td>\n",
       "      <td>4</td>\n",
       "      <td>31</td>\n",
       "      <td>8</td>\n",
       "      <td>2012</td>\n",
       "      <td>5</td>\n",
       "      <td>6</td>\n",
       "      <td>4</td>\n",
       "      <td>5</td>\n",
       "      <td>2</td>\n",
       "      <td>2016</td>\n",
       "      <td>3</td>\n",
       "      <td>INGLESIDE AVE</td>\n",
       "      <td>S</td>\n",
       "    </tr>\n",
       "    <tr>\n",
       "      <th>4</th>\n",
       "      <td>1310</td>\n",
       "      <td>CRIMINAL DAMAGE</td>\n",
       "      <td>TO PROPERTY</td>\n",
       "      <td>APARTMENT</td>\n",
       "      <td>0</td>\n",
       "      <td>0</td>\n",
       "      <td>2433</td>\n",
       "      <td>24.0</td>\n",
       "      <td>40.0</td>\n",
       "      <td>77.0</td>\n",
       "      <td>14</td>\n",
       "      <td>1163394.0</td>\n",
       "      <td>1941667.0</td>\n",
       "      <td>41.995575</td>\n",
       "      <td>-87.674309</td>\n",
       "      <td>16</td>\n",
       "      <td>16</td>\n",
       "      <td>51</td>\n",
       "      <td>12</td>\n",
       "      <td>2019</td>\n",
       "      <td>0</td>\n",
       "      <td>15</td>\n",
       "      <td>23</td>\n",
       "      <td>52</td>\n",
       "      <td>12</td>\n",
       "      <td>2019</td>\n",
       "      <td>0</td>\n",
       "      <td>THOME AVE</td>\n",
       "      <td>W</td>\n",
       "    </tr>\n",
       "  </tbody>\n",
       "</table>\n",
       "</div>"
      ],
      "text/plain": [
       "   IUCR     Primary Type              Description Location Description  \\\n",
       "0  0810            THEFT                OVER $500               STREET   \n",
       "1  0486          BATTERY  DOMESTIC BATTERY SIMPLE             SIDEWALK   \n",
       "2  1506     PROSTITUTION    SOLICIT ON PUBLIC WAY               STREET   \n",
       "3  0460          BATTERY                   SIMPLE                OTHER   \n",
       "4  1310  CRIMINAL DAMAGE              TO PROPERTY            APARTMENT   \n",
       "\n",
       "   Arrest  Domestic  Beat  District  Ward  Community Area FBI Code  \\\n",
       "0       0         0  1333      12.0  27.0            28.0       06   \n",
       "1       0         1  1222      12.0  25.0            31.0      08B   \n",
       "2       1         0  1131      11.0  24.0            25.0       16   \n",
       "3       0         0   324       3.0   5.0            69.0      08B   \n",
       "4       0         0  2433      24.0  40.0            77.0       14   \n",
       "\n",
       "   X Coordinate  Y Coordinate   Latitude  Longitude  Date Hour  Date Day  \\\n",
       "0     1165667.0     1902638.0  41.888430 -87.667064         12        15   \n",
       "1     1165650.0     1891466.0  41.857773 -87.667445         18        18   \n",
       "2     1144531.0     1895566.0  41.869447 -87.744861         21        16   \n",
       "3     1183801.0     1857416.0  41.763932 -87.601884         17         4   \n",
       "4     1163394.0     1941667.0  41.995575 -87.674309         16        16   \n",
       "\n",
       "   Date Week  Date Month  Date Year  Date DayofWeek  Updated On Hour  \\\n",
       "0         46          11       2002               4               15   \n",
       "1         16           4       2003               4               15   \n",
       "2         46          11       2016               2               15   \n",
       "3         31           8       2012               5                6   \n",
       "4         51          12       2019               0               15   \n",
       "\n",
       "   Updated On Day  Updated On Week  Updated On Month  Updated On Year  \\\n",
       "0              28                9                 2             2018   \n",
       "1              10                6                 2             2018   \n",
       "2              10                6                 2             2018   \n",
       "3               4                5                 2             2016   \n",
       "4              23               52                12             2019   \n",
       "\n",
       "   Updated On DayofWeek     Block Name Block Direction  \n",
       "0                     2    ASHLAND AVE               N  \n",
       "1                     5        18TH ST               W  \n",
       "2                     5     CICERO AVE               S  \n",
       "3                     3  INGLESIDE AVE               S  \n",
       "4                     0      THOME AVE               W  "
      ]
     },
     "execution_count": 76,
     "metadata": {},
     "output_type": "execute_result"
    }
   ],
   "source": [
    "df = pd.read_csv(\"prep_data.csv\")\n",
    "df.head()"
   ]
  },
  {
   "cell_type": "code",
   "execution_count": 21,
   "metadata": {},
   "outputs": [
    {
     "data": {
      "text/plain": [
       "<matplotlib.axes._subplots.AxesSubplot at 0x7f34bf0a7410>"
      ]
     },
     "execution_count": 21,
     "metadata": {},
     "output_type": "execute_result"
    },
    {
     "data": {
      "image/png": "[encoded data removed]",
      "text/plain": [
       "<Figure size 864x720 with 2 Axes>"
      ]
     },
     "metadata": {
      "needs_background": "light"
     },
     "output_type": "display_data"
    }
   ],
   "source": [
    "# calculate the correlation matrix\n",
    "corr = df.corr()\n",
    "\n",
    "# plot the heatmap\n",
    "plt.figure(figsize=(12, 10))\n",
    "sns.heatmap(corr, xticklabels=corr.columns, yticklabels=corr.columns, cmap='Set2')"
   ]
  },
  {
   "cell_type": "markdown",
   "metadata": {},
   "source": [
    "## Label Encoding"
   ]
  },
  {
   "cell_type": "code",
   "execution_count": 77,
   "metadata": {},
   "outputs": [
    {
     "data": {
      "text/html": [
       "<div>\n",
       "<style scoped>\n",
       "    .dataframe tbody tr th:only-of-type {\n",
       "        vertical-align: middle;\n",
       "    }\n",
       "\n",
       "    .dataframe tbody tr th {\n",
       "        vertical-align: top;\n",
       "    }\n",
       "\n",
       "    .dataframe thead th {\n",
       "        text-align: right;\n",
       "    }\n",
       "</style>\n",
       "<table border=\"1\" class=\"dataframe\">\n",
       "  <thead>\n",
       "    <tr style=\"text-align: right;\">\n",
       "      <th></th>\n",
       "      <th>IUCR</th>\n",
       "      <th>Primary Type</th>\n",
       "      <th>Description</th>\n",
       "      <th>Location Description</th>\n",
       "      <th>Arrest</th>\n",
       "      <th>Domestic</th>\n",
       "      <th>Beat</th>\n",
       "      <th>District</th>\n",
       "      <th>Ward</th>\n",
       "      <th>Community Area</th>\n",
       "      <th>FBI Code</th>\n",
       "      <th>X Coordinate</th>\n",
       "      <th>Y Coordinate</th>\n",
       "      <th>Latitude</th>\n",
       "      <th>Longitude</th>\n",
       "      <th>Date Hour</th>\n",
       "      <th>Date Day</th>\n",
       "      <th>Date Week</th>\n",
       "      <th>Date Month</th>\n",
       "      <th>Date Year</th>\n",
       "      <th>Date DayofWeek</th>\n",
       "      <th>Updated On Hour</th>\n",
       "      <th>Updated On Day</th>\n",
       "      <th>Updated On Week</th>\n",
       "      <th>Updated On Month</th>\n",
       "      <th>Updated On Year</th>\n",
       "      <th>Updated On DayofWeek</th>\n",
       "      <th>Block Name</th>\n",
       "      <th>Block Direction</th>\n",
       "    </tr>\n",
       "  </thead>\n",
       "  <tbody>\n",
       "    <tr>\n",
       "      <th>0</th>\n",
       "      <td>74</td>\n",
       "      <td>29</td>\n",
       "      <td>238</td>\n",
       "      <td>STREET</td>\n",
       "      <td>0</td>\n",
       "      <td>0</td>\n",
       "      <td>1333</td>\n",
       "      <td>12.0</td>\n",
       "      <td>27.0</td>\n",
       "      <td>28.0</td>\n",
       "      <td>7</td>\n",
       "      <td>1165667.0</td>\n",
       "      <td>1902638.0</td>\n",
       "      <td>41.888430</td>\n",
       "      <td>-87.667064</td>\n",
       "      <td>12</td>\n",
       "      <td>15</td>\n",
       "      <td>46</td>\n",
       "      <td>11</td>\n",
       "      <td>2002</td>\n",
       "      <td>4</td>\n",
       "      <td>15</td>\n",
       "      <td>28</td>\n",
       "      <td>9</td>\n",
       "      <td>2</td>\n",
       "      <td>2018</td>\n",
       "      <td>2</td>\n",
       "      <td>ASHLAND AVE</td>\n",
       "      <td>N</td>\n",
       "    </tr>\n",
       "    <tr>\n",
       "      <th>1</th>\n",
       "      <td>44</td>\n",
       "      <td>2</td>\n",
       "      <td>137</td>\n",
       "      <td>SIDEWALK</td>\n",
       "      <td>0</td>\n",
       "      <td>1</td>\n",
       "      <td>1222</td>\n",
       "      <td>12.0</td>\n",
       "      <td>25.0</td>\n",
       "      <td>31.0</td>\n",
       "      <td>10</td>\n",
       "      <td>1165650.0</td>\n",
       "      <td>1891466.0</td>\n",
       "      <td>41.857773</td>\n",
       "      <td>-87.667445</td>\n",
       "      <td>18</td>\n",
       "      <td>18</td>\n",
       "      <td>16</td>\n",
       "      <td>4</td>\n",
       "      <td>2003</td>\n",
       "      <td>4</td>\n",
       "      <td>15</td>\n",
       "      <td>10</td>\n",
       "      <td>6</td>\n",
       "      <td>2</td>\n",
       "      <td>2018</td>\n",
       "      <td>5</td>\n",
       "      <td>18TH ST</td>\n",
       "      <td>W</td>\n",
       "    </tr>\n",
       "    <tr>\n",
       "      <th>2</th>\n",
       "      <td>159</td>\n",
       "      <td>23</td>\n",
       "      <td>315</td>\n",
       "      <td>STREET</td>\n",
       "      <td>1</td>\n",
       "      <td>0</td>\n",
       "      <td>1131</td>\n",
       "      <td>11.0</td>\n",
       "      <td>24.0</td>\n",
       "      <td>25.0</td>\n",
       "      <td>18</td>\n",
       "      <td>1144531.0</td>\n",
       "      <td>1895566.0</td>\n",
       "      <td>41.869447</td>\n",
       "      <td>-87.744861</td>\n",
       "      <td>21</td>\n",
       "      <td>16</td>\n",
       "      <td>46</td>\n",
       "      <td>11</td>\n",
       "      <td>2016</td>\n",
       "      <td>2</td>\n",
       "      <td>15</td>\n",
       "      <td>10</td>\n",
       "      <td>6</td>\n",
       "      <td>2</td>\n",
       "      <td>2018</td>\n",
       "      <td>5</td>\n",
       "      <td>CICERO AVE</td>\n",
       "      <td>S</td>\n",
       "    </tr>\n",
       "    <tr>\n",
       "      <th>3</th>\n",
       "      <td>34</td>\n",
       "      <td>2</td>\n",
       "      <td>309</td>\n",
       "      <td>OTHER</td>\n",
       "      <td>0</td>\n",
       "      <td>0</td>\n",
       "      <td>324</td>\n",
       "      <td>3.0</td>\n",
       "      <td>5.0</td>\n",
       "      <td>69.0</td>\n",
       "      <td>10</td>\n",
       "      <td>1183801.0</td>\n",
       "      <td>1857416.0</td>\n",
       "      <td>41.763932</td>\n",
       "      <td>-87.601884</td>\n",
       "      <td>17</td>\n",
       "      <td>4</td>\n",
       "      <td>31</td>\n",
       "      <td>8</td>\n",
       "      <td>2012</td>\n",
       "      <td>5</td>\n",
       "      <td>6</td>\n",
       "      <td>4</td>\n",
       "      <td>5</td>\n",
       "      <td>2</td>\n",
       "      <td>2016</td>\n",
       "      <td>3</td>\n",
       "      <td>INGLESIDE AVE</td>\n",
       "      <td>S</td>\n",
       "    </tr>\n",
       "    <tr>\n",
       "      <th>4</th>\n",
       "      <td>133</td>\n",
       "      <td>6</td>\n",
       "      <td>338</td>\n",
       "      <td>APARTMENT</td>\n",
       "      <td>0</td>\n",
       "      <td>0</td>\n",
       "      <td>2433</td>\n",
       "      <td>24.0</td>\n",
       "      <td>40.0</td>\n",
       "      <td>77.0</td>\n",
       "      <td>16</td>\n",
       "      <td>1163394.0</td>\n",
       "      <td>1941667.0</td>\n",
       "      <td>41.995575</td>\n",
       "      <td>-87.674309</td>\n",
       "      <td>16</td>\n",
       "      <td>16</td>\n",
       "      <td>51</td>\n",
       "      <td>12</td>\n",
       "      <td>2019</td>\n",
       "      <td>0</td>\n",
       "      <td>15</td>\n",
       "      <td>23</td>\n",
       "      <td>52</td>\n",
       "      <td>12</td>\n",
       "      <td>2019</td>\n",
       "      <td>0</td>\n",
       "      <td>THOME AVE</td>\n",
       "      <td>W</td>\n",
       "    </tr>\n",
       "  </tbody>\n",
       "</table>\n",
       "</div>"
      ],
      "text/plain": [
       "   IUCR  Primary Type  Description Location Description  Arrest  Domestic  \\\n",
       "0    74            29          238               STREET       0         0   \n",
       "1    44             2          137             SIDEWALK       0         1   \n",
       "2   159            23          315               STREET       1         0   \n",
       "3    34             2          309                OTHER       0         0   \n",
       "4   133             6          338            APARTMENT       0         0   \n",
       "\n",
       "   Beat  District  Ward  Community Area  FBI Code  X Coordinate  Y Coordinate  \\\n",
       "0  1333      12.0  27.0            28.0         7     1165667.0     1902638.0   \n",
       "1  1222      12.0  25.0            31.0        10     1165650.0     1891466.0   \n",
       "2  1131      11.0  24.0            25.0        18     1144531.0     1895566.0   \n",
       "3   324       3.0   5.0            69.0        10     1183801.0     1857416.0   \n",
       "4  2433      24.0  40.0            77.0        16     1163394.0     1941667.0   \n",
       "\n",
       "    Latitude  Longitude  Date Hour  Date Day  Date Week  Date Month  \\\n",
       "0  41.888430 -87.667064         12        15         46          11   \n",
       "1  41.857773 -87.667445         18        18         16           4   \n",
       "2  41.869447 -87.744861         21        16         46          11   \n",
       "3  41.763932 -87.601884         17         4         31           8   \n",
       "4  41.995575 -87.674309         16        16         51          12   \n",
       "\n",
       "   Date Year  Date DayofWeek  Updated On Hour  Updated On Day  \\\n",
       "0       2002               4               15              28   \n",
       "1       2003               4               15              10   \n",
       "2       2016               2               15              10   \n",
       "3       2012               5                6               4   \n",
       "4       2019               0               15              23   \n",
       "\n",
       "   Updated On Week  Updated On Month  Updated On Year  Updated On DayofWeek  \\\n",
       "0                9                 2             2018                     2   \n",
       "1                6                 2             2018                     5   \n",
       "2                6                 2             2018                     5   \n",
       "3                5                 2             2016                     3   \n",
       "4               52                12             2019                     0   \n",
       "\n",
       "      Block Name Block Direction  \n",
       "0    ASHLAND AVE               N  \n",
       "1        18TH ST               W  \n",
       "2     CICERO AVE               S  \n",
       "3  INGLESIDE AVE               S  \n",
       "4      THOME AVE               W  "
      ]
     },
     "execution_count": 77,
     "metadata": {},
     "output_type": "execute_result"
    }
   ],
   "source": [
    "for col in ['IUCR', 'Primary Type', 'Description', 'FBI Code']:\n",
    "    lbl = preprocessing.LabelEncoder()\n",
    "    df[col] = lbl.fit_transform(df[col])\n",
    "df.head()"
   ]
  },
  {
   "cell_type": "markdown",
   "metadata": {},
   "source": [
    "We now seperate the class labels(that are equivalent to type of crime) from the data. These can be later used to verify the clusters."
   ]
  },
  {
   "cell_type": "code",
   "execution_count": 4,
   "metadata": {},
   "outputs": [
    {
     "name": "stderr",
     "output_type": "stream",
     "text": [
      "/tmp/ipykernel_55137/4283782194.py:1: FutureWarning: In a future version of pandas all arguments of DataFrame.drop except for the argument 'labels' will be keyword-only\n",
      "  X = df.drop([\"Primary Type\", \"Description\", \"IUCR\", \"FBI Code\"], 1)\n"
     ]
    }
   ],
   "source": [
    "X = df.drop([\"Primary Type\", \"Description\", \"IUCR\", \"FBI Code\"], 1)\n",
    "y1 = df[\"Primary Type\"]\n",
    "y2 = df[\"Description\"]\n",
    "y3 = df[\"IUCR\"]\n",
    "y4 = df[\"FBI Code\"]"
   ]
  },
  {
   "cell_type": "code",
   "execution_count": 61,
   "metadata": {},
   "outputs": [
    {
     "data": {
      "text/plain": [
       "(100000, 25)"
      ]
     },
     "execution_count": 61,
     "metadata": {},
     "output_type": "execute_result"
    }
   ],
   "source": [
    "X.shape"
   ]
  },
  {
   "cell_type": "markdown",
   "metadata": {},
   "source": [
    "## Ordinal Encoding"
   ]
  },
  {
   "cell_type": "code",
   "execution_count": 5,
   "metadata": {},
   "outputs": [
    {
     "data": {
      "text/html": [
       "<div>\n",
       "<style scoped>\n",
       "    .dataframe tbody tr th:only-of-type {\n",
       "        vertical-align: middle;\n",
       "    }\n",
       "\n",
       "    .dataframe tbody tr th {\n",
       "        vertical-align: top;\n",
       "    }\n",
       "\n",
       "    .dataframe thead th {\n",
       "        text-align: right;\n",
       "    }\n",
       "</style>\n",
       "<table border=\"1\" class=\"dataframe\">\n",
       "  <thead>\n",
       "    <tr style=\"text-align: right;\">\n",
       "      <th></th>\n",
       "      <th>0</th>\n",
       "      <th>1</th>\n",
       "      <th>2</th>\n",
       "      <th>3</th>\n",
       "      <th>4</th>\n",
       "      <th>5</th>\n",
       "      <th>6</th>\n",
       "      <th>7</th>\n",
       "      <th>8</th>\n",
       "      <th>9</th>\n",
       "      <th>10</th>\n",
       "      <th>11</th>\n",
       "      <th>12</th>\n",
       "      <th>13</th>\n",
       "      <th>14</th>\n",
       "      <th>15</th>\n",
       "      <th>16</th>\n",
       "      <th>17</th>\n",
       "      <th>18</th>\n",
       "      <th>19</th>\n",
       "      <th>20</th>\n",
       "      <th>21</th>\n",
       "      <th>22</th>\n",
       "      <th>23</th>\n",
       "      <th>24</th>\n",
       "    </tr>\n",
       "  </thead>\n",
       "  <tbody>\n",
       "    <tr>\n",
       "      <th>0</th>\n",
       "      <td>131.0</td>\n",
       "      <td>0.0</td>\n",
       "      <td>0.0</td>\n",
       "      <td>167.0</td>\n",
       "      <td>11.0</td>\n",
       "      <td>26.0</td>\n",
       "      <td>27.0</td>\n",
       "      <td>21009.0</td>\n",
       "      <td>31645.0</td>\n",
       "      <td>45638.0</td>\n",
       "      <td>37464.0</td>\n",
       "      <td>12.0</td>\n",
       "      <td>14.0</td>\n",
       "      <td>45.0</td>\n",
       "      <td>10.0</td>\n",
       "      <td>1.0</td>\n",
       "      <td>4.0</td>\n",
       "      <td>8.0</td>\n",
       "      <td>27.0</td>\n",
       "      <td>8.0</td>\n",
       "      <td>1.0</td>\n",
       "      <td>7.0</td>\n",
       "      <td>2.0</td>\n",
       "      <td>276.0</td>\n",
       "      <td>1.0</td>\n",
       "    </tr>\n",
       "    <tr>\n",
       "      <th>1</th>\n",
       "      <td>127.0</td>\n",
       "      <td>0.0</td>\n",
       "      <td>1.0</td>\n",
       "      <td>150.0</td>\n",
       "      <td>11.0</td>\n",
       "      <td>24.0</td>\n",
       "      <td>30.0</td>\n",
       "      <td>20994.0</td>\n",
       "      <td>26324.0</td>\n",
       "      <td>36716.0</td>\n",
       "      <td>37269.0</td>\n",
       "      <td>18.0</td>\n",
       "      <td>17.0</td>\n",
       "      <td>15.0</td>\n",
       "      <td>3.0</td>\n",
       "      <td>2.0</td>\n",
       "      <td>4.0</td>\n",
       "      <td>8.0</td>\n",
       "      <td>9.0</td>\n",
       "      <td>5.0</td>\n",
       "      <td>1.0</td>\n",
       "      <td>7.0</td>\n",
       "      <td>5.0</td>\n",
       "      <td>82.0</td>\n",
       "      <td>3.0</td>\n",
       "    </tr>\n",
       "    <tr>\n",
       "      <th>2</th>\n",
       "      <td>131.0</td>\n",
       "      <td>1.0</td>\n",
       "      <td>0.0</td>\n",
       "      <td>139.0</td>\n",
       "      <td>10.0</td>\n",
       "      <td>23.0</td>\n",
       "      <td>24.0</td>\n",
       "      <td>6478.0</td>\n",
       "      <td>27879.0</td>\n",
       "      <td>39005.0</td>\n",
       "      <td>9255.0</td>\n",
       "      <td>21.0</td>\n",
       "      <td>15.0</td>\n",
       "      <td>45.0</td>\n",
       "      <td>10.0</td>\n",
       "      <td>15.0</td>\n",
       "      <td>2.0</td>\n",
       "      <td>8.0</td>\n",
       "      <td>9.0</td>\n",
       "      <td>5.0</td>\n",
       "      <td>1.0</td>\n",
       "      <td>7.0</td>\n",
       "      <td>5.0</td>\n",
       "      <td>446.0</td>\n",
       "      <td>2.0</td>\n",
       "    </tr>\n",
       "    <tr>\n",
       "      <th>3</th>\n",
       "      <td>94.0</td>\n",
       "      <td>0.0</td>\n",
       "      <td>0.0</td>\n",
       "      <td>34.0</td>\n",
       "      <td>2.0</td>\n",
       "      <td>4.0</td>\n",
       "      <td>68.0</td>\n",
       "      <td>33963.0</td>\n",
       "      <td>12421.0</td>\n",
       "      <td>16760.0</td>\n",
       "      <td>63920.0</td>\n",
       "      <td>17.0</td>\n",
       "      <td>3.0</td>\n",
       "      <td>30.0</td>\n",
       "      <td>7.0</td>\n",
       "      <td>11.0</td>\n",
       "      <td>5.0</td>\n",
       "      <td>2.0</td>\n",
       "      <td>3.0</td>\n",
       "      <td>4.0</td>\n",
       "      <td>1.0</td>\n",
       "      <td>5.0</td>\n",
       "      <td>3.0</td>\n",
       "      <td>766.0</td>\n",
       "      <td>2.0</td>\n",
       "    </tr>\n",
       "    <tr>\n",
       "      <th>4</th>\n",
       "      <td>17.0</td>\n",
       "      <td>0.0</td>\n",
       "      <td>0.0</td>\n",
       "      <td>286.0</td>\n",
       "      <td>20.0</td>\n",
       "      <td>39.0</td>\n",
       "      <td>76.0</td>\n",
       "      <td>19222.0</td>\n",
       "      <td>47669.0</td>\n",
       "      <td>68814.0</td>\n",
       "      <td>34001.0</td>\n",
       "      <td>16.0</td>\n",
       "      <td>15.0</td>\n",
       "      <td>50.0</td>\n",
       "      <td>11.0</td>\n",
       "      <td>18.0</td>\n",
       "      <td>0.0</td>\n",
       "      <td>8.0</td>\n",
       "      <td>22.0</td>\n",
       "      <td>51.0</td>\n",
       "      <td>11.0</td>\n",
       "      <td>8.0</td>\n",
       "      <td>0.0</td>\n",
       "      <td>1325.0</td>\n",
       "      <td>3.0</td>\n",
       "    </tr>\n",
       "  </tbody>\n",
       "</table>\n",
       "</div>"
      ],
      "text/plain": [
       "      0    1    2      3     4     5     6        7        8        9   \\\n",
       "0  131.0  0.0  0.0  167.0  11.0  26.0  27.0  21009.0  31645.0  45638.0   \n",
       "1  127.0  0.0  1.0  150.0  11.0  24.0  30.0  20994.0  26324.0  36716.0   \n",
       "2  131.0  1.0  0.0  139.0  10.0  23.0  24.0   6478.0  27879.0  39005.0   \n",
       "3   94.0  0.0  0.0   34.0   2.0   4.0  68.0  33963.0  12421.0  16760.0   \n",
       "4   17.0  0.0  0.0  286.0  20.0  39.0  76.0  19222.0  47669.0  68814.0   \n",
       "\n",
       "        10    11    12    13    14    15   16   17    18    19    20   21  \\\n",
       "0  37464.0  12.0  14.0  45.0  10.0   1.0  4.0  8.0  27.0   8.0   1.0  7.0   \n",
       "1  37269.0  18.0  17.0  15.0   3.0   2.0  4.0  8.0   9.0   5.0   1.0  7.0   \n",
       "2   9255.0  21.0  15.0  45.0  10.0  15.0  2.0  8.0   9.0   5.0   1.0  7.0   \n",
       "3  63920.0  17.0   3.0  30.0   7.0  11.0  5.0  2.0   3.0   4.0   1.0  5.0   \n",
       "4  34001.0  16.0  15.0  50.0  11.0  18.0  0.0  8.0  22.0  51.0  11.0  8.0   \n",
       "\n",
       "    22      23   24  \n",
       "0  2.0   276.0  1.0  \n",
       "1  5.0    82.0  3.0  \n",
       "2  5.0   446.0  2.0  \n",
       "3  3.0   766.0  2.0  \n",
       "4  0.0  1325.0  3.0  "
      ]
     },
     "execution_count": 5,
     "metadata": {},
     "output_type": "execute_result"
    }
   ],
   "source": [
    "enc = preprocessing.OrdinalEncoder()\n",
    "X = pd.DataFrame(enc.fit_transform(X))\n",
    "X.head()"
   ]
  },
  {
   "cell_type": "markdown",
   "metadata": {},
   "source": [
    "## Scaling"
   ]
  },
  {
   "cell_type": "code",
   "execution_count": 6,
   "metadata": {},
   "outputs": [
    {
     "data": {
      "text/html": [
       "<div>\n",
       "<style scoped>\n",
       "    .dataframe tbody tr th:only-of-type {\n",
       "        vertical-align: middle;\n",
       "    }\n",
       "\n",
       "    .dataframe tbody tr th {\n",
       "        vertical-align: top;\n",
       "    }\n",
       "\n",
       "    .dataframe thead th {\n",
       "        text-align: right;\n",
       "    }\n",
       "</style>\n",
       "<table border=\"1\" class=\"dataframe\">\n",
       "  <thead>\n",
       "    <tr style=\"text-align: right;\">\n",
       "      <th></th>\n",
       "      <th>0</th>\n",
       "      <th>1</th>\n",
       "      <th>2</th>\n",
       "      <th>3</th>\n",
       "      <th>4</th>\n",
       "      <th>5</th>\n",
       "      <th>6</th>\n",
       "      <th>7</th>\n",
       "      <th>8</th>\n",
       "      <th>9</th>\n",
       "      <th>10</th>\n",
       "      <th>11</th>\n",
       "      <th>12</th>\n",
       "      <th>13</th>\n",
       "      <th>14</th>\n",
       "      <th>15</th>\n",
       "      <th>16</th>\n",
       "      <th>17</th>\n",
       "      <th>18</th>\n",
       "      <th>19</th>\n",
       "      <th>20</th>\n",
       "      <th>21</th>\n",
       "      <th>22</th>\n",
       "      <th>23</th>\n",
       "      <th>24</th>\n",
       "    </tr>\n",
       "  </thead>\n",
       "  <tbody>\n",
       "    <tr>\n",
       "      <th>0</th>\n",
       "      <td>0.442308</td>\n",
       "      <td>0.0</td>\n",
       "      <td>0.0</td>\n",
       "      <td>0.273973</td>\n",
       "      <td>0.2</td>\n",
       "      <td>0.208333</td>\n",
       "      <td>-0.114286</td>\n",
       "      <td>-0.014721</td>\n",
       "      <td>0.261442</td>\n",
       "      <td>0.281706</td>\n",
       "      <td>-0.013314</td>\n",
       "      <td>-0.2</td>\n",
       "      <td>-0.066667</td>\n",
       "      <td>0.791667</td>\n",
       "      <td>0.8</td>\n",
       "      <td>-0.777778</td>\n",
       "      <td>0.25</td>\n",
       "      <td>0.0</td>\n",
       "      <td>1.000000</td>\n",
       "      <td>0.000000</td>\n",
       "      <td>0.0</td>\n",
       "      <td>0.0</td>\n",
       "      <td>-0.333333</td>\n",
       "      <td>-0.705548</td>\n",
       "      <td>-0.5</td>\n",
       "    </tr>\n",
       "    <tr>\n",
       "      <th>1</th>\n",
       "      <td>0.365385</td>\n",
       "      <td>0.0</td>\n",
       "      <td>1.0</td>\n",
       "      <td>0.157534</td>\n",
       "      <td>0.2</td>\n",
       "      <td>0.125000</td>\n",
       "      <td>-0.028571</td>\n",
       "      <td>-0.015579</td>\n",
       "      <td>0.019359</td>\n",
       "      <td>0.016259</td>\n",
       "      <td>-0.018718</td>\n",
       "      <td>0.4</td>\n",
       "      <td>0.133333</td>\n",
       "      <td>-0.458333</td>\n",
       "      <td>-0.6</td>\n",
       "      <td>-0.666667</td>\n",
       "      <td>0.25</td>\n",
       "      <td>0.0</td>\n",
       "      <td>0.000000</td>\n",
       "      <td>-1.000000</td>\n",
       "      <td>0.0</td>\n",
       "      <td>0.0</td>\n",
       "      <td>0.666667</td>\n",
       "      <td>-0.981508</td>\n",
       "      <td>0.5</td>\n",
       "    </tr>\n",
       "    <tr>\n",
       "      <th>2</th>\n",
       "      <td>0.442308</td>\n",
       "      <td>1.0</td>\n",
       "      <td>0.0</td>\n",
       "      <td>0.082192</td>\n",
       "      <td>0.1</td>\n",
       "      <td>0.083333</td>\n",
       "      <td>-0.200000</td>\n",
       "      <td>-0.845444</td>\n",
       "      <td>0.090105</td>\n",
       "      <td>0.084362</td>\n",
       "      <td>-0.794976</td>\n",
       "      <td>0.7</td>\n",
       "      <td>0.000000</td>\n",
       "      <td>0.791667</td>\n",
       "      <td>0.8</td>\n",
       "      <td>0.777778</td>\n",
       "      <td>-0.25</td>\n",
       "      <td>0.0</td>\n",
       "      <td>0.000000</td>\n",
       "      <td>-1.000000</td>\n",
       "      <td>0.0</td>\n",
       "      <td>0.0</td>\n",
       "      <td>0.666667</td>\n",
       "      <td>-0.463727</td>\n",
       "      <td>0.0</td>\n",
       "    </tr>\n",
       "    <tr>\n",
       "      <th>3</th>\n",
       "      <td>-0.269231</td>\n",
       "      <td>0.0</td>\n",
       "      <td>0.0</td>\n",
       "      <td>-0.636986</td>\n",
       "      <td>-0.7</td>\n",
       "      <td>-0.708333</td>\n",
       "      <td>1.057143</td>\n",
       "      <td>0.725846</td>\n",
       "      <td>-0.613171</td>\n",
       "      <td>-0.577470</td>\n",
       "      <td>0.719772</td>\n",
       "      <td>0.3</td>\n",
       "      <td>-0.800000</td>\n",
       "      <td>0.166667</td>\n",
       "      <td>0.2</td>\n",
       "      <td>0.333333</td>\n",
       "      <td>0.50</td>\n",
       "      <td>-6.0</td>\n",
       "      <td>-0.333333</td>\n",
       "      <td>-1.333333</td>\n",
       "      <td>0.0</td>\n",
       "      <td>-2.0</td>\n",
       "      <td>0.000000</td>\n",
       "      <td>-0.008535</td>\n",
       "      <td>0.0</td>\n",
       "    </tr>\n",
       "    <tr>\n",
       "      <th>4</th>\n",
       "      <td>-1.750000</td>\n",
       "      <td>0.0</td>\n",
       "      <td>0.0</td>\n",
       "      <td>1.089041</td>\n",
       "      <td>1.1</td>\n",
       "      <td>0.750000</td>\n",
       "      <td>1.285714</td>\n",
       "      <td>-0.116882</td>\n",
       "      <td>0.990469</td>\n",
       "      <td>0.971237</td>\n",
       "      <td>-0.109273</td>\n",
       "      <td>0.2</td>\n",
       "      <td>0.000000</td>\n",
       "      <td>1.000000</td>\n",
       "      <td>1.0</td>\n",
       "      <td>1.111111</td>\n",
       "      <td>-0.75</td>\n",
       "      <td>0.0</td>\n",
       "      <td>0.722222</td>\n",
       "      <td>14.333333</td>\n",
       "      <td>10.0</td>\n",
       "      <td>1.0</td>\n",
       "      <td>-1.000000</td>\n",
       "      <td>0.786629</td>\n",
       "      <td>0.5</td>\n",
       "    </tr>\n",
       "  </tbody>\n",
       "</table>\n",
       "</div>"
      ],
      "text/plain": [
       "         0    1    2         3    4         5         6         7         8   \\\n",
       "0  0.442308  0.0  0.0  0.273973  0.2  0.208333 -0.114286 -0.014721  0.261442   \n",
       "1  0.365385  0.0  1.0  0.157534  0.2  0.125000 -0.028571 -0.015579  0.019359   \n",
       "2  0.442308  1.0  0.0  0.082192  0.1  0.083333 -0.200000 -0.845444  0.090105   \n",
       "3 -0.269231  0.0  0.0 -0.636986 -0.7 -0.708333  1.057143  0.725846 -0.613171   \n",
       "4 -1.750000  0.0  0.0  1.089041  1.1  0.750000  1.285714 -0.116882  0.990469   \n",
       "\n",
       "         9         10   11        12        13   14        15    16   17  \\\n",
       "0  0.281706 -0.013314 -0.2 -0.066667  0.791667  0.8 -0.777778  0.25  0.0   \n",
       "1  0.016259 -0.018718  0.4  0.133333 -0.458333 -0.6 -0.666667  0.25  0.0   \n",
       "2  0.084362 -0.794976  0.7  0.000000  0.791667  0.8  0.777778 -0.25  0.0   \n",
       "3 -0.577470  0.719772  0.3 -0.800000  0.166667  0.2  0.333333  0.50 -6.0   \n",
       "4  0.971237 -0.109273  0.2  0.000000  1.000000  1.0  1.111111 -0.75  0.0   \n",
       "\n",
       "         18         19    20   21        22        23   24  \n",
       "0  1.000000   0.000000   0.0  0.0 -0.333333 -0.705548 -0.5  \n",
       "1  0.000000  -1.000000   0.0  0.0  0.666667 -0.981508  0.5  \n",
       "2  0.000000  -1.000000   0.0  0.0  0.666667 -0.463727  0.0  \n",
       "3 -0.333333  -1.333333   0.0 -2.0  0.000000 -0.008535  0.0  \n",
       "4  0.722222  14.333333  10.0  1.0 -1.000000  0.786629  0.5  "
      ]
     },
     "execution_count": 6,
     "metadata": {},
     "output_type": "execute_result"
    }
   ],
   "source": [
    "scl = preprocessing.RobustScaler()\n",
    "scl.fit(X)\n",
    "X = pd.DataFrame(scl.transform(X))\n",
    "X.head()"
   ]
  },
  {
   "cell_type": "code",
   "execution_count": 26,
   "metadata": {},
   "outputs": [
    {
     "data": {
      "text/plain": [
       "'scl = preprocessing.StandardScaler()\\nscl.fit(X)\\nX = scl.transform(X)'"
      ]
     },
     "execution_count": 26,
     "metadata": {},
     "output_type": "execute_result"
    }
   ],
   "source": [
    "\"\"\"scl = preprocessing.StandardScaler()\n",
    "scl.fit(X)\n",
    "X = scl.transform(X)\"\"\""
   ]
  },
  {
   "cell_type": "code",
   "execution_count": 27,
   "metadata": {},
   "outputs": [
    {
     "data": {
      "text/plain": [
       "'scl = preprocessing.MinMaxScaler()\\nscl.fit(X)\\nX_ = scl.transform(X)'"
      ]
     },
     "execution_count": 27,
     "metadata": {},
     "output_type": "execute_result"
    }
   ],
   "source": [
    "\"\"\"scl = preprocessing.MinMaxScaler()\n",
    "scl.fit(X)\n",
    "X_ = scl.transform(X)\"\"\""
   ]
  },
  {
   "cell_type": "markdown",
   "metadata": {},
   "source": [
    "## Clustering"
   ]
  },
  {
   "cell_type": "code",
   "execution_count": null,
   "metadata": {},
   "outputs": [],
   "source": [
    "agg = cluster.AgglomerativeClustering(linkage='single').fit(X)"
   ]
  },
  {
   "cell_type": "code",
   "execution_count": null,
   "metadata": {},
   "outputs": [],
   "source": [
    "opt = cluster.OPTICS().fit(X)"
   ]
  },
  {
   "cell_type": "markdown",
   "metadata": {},
   "source": [
    "We first use k=27 to form the clusters. This is in accordance with the number of unique primary types."
   ]
  },
  {
   "cell_type": "code",
   "execution_count": 33,
   "metadata": {},
   "outputs": [],
   "source": [
    "mbkmeans = cluster.MiniBatchKMeans(n_clusters = 30, random_state = 0)"
   ]
  },
  {
   "cell_type": "code",
   "execution_count": 34,
   "metadata": {},
   "outputs": [],
   "source": [
    "mbkmeans.fit(X)\n",
    "mbk_pred = mbkmeans.predict(X)"
   ]
  },
  {
   "cell_type": "code",
   "execution_count": 45,
   "metadata": {},
   "outputs": [
    {
     "name": "stdout",
     "output_type": "stream",
     "text": [
      "NMI(Primary Type): 0.017959799503585956\n",
      "NMI(Description): 0.042143410141584924\n",
      "NMI(IUCR): 0.03828315346078318\n",
      "NMI(FBI Code): 0.017048869984860913\n"
     ]
    }
   ],
   "source": [
    "print(f\"NMI(Primary Type): {metrics.normalized_mutual_info_score(y1, mbk_pred, average_method='arithmetic')}\")\n",
    "print(f\"NMI(Description): {metrics.normalized_mutual_info_score(y2, mbk_pred, average_method='arithmetic')}\")\n",
    "print(f\"NMI(IUCR): {metrics.normalized_mutual_info_score(y3, mbk_pred, average_method='arithmetic')}\")\n",
    "print(f\"NMI(FBI Code): {metrics.normalized_mutual_info_score(y4, mbk_pred, average_method='arithmetic')}\")"
   ]
  },
  {
   "cell_type": "markdown",
   "metadata": {},
   "source": [
    "Elbow Method to determine k"
   ]
  },
  {
   "cell_type": "code",
   "execution_count": 46,
   "metadata": {},
   "outputs": [
    {
     "data": {
      "image/png": "[encoded data removed]",
      "text/plain": [
       "<Figure size 432x288 with 1 Axes>"
      ]
     },
     "metadata": {
      "needs_background": "light"
     },
     "output_type": "display_data"
    }
   ],
   "source": [
    "wcss = []\n",
    "\n",
    "for i in range(2, 100, 3):\n",
    "    model = cluster.MiniBatchKMeans(n_clusters = i,     \n",
    "                    init = 'k-means++',                 # Initialization method for kmeans\n",
    "                    max_iter = 300,                     # Maximum number of iterations \n",
    "                    n_init = 10,                        # Choose how often algorithm will run with different centroid \n",
    "                    random_state = 0)                   # Choose random state for reproducibility\n",
    "    model.fit(X)                              \n",
    "    wcss.append(model.inertia_)\n",
    "    \n",
    "# Show Elbow plot\n",
    "plt.plot(range(2, 100, 3), wcss)\n",
    "plt.title('Elbow Method')                               # Set plot title\n",
    "plt.xlabel('Number of clusters')                        # Set x axis name\n",
    "plt.ylabel('Within Cluster Sum of Squares (WCSS)')      # Set y axis name\n",
    "plt.show()"
   ]
  },
  {
   "cell_type": "markdown",
   "metadata": {},
   "source": [
    "The Elbow method suggests we use $k\\approx 7$"
   ]
  },
  {
   "cell_type": "code",
   "execution_count": 47,
   "metadata": {},
   "outputs": [],
   "source": [
    "mbkmeans = cluster.MiniBatchKMeans(n_clusters = 7, random_state = 0)"
   ]
  },
  {
   "cell_type": "code",
   "execution_count": 48,
   "metadata": {},
   "outputs": [],
   "source": [
    "mbkmeans.fit(X)\n",
    "mbk_pred = mbkmeans.predict(X)"
   ]
  },
  {
   "cell_type": "code",
   "execution_count": 49,
   "metadata": {},
   "outputs": [
    {
     "name": "stdout",
     "output_type": "stream",
     "text": [
      "NMI(Primary Type): 0.0062231406727738785\n",
      "NMI(Description): 0.01730024051534201\n",
      "NMI(IUCR): 0.014034738030181381\n",
      "NMI(FBI Code): 0.006077247660756284\n"
     ]
    }
   ],
   "source": [
    "print(f\"NMI(Primary Type): {metrics.normalized_mutual_info_score(y1, mbk_pred, average_method='arithmetic')}\")\n",
    "print(f\"NMI(Description): {metrics.normalized_mutual_info_score(y2, mbk_pred, average_method='arithmetic')}\")\n",
    "print(f\"NMI(IUCR): {metrics.normalized_mutual_info_score(y3, mbk_pred, average_method='arithmetic')}\")\n",
    "print(f\"NMI(FBI Code): {metrics.normalized_mutual_info_score(y4, mbk_pred, average_method='arithmetic')}\")"
   ]
  },
  {
   "cell_type": "markdown",
   "metadata": {},
   "source": [
    "k=10"
   ]
  },
  {
   "cell_type": "code",
   "execution_count": 50,
   "metadata": {},
   "outputs": [],
   "source": [
    "mbkmeans = cluster.MiniBatchKMeans(n_clusters = 10, random_state = 0)"
   ]
  },
  {
   "cell_type": "code",
   "execution_count": 51,
   "metadata": {},
   "outputs": [],
   "source": [
    "mbkmeans.fit(X)\n",
    "mbk_pred = mbkmeans.predict(X)"
   ]
  },
  {
   "cell_type": "code",
   "execution_count": 52,
   "metadata": {},
   "outputs": [
    {
     "name": "stdout",
     "output_type": "stream",
     "text": [
      "NMI(Primary Type): 0.012558479664190235\n",
      "NMI(Description): 0.027951019635748097\n",
      "NMI(IUCR): 0.024821587566483484\n",
      "NMI(FBI Code): 0.012119791817179761\n"
     ]
    }
   ],
   "source": [
    "print(f\"NMI(Primary Type): {metrics.normalized_mutual_info_score(y1, mbk_pred, average_method='arithmetic')}\")\n",
    "print(f\"NMI(Description): {metrics.normalized_mutual_info_score(y2, mbk_pred, average_method='arithmetic')}\")\n",
    "print(f\"NMI(IUCR): {metrics.normalized_mutual_info_score(y3, mbk_pred, average_method='arithmetic')}\")\n",
    "print(f\"NMI(FBI Code): {metrics.normalized_mutual_info_score(y4, mbk_pred, average_method='arithmetic')}\")"
   ]
  },
  {
   "cell_type": "markdown",
   "metadata": {},
   "source": [
    "The elbow method seems to give worse results. So, now we experiment with different k values."
   ]
  },
  {
   "cell_type": "markdown",
   "metadata": {},
   "source": [
    "k=25"
   ]
  },
  {
   "cell_type": "code",
   "execution_count": 53,
   "metadata": {},
   "outputs": [],
   "source": [
    "mbkmeans = cluster.MiniBatchKMeans(n_clusters = 25, random_state = 0)"
   ]
  },
  {
   "cell_type": "code",
   "execution_count": 54,
   "metadata": {},
   "outputs": [],
   "source": [
    "mbkmeans.fit(X)\n",
    "mbk_pred = mbkmeans.predict(X)"
   ]
  },
  {
   "cell_type": "code",
   "execution_count": 55,
   "metadata": {},
   "outputs": [
    {
     "name": "stdout",
     "output_type": "stream",
     "text": [
      "NMI(Primary Type): 0.01666570040861584\n",
      "NMI(Description): 0.03721267445681993\n",
      "NMI(IUCR): 0.0342137778037049\n",
      "NMI(FBI Code): 0.01593106854585698\n"
     ]
    }
   ],
   "source": [
    "print(f\"NMI(Primary Type): {metrics.normalized_mutual_info_score(y1, mbk_pred, average_method='arithmetic')}\")\n",
    "print(f\"NMI(Description): {metrics.normalized_mutual_info_score(y2, mbk_pred, average_method='arithmetic')}\")\n",
    "print(f\"NMI(IUCR): {metrics.normalized_mutual_info_score(y3, mbk_pred, average_method='arithmetic')}\")\n",
    "print(f\"NMI(FBI Code): {metrics.normalized_mutual_info_score(y4, mbk_pred, average_method='arithmetic')}\")"
   ]
  },
  {
   "cell_type": "markdown",
   "metadata": {},
   "source": [
    "k=20"
   ]
  },
  {
   "cell_type": "code",
   "execution_count": 56,
   "metadata": {},
   "outputs": [],
   "source": [
    "mbkmeans = cluster.MiniBatchKMeans(n_clusters = 20, random_state = 0)"
   ]
  },
  {
   "cell_type": "code",
   "execution_count": 57,
   "metadata": {},
   "outputs": [],
   "source": [
    "mbkmeans.fit(X)\n",
    "mbk_pred = mbkmeans.predict(X)"
   ]
  },
  {
   "cell_type": "code",
   "execution_count": 58,
   "metadata": {},
   "outputs": [
    {
     "name": "stdout",
     "output_type": "stream",
     "text": [
      "NMI(Primary Type): 0.014772096183388986\n",
      "NMI(Description): 0.034717082352582175\n",
      "NMI(IUCR): 0.030587773946550732\n",
      "NMI(FBI Code): 0.01422399859557118\n"
     ]
    }
   ],
   "source": [
    "print(f\"NMI(Primary Type): {metrics.normalized_mutual_info_score(y1, mbk_pred, average_method='arithmetic')}\")\n",
    "print(f\"NMI(Description): {metrics.normalized_mutual_info_score(y2, mbk_pred, average_method='arithmetic')}\")\n",
    "print(f\"NMI(IUCR): {metrics.normalized_mutual_info_score(y3, mbk_pred, average_method='arithmetic')}\")\n",
    "print(f\"NMI(FBI Code): {metrics.normalized_mutual_info_score(y4, mbk_pred, average_method='arithmetic')}\")"
   ]
  },
  {
   "cell_type": "markdown",
   "metadata": {},
   "source": [
    "k=100"
   ]
  },
  {
   "cell_type": "code",
   "execution_count": 59,
   "metadata": {},
   "outputs": [],
   "source": [
    "mbkmeans = cluster.MiniBatchKMeans(n_clusters = 100, random_state = 0)"
   ]
  },
  {
   "cell_type": "code",
   "execution_count": 60,
   "metadata": {},
   "outputs": [],
   "source": [
    "mbkmeans.fit(X)\n",
    "mbk_pred = mbkmeans.predict(X)"
   ]
  },
  {
   "cell_type": "code",
   "execution_count": 61,
   "metadata": {},
   "outputs": [
    {
     "name": "stdout",
     "output_type": "stream",
     "text": [
      "NMI(Primary Type): 0.024648874034136885\n",
      "NMI(Description): 0.06072712790351581\n",
      "NMI(IUCR): 0.05717620310494303\n",
      "NMI(FBI Code): 0.023509914112226717\n"
     ]
    }
   ],
   "source": [
    "print(f\"NMI(Primary Type): {metrics.normalized_mutual_info_score(y1, mbk_pred, average_method='arithmetic')}\")\n",
    "print(f\"NMI(Description): {metrics.normalized_mutual_info_score(y2, mbk_pred, average_method='arithmetic')}\")\n",
    "print(f\"NMI(IUCR): {metrics.normalized_mutual_info_score(y3, mbk_pred, average_method='arithmetic')}\")\n",
    "print(f\"NMI(FBI Code): {metrics.normalized_mutual_info_score(y4, mbk_pred, average_method='arithmetic')}\")"
   ]
  },
  {
   "cell_type": "markdown",
   "metadata": {},
   "source": [
    "$k=100$ gives better results."
   ]
  },
  {
   "cell_type": "markdown",
   "metadata": {},
   "source": [
    "k=50"
   ]
  },
  {
   "cell_type": "code",
   "execution_count": 62,
   "metadata": {},
   "outputs": [],
   "source": [
    "mbkmeans = cluster.MiniBatchKMeans(n_clusters = 50, random_state = 0)"
   ]
  },
  {
   "cell_type": "code",
   "execution_count": 63,
   "metadata": {},
   "outputs": [],
   "source": [
    "mbkmeans.fit(X)\n",
    "mbk_pred = mbkmeans.predict(X)"
   ]
  },
  {
   "cell_type": "code",
   "execution_count": 64,
   "metadata": {},
   "outputs": [
    {
     "name": "stdout",
     "output_type": "stream",
     "text": [
      "NMI(Primary Type): 0.019649320276693243\n",
      "NMI(Description): 0.04795904295204002\n",
      "NMI(IUCR): 0.044119090545441074\n",
      "NMI(FBI Code): 0.01852560232503758\n"
     ]
    }
   ],
   "source": [
    "print(f\"NMI(Primary Type): {metrics.normalized_mutual_info_score(y1, mbk_pred, average_method='arithmetic')}\")\n",
    "print(f\"NMI(Description): {metrics.normalized_mutual_info_score(y2, mbk_pred, average_method='arithmetic')}\")\n",
    "print(f\"NMI(IUCR): {metrics.normalized_mutual_info_score(y3, mbk_pred, average_method='arithmetic')}\")\n",
    "print(f\"NMI(FBI Code): {metrics.normalized_mutual_info_score(y4, mbk_pred, average_method='arithmetic')}\")"
   ]
  },
  {
   "cell_type": "markdown",
   "metadata": {},
   "source": [
    "k=200"
   ]
  },
  {
   "cell_type": "code",
   "execution_count": 65,
   "metadata": {},
   "outputs": [],
   "source": [
    "mbkmeans = cluster.MiniBatchKMeans(n_clusters = 200, random_state = 0)"
   ]
  },
  {
   "cell_type": "code",
   "execution_count": 66,
   "metadata": {},
   "outputs": [],
   "source": [
    "mbkmeans.fit(X)\n",
    "mbk_pred = mbkmeans.predict(X)"
   ]
  },
  {
   "cell_type": "code",
   "execution_count": 67,
   "metadata": {},
   "outputs": [
    {
     "name": "stdout",
     "output_type": "stream",
     "text": [
      "NMI(Primary Type): 0.033491664841800786\n",
      "NMI(Description): 0.077817961469761\n",
      "NMI(IUCR): 0.07530074313098503\n",
      "NMI(FBI Code): 0.031802671563934196\n"
     ]
    }
   ],
   "source": [
    "print(f\"NMI(Primary Type): {metrics.normalized_mutual_info_score(y1, mbk_pred, average_method='arithmetic')}\")\n",
    "print(f\"NMI(Description): {metrics.normalized_mutual_info_score(y2, mbk_pred, average_method='arithmetic')}\")\n",
    "print(f\"NMI(IUCR): {metrics.normalized_mutual_info_score(y3, mbk_pred, average_method='arithmetic')}\")\n",
    "print(f\"NMI(FBI Code): {metrics.normalized_mutual_info_score(y4, mbk_pred, average_method='arithmetic')}\")"
   ]
  },
  {
   "cell_type": "markdown",
   "metadata": {},
   "source": [
    "Again, $k=200$ gives better results. Somehow, higher $k$ is giving better results."
   ]
  },
  {
   "cell_type": "markdown",
   "metadata": {},
   "source": [
    "## Dimension Reduction"
   ]
  },
  {
   "cell_type": "code",
   "execution_count": 70,
   "metadata": {},
   "outputs": [
    {
     "data": {
      "text/plain": [
       "(100000, 25)"
      ]
     },
     "execution_count": 70,
     "metadata": {},
     "output_type": "execute_result"
    }
   ],
   "source": [
    "X.shape"
   ]
  },
  {
   "cell_type": "markdown",
   "metadata": {},
   "source": [
    "PCA with 5 components"
   ]
  },
  {
   "cell_type": "code",
   "execution_count": 74,
   "metadata": {},
   "outputs": [],
   "source": [
    "pca = decomposition.PCA(n_components=5)\n",
    "# Determine transformed features\n",
    "X_pca_5 = pca.fit_transform(X)"
   ]
  },
  {
   "cell_type": "code",
   "execution_count": 81,
   "metadata": {},
   "outputs": [
    {
     "data": {
      "image/png": "[encoded data removed]",
      "text/plain": [
       "<Figure size 432x288 with 1 Axes>"
      ]
     },
     "metadata": {
      "needs_background": "light"
     },
     "output_type": "display_data"
    }
   ],
   "source": [
    "wcss = []\n",
    "\n",
    "for i in range(2, 100, 3):\n",
    "    model = cluster.MiniBatchKMeans(n_clusters = i,     \n",
    "                    init = 'k-means++',                 # Initialization method for kmeans\n",
    "                    max_iter = 300,                     # Maximum number of iterations \n",
    "                    n_init = 10,                        # Choose how often algorithm will run with different centroid \n",
    "                    random_state = 0)                   # Choose random state for reproducibility\n",
    "    model.fit(X_pca_5)                              \n",
    "    wcss.append(model.inertia_)\n",
    "    \n",
    "# Show Elbow plot\n",
    "plt.plot(range(2, 100, 3), wcss)\n",
    "plt.title('Elbow Method')                               # Set plot title\n",
    "plt.xlabel('Number of clusters')                        # Set x axis name\n",
    "plt.ylabel('Within Cluster Sum of Squares (WCSS)')      # Set y axis name\n",
    "plt.show()"
   ]
  },
  {
   "cell_type": "markdown",
   "metadata": {},
   "source": [
    "k=10"
   ]
  },
  {
   "cell_type": "code",
   "execution_count": 82,
   "metadata": {},
   "outputs": [],
   "source": [
    "mbkmeans = cluster.MiniBatchKMeans(n_clusters = 10, random_state = 0)"
   ]
  },
  {
   "cell_type": "code",
   "execution_count": 83,
   "metadata": {},
   "outputs": [],
   "source": [
    "mbkmeans.fit(X_pca_5)\n",
    "mbk_pred = mbkmeans.predict(X_pca_5)"
   ]
  },
  {
   "cell_type": "code",
   "execution_count": 84,
   "metadata": {},
   "outputs": [
    {
     "name": "stdout",
     "output_type": "stream",
     "text": [
      "NMI(Primary Type): 0.007200865135554138\n",
      "NMI(Description): 0.019814825092864797\n",
      "NMI(IUCR): 0.0164097998062751\n",
      "NMI(FBI Code): 0.0069195941914406665\n"
     ]
    }
   ],
   "source": [
    "print(f\"NMI(Primary Type): {metrics.normalized_mutual_info_score(y1, mbk_pred, average_method='arithmetic')}\")\n",
    "print(f\"NMI(Description): {metrics.normalized_mutual_info_score(y2, mbk_pred, average_method='arithmetic')}\")\n",
    "print(f\"NMI(IUCR): {metrics.normalized_mutual_info_score(y3, mbk_pred, average_method='arithmetic')}\")\n",
    "print(f\"NMI(FBI Code): {metrics.normalized_mutual_info_score(y4, mbk_pred, average_method='arithmetic')}\")"
   ]
  },
  {
   "cell_type": "markdown",
   "metadata": {},
   "source": [
    "k=100"
   ]
  },
  {
   "cell_type": "code",
   "execution_count": 85,
   "metadata": {},
   "outputs": [
    {
     "name": "stdout",
     "output_type": "stream",
     "text": [
      "NMI(Primary Type): 0.017482402950835918\n",
      "NMI(Description): 0.051250680745940747\n",
      "NMI(IUCR): 0.047974897162042715\n",
      "NMI(FBI Code): 0.01674316401603379\n"
     ]
    }
   ],
   "source": [
    "mbkmeans = cluster.MiniBatchKMeans(n_clusters = 100, random_state = 0)\n",
    "mbkmeans.fit(X_pca_5)\n",
    "mbk_pred = mbkmeans.predict(X_pca_5)\n",
    "print(f\"NMI(Primary Type): {metrics.normalized_mutual_info_score(y1, mbk_pred, average_method='arithmetic')}\")\n",
    "print(f\"NMI(Description): {metrics.normalized_mutual_info_score(y2, mbk_pred, average_method='arithmetic')}\")\n",
    "print(f\"NMI(IUCR): {metrics.normalized_mutual_info_score(y3, mbk_pred, average_method='arithmetic')}\")\n",
    "print(f\"NMI(FBI Code): {metrics.normalized_mutual_info_score(y4, mbk_pred, average_method='arithmetic')}\")"
   ]
  },
  {
   "cell_type": "markdown",
   "metadata": {},
   "source": [
    "k=200"
   ]
  },
  {
   "cell_type": "code",
   "execution_count": 86,
   "metadata": {},
   "outputs": [
    {
     "name": "stdout",
     "output_type": "stream",
     "text": [
      "NMI(Primary Type): 0.023506585163531237\n",
      "NMI(Description): 0.06842620466970352\n",
      "NMI(IUCR): 0.06605127221598876\n",
      "NMI(FBI Code): 0.02248813639656284\n"
     ]
    }
   ],
   "source": [
    "mbkmeans = cluster.MiniBatchKMeans(n_clusters = 200, random_state = 0)\n",
    "mbkmeans.fit(X_pca_5)\n",
    "mbk_pred = mbkmeans.predict(X_pca_5)\n",
    "print(f\"NMI(Primary Type): {metrics.normalized_mutual_info_score(y1, mbk_pred, average_method='arithmetic')}\")\n",
    "print(f\"NMI(Description): {metrics.normalized_mutual_info_score(y2, mbk_pred, average_method='arithmetic')}\")\n",
    "print(f\"NMI(IUCR): {metrics.normalized_mutual_info_score(y3, mbk_pred, average_method='arithmetic')}\")\n",
    "print(f\"NMI(FBI Code): {metrics.normalized_mutual_info_score(y4, mbk_pred, average_method='arithmetic')}\")"
   ]
  },
  {
   "cell_type": "markdown",
   "metadata": {},
   "source": [
    "k=30"
   ]
  },
  {
   "cell_type": "code",
   "execution_count": 87,
   "metadata": {},
   "outputs": [
    {
     "name": "stdout",
     "output_type": "stream",
     "text": [
      "NMI(Primary Type): 0.010263325301902182\n",
      "NMI(Description): 0.02934056466200518\n",
      "NMI(IUCR): 0.02560741686798913\n",
      "NMI(FBI Code): 0.009784318191547644\n"
     ]
    }
   ],
   "source": [
    "mbkmeans = cluster.MiniBatchKMeans(n_clusters = 30, random_state = 0)\n",
    "mbkmeans.fit(X_pca_5)\n",
    "mbk_pred = mbkmeans.predict(X_pca_5)\n",
    "print(f\"NMI(Primary Type): {metrics.normalized_mutual_info_score(y1, mbk_pred, average_method='arithmetic')}\")\n",
    "print(f\"NMI(Description): {metrics.normalized_mutual_info_score(y2, mbk_pred, average_method='arithmetic')}\")\n",
    "print(f\"NMI(IUCR): {metrics.normalized_mutual_info_score(y3, mbk_pred, average_method='arithmetic')}\")\n",
    "print(f\"NMI(FBI Code): {metrics.normalized_mutual_info_score(y4, mbk_pred, average_method='arithmetic')}\")"
   ]
  },
  {
   "cell_type": "markdown",
   "metadata": {},
   "source": [
    "PCA with 10 components"
   ]
  },
  {
   "cell_type": "code",
   "execution_count": 75,
   "metadata": {},
   "outputs": [],
   "source": [
    "pca = decomposition.PCA(n_components=10)\n",
    "# Determine transformed features\n",
    "X_pca_10 = pca.fit_transform(X)"
   ]
  },
  {
   "cell_type": "code",
   "execution_count": 79,
   "metadata": {},
   "outputs": [
    {
     "data": {
      "image/png": "[encoded data removed]",
      "text/plain": [
       "<Figure size 432x288 with 1 Axes>"
      ]
     },
     "metadata": {
      "needs_background": "light"
     },
     "output_type": "display_data"
    }
   ],
   "source": [
    "wcss = []\n",
    "\n",
    "for i in range(2, 100, 3):\n",
    "    model = cluster.MiniBatchKMeans(n_clusters = i,     \n",
    "                    init = 'k-means++',                 # Initialization method for kmeans\n",
    "                    max_iter = 300,                     # Maximum number of iterations \n",
    "                    n_init = 10,                        # Choose how often algorithm will run with different centroid \n",
    "                    random_state = 0)                   # Choose random state for reproducibility\n",
    "    model.fit(X_pca_10)                              \n",
    "    wcss.append(model.inertia_)\n",
    "    \n",
    "# Show Elbow plot\n",
    "plt.plot(range(2, 100, 3), wcss)\n",
    "plt.title('Elbow Method')                               # Set plot title\n",
    "plt.xlabel('Number of clusters')                        # Set x axis name\n",
    "plt.ylabel('Within Cluster Sum of Squares (WCSS)')      # Set y axis name\n",
    "plt.show()"
   ]
  },
  {
   "cell_type": "markdown",
   "metadata": {},
   "source": [
    "k=10"
   ]
  },
  {
   "cell_type": "code",
   "execution_count": 88,
   "metadata": {},
   "outputs": [
    {
     "name": "stdout",
     "output_type": "stream",
     "text": [
      "NMI(Primary Type): 0.009568034394168257\n",
      "NMI(Description): 0.02377004929302079\n",
      "NMI(IUCR): 0.020654606642400434\n",
      "NMI(FBI Code): 0.009367670390002903\n"
     ]
    }
   ],
   "source": [
    "mbkmeans = cluster.MiniBatchKMeans(n_clusters = 10, random_state = 0)\n",
    "mbkmeans.fit(X_pca_10)\n",
    "mbk_pred = mbkmeans.predict(X_pca_10)\n",
    "print(f\"NMI(Primary Type): {metrics.normalized_mutual_info_score(y1, mbk_pred, average_method='arithmetic')}\")\n",
    "print(f\"NMI(Description): {metrics.normalized_mutual_info_score(y2, mbk_pred, average_method='arithmetic')}\")\n",
    "print(f\"NMI(IUCR): {metrics.normalized_mutual_info_score(y3, mbk_pred, average_method='arithmetic')}\")\n",
    "print(f\"NMI(FBI Code): {metrics.normalized_mutual_info_score(y4, mbk_pred, average_method='arithmetic')}\")"
   ]
  },
  {
   "cell_type": "markdown",
   "metadata": {},
   "source": [
    "k=30"
   ]
  },
  {
   "cell_type": "code",
   "execution_count": 89,
   "metadata": {},
   "outputs": [
    {
     "name": "stdout",
     "output_type": "stream",
     "text": [
      "NMI(Primary Type): 0.01620891136288788\n",
      "NMI(Description): 0.039046506582013946\n",
      "NMI(IUCR): 0.03609347338809565\n",
      "NMI(FBI Code): 0.01560774198192174\n"
     ]
    }
   ],
   "source": [
    "mbkmeans = cluster.MiniBatchKMeans(n_clusters = 30, random_state = 0)\n",
    "mbkmeans.fit(X_pca_10)\n",
    "mbk_pred = mbkmeans.predict(X_pca_10)\n",
    "print(f\"NMI(Primary Type): {metrics.normalized_mutual_info_score(y1, mbk_pred, average_method='arithmetic')}\")\n",
    "print(f\"NMI(Description): {metrics.normalized_mutual_info_score(y2, mbk_pred, average_method='arithmetic')}\")\n",
    "print(f\"NMI(IUCR): {metrics.normalized_mutual_info_score(y3, mbk_pred, average_method='arithmetic')}\")\n",
    "print(f\"NMI(FBI Code): {metrics.normalized_mutual_info_score(y4, mbk_pred, average_method='arithmetic')}\")"
   ]
  },
  {
   "cell_type": "markdown",
   "metadata": {},
   "source": [
    "k=100"
   ]
  },
  {
   "cell_type": "code",
   "execution_count": 90,
   "metadata": {},
   "outputs": [
    {
     "name": "stdout",
     "output_type": "stream",
     "text": [
      "NMI(Primary Type): 0.021862635534085732\n",
      "NMI(Description): 0.05686952770475132\n",
      "NMI(IUCR): 0.054141931937771295\n",
      "NMI(FBI Code): 0.020838581061965674\n"
     ]
    }
   ],
   "source": [
    "mbkmeans = cluster.MiniBatchKMeans(n_clusters = 100, random_state = 0)\n",
    "mbkmeans.fit(X_pca_10)\n",
    "mbk_pred = mbkmeans.predict(X_pca_10)\n",
    "print(f\"NMI(Primary Type): {metrics.normalized_mutual_info_score(y1, mbk_pred, average_method='arithmetic')}\")\n",
    "print(f\"NMI(Description): {metrics.normalized_mutual_info_score(y2, mbk_pred, average_method='arithmetic')}\")\n",
    "print(f\"NMI(IUCR): {metrics.normalized_mutual_info_score(y3, mbk_pred, average_method='arithmetic')}\")\n",
    "print(f\"NMI(FBI Code): {metrics.normalized_mutual_info_score(y4, mbk_pred, average_method='arithmetic')}\")"
   ]
  },
  {
   "cell_type": "markdown",
   "metadata": {},
   "source": [
    "k=200"
   ]
  },
  {
   "cell_type": "code",
   "execution_count": 91,
   "metadata": {},
   "outputs": [
    {
     "name": "stdout",
     "output_type": "stream",
     "text": [
      "NMI(Primary Type): 0.025526277687068614\n",
      "NMI(Description): 0.07025618556819145\n",
      "NMI(IUCR): 0.06824773384390706\n",
      "NMI(FBI Code): 0.024481379100357564\n"
     ]
    }
   ],
   "source": [
    "mbkmeans = cluster.MiniBatchKMeans(n_clusters = 200, random_state = 0)\n",
    "mbkmeans.fit(X_pca_10)\n",
    "mbk_pred = mbkmeans.predict(X_pca_10)\n",
    "print(f\"NMI(Primary Type): {metrics.normalized_mutual_info_score(y1, mbk_pred, average_method='arithmetic')}\")\n",
    "print(f\"NMI(Description): {metrics.normalized_mutual_info_score(y2, mbk_pred, average_method='arithmetic')}\")\n",
    "print(f\"NMI(IUCR): {metrics.normalized_mutual_info_score(y3, mbk_pred, average_method='arithmetic')}\")\n",
    "print(f\"NMI(FBI Code): {metrics.normalized_mutual_info_score(y4, mbk_pred, average_method='arithmetic')}\")"
   ]
  },
  {
   "cell_type": "markdown",
   "metadata": {},
   "source": [
    "PCA with 15 components"
   ]
  },
  {
   "cell_type": "code",
   "execution_count": 76,
   "metadata": {},
   "outputs": [],
   "source": [
    "pca = decomposition.PCA(n_components=15)\n",
    "# Determine transformed features\n",
    "X_pca_15 = pca.fit_transform(X)"
   ]
  },
  {
   "cell_type": "code",
   "execution_count": 80,
   "metadata": {},
   "outputs": [
    {
     "data": {
      "image/png": "[encoded data removed]",
      "text/plain": [
       "<Figure size 432x288 with 1 Axes>"
      ]
     },
     "metadata": {
      "needs_background": "light"
     },
     "output_type": "display_data"
    }
   ],
   "source": [
    "wcss = []\n",
    "\n",
    "for i in range(2, 100, 3):\n",
    "    model = cluster.MiniBatchKMeans(n_clusters = i,     \n",
    "                    init = 'k-means++',                 # Initialization method for kmeans\n",
    "                    max_iter = 300,                     # Maximum number of iterations \n",
    "                    n_init = 10,                        # Choose how often algorithm will run with different centroid \n",
    "                    random_state = 0)                   # Choose random state for reproducibility\n",
    "    model.fit(X_pca_5)                              \n",
    "    wcss.append(model.inertia_)\n",
    "    \n",
    "# Show Elbow plot\n",
    "plt.plot(range(2, 100, 3), wcss)\n",
    "plt.title('Elbow Method')                               # Set plot title\n",
    "plt.xlabel('Number of clusters')                        # Set x axis name\n",
    "plt.ylabel('Within Cluster Sum of Squares (WCSS)')      # Set y axis name\n",
    "plt.show()"
   ]
  },
  {
   "cell_type": "markdown",
   "metadata": {},
   "source": [
    "k=10"
   ]
  },
  {
   "cell_type": "code",
   "execution_count": 92,
   "metadata": {},
   "outputs": [
    {
     "name": "stdout",
     "output_type": "stream",
     "text": [
      "NMI(Primary Type): 0.007006284758233516\n",
      "NMI(Description): 0.0200253453327614\n",
      "NMI(IUCR): 0.016706082531330314\n",
      "NMI(FBI Code): 0.006879799952257456\n"
     ]
    }
   ],
   "source": [
    "mbkmeans = cluster.MiniBatchKMeans(n_clusters = 10, random_state = 0)\n",
    "mbkmeans.fit(X_pca_15)\n",
    "mbk_pred = mbkmeans.predict(X_pca_15)\n",
    "print(f\"NMI(Primary Type): {metrics.normalized_mutual_info_score(y1, mbk_pred, average_method='arithmetic')}\")\n",
    "print(f\"NMI(Description): {metrics.normalized_mutual_info_score(y2, mbk_pred, average_method='arithmetic')}\")\n",
    "print(f\"NMI(IUCR): {metrics.normalized_mutual_info_score(y3, mbk_pred, average_method='arithmetic')}\")\n",
    "print(f\"NMI(FBI Code): {metrics.normalized_mutual_info_score(y4, mbk_pred, average_method='arithmetic')}\")"
   ]
  },
  {
   "cell_type": "markdown",
   "metadata": {},
   "source": [
    "k=30"
   ]
  },
  {
   "cell_type": "code",
   "execution_count": 93,
   "metadata": {},
   "outputs": [
    {
     "name": "stdout",
     "output_type": "stream",
     "text": [
      "NMI(Primary Type): 0.015224730551621423\n",
      "NMI(Description): 0.03798002404942439\n",
      "NMI(IUCR): 0.03444352850998454\n",
      "NMI(FBI Code): 0.014706753701048226\n"
     ]
    }
   ],
   "source": [
    "mbkmeans = cluster.MiniBatchKMeans(n_clusters = 30, random_state = 0)\n",
    "mbkmeans.fit(X_pca_15)\n",
    "mbk_pred = mbkmeans.predict(X_pca_15)\n",
    "print(f\"NMI(Primary Type): {metrics.normalized_mutual_info_score(y1, mbk_pred, average_method='arithmetic')}\")\n",
    "print(f\"NMI(Description): {metrics.normalized_mutual_info_score(y2, mbk_pred, average_method='arithmetic')}\")\n",
    "print(f\"NMI(IUCR): {metrics.normalized_mutual_info_score(y3, mbk_pred, average_method='arithmetic')}\")\n",
    "print(f\"NMI(FBI Code): {metrics.normalized_mutual_info_score(y4, mbk_pred, average_method='arithmetic')}\")"
   ]
  },
  {
   "cell_type": "markdown",
   "metadata": {},
   "source": [
    "k=100"
   ]
  },
  {
   "cell_type": "code",
   "execution_count": 94,
   "metadata": {},
   "outputs": [
    {
     "name": "stdout",
     "output_type": "stream",
     "text": [
      "NMI(Primary Type): 0.024440795064880182\n",
      "NMI(Description): 0.06025375865211125\n",
      "NMI(IUCR): 0.05699587731774831\n",
      "NMI(FBI Code): 0.023038518217566497\n"
     ]
    }
   ],
   "source": [
    "mbkmeans = cluster.MiniBatchKMeans(n_clusters = 100, random_state = 0)\n",
    "mbkmeans.fit(X_pca_15)\n",
    "mbk_pred = mbkmeans.predict(X_pca_15)\n",
    "print(f\"NMI(Primary Type): {metrics.normalized_mutual_info_score(y1, mbk_pred, average_method='arithmetic')}\")\n",
    "print(f\"NMI(Description): {metrics.normalized_mutual_info_score(y2, mbk_pred, average_method='arithmetic')}\")\n",
    "print(f\"NMI(IUCR): {metrics.normalized_mutual_info_score(y3, mbk_pred, average_method='arithmetic')}\")\n",
    "print(f\"NMI(FBI Code): {metrics.normalized_mutual_info_score(y4, mbk_pred, average_method='arithmetic')}\")"
   ]
  },
  {
   "cell_type": "markdown",
   "metadata": {},
   "source": [
    "## Binning"
   ]
  },
  {
   "cell_type": "markdown",
   "metadata": {},
   "source": [
    "n_bins=7"
   ]
  },
  {
   "cell_type": "code",
   "execution_count": 101,
   "metadata": {},
   "outputs": [],
   "source": [
    "est = preprocessing.KBinsDiscretizer(n_bins=7, encode='ordinal', strategy='uniform')\n",
    "est.fit(X)\n",
    "X_bin_7 = est.transform(X)"
   ]
  },
  {
   "cell_type": "code",
   "execution_count": 102,
   "metadata": {},
   "outputs": [
    {
     "name": "stdout",
     "output_type": "stream",
     "text": [
      "NMI(Primary Type): 0.11245179283930413\n",
      "NMI(Description): 0.1384804191280034\n",
      "NMI(IUCR): 0.1370979459557884\n",
      "NMI(FBI Code): 0.10603042665286322\n"
     ]
    }
   ],
   "source": [
    "mbkmeans = cluster.MiniBatchKMeans(n_clusters = 30, random_state = 0)\n",
    "mbkmeans.fit(X_bin_7)\n",
    "mbk_pred = mbkmeans.predict(X_bin_7)\n",
    "print(f\"NMI(Primary Type): {metrics.normalized_mutual_info_score(y1, mbk_pred, average_method='arithmetic')}\")\n",
    "print(f\"NMI(Description): {metrics.normalized_mutual_info_score(y2, mbk_pred, average_method='arithmetic')}\")\n",
    "print(f\"NMI(IUCR): {metrics.normalized_mutual_info_score(y3, mbk_pred, average_method='arithmetic')}\")\n",
    "print(f\"NMI(FBI Code): {metrics.normalized_mutual_info_score(y4, mbk_pred, average_method='arithmetic')}\")"
   ]
  },
  {
   "cell_type": "code",
   "execution_count": 103,
   "metadata": {},
   "outputs": [
    {
     "data": {
      "image/png": "[encoded data removed]",
      "text/plain": [
       "<Figure size 432x288 with 1 Axes>"
      ]
     },
     "metadata": {
      "needs_background": "light"
     },
     "output_type": "display_data"
    }
   ],
   "source": [
    "wcss = []\n",
    "\n",
    "for i in range(2, 100, 3):\n",
    "    model = cluster.MiniBatchKMeans(n_clusters = i,     \n",
    "                    init = 'k-means++',                 # Initialization method for kmeans\n",
    "                    max_iter = 300,                     # Maximum number of iterations \n",
    "                    n_init = 10,                        # Choose how often algorithm will run with different centroid \n",
    "                    random_state = 0)                   # Choose random state for reproducibility\n",
    "    model.fit(X_bin_7)                              \n",
    "    wcss.append(model.inertia_)\n",
    "    \n",
    "# Show Elbow plot\n",
    "plt.plot(range(2, 100, 3), wcss)\n",
    "plt.title('Elbow Method')                               # Set plot title\n",
    "plt.xlabel('Number of clusters')                        # Set x axis name\n",
    "plt.ylabel('Within Cluster Sum of Squares (WCSS)')      # Set y axis name\n",
    "plt.show()"
   ]
  },
  {
   "cell_type": "code",
   "execution_count": 104,
   "metadata": {},
   "outputs": [
    {
     "name": "stdout",
     "output_type": "stream",
     "text": [
      "NMI(Primary Type): 0.10918781115845297\n",
      "NMI(Description): 0.14844340889805002\n",
      "NMI(IUCR): 0.14726197640258043\n",
      "NMI(FBI Code): 0.10332749536549056\n"
     ]
    }
   ],
   "source": [
    "mbkmeans = cluster.MiniBatchKMeans(n_clusters = 100, random_state = 0)\n",
    "mbkmeans.fit(X_bin_7)\n",
    "mbk_pred = mbkmeans.predict(X_bin_7)\n",
    "print(f\"NMI(Primary Type): {metrics.normalized_mutual_info_score(y1, mbk_pred, average_method='arithmetic')}\")\n",
    "print(f\"NMI(Description): {metrics.normalized_mutual_info_score(y2, mbk_pred, average_method='arithmetic')}\")\n",
    "print(f\"NMI(IUCR): {metrics.normalized_mutual_info_score(y3, mbk_pred, average_method='arithmetic')}\")\n",
    "print(f\"NMI(FBI Code): {metrics.normalized_mutual_info_score(y4, mbk_pred, average_method='arithmetic')}\")"
   ]
  },
  {
   "cell_type": "code",
   "execution_count": 105,
   "metadata": {},
   "outputs": [
    {
     "name": "stdout",
     "output_type": "stream",
     "text": [
      "NMI(Primary Type): 0.11488918626739202\n",
      "NMI(Description): 0.14428438177729974\n",
      "NMI(IUCR): 0.1427381217544598\n",
      "NMI(FBI Code): 0.10805225687022071\n"
     ]
    }
   ],
   "source": [
    "mbkmeans = cluster.MiniBatchKMeans(n_clusters = 40, random_state = 0)\n",
    "mbkmeans.fit(X_bin_7)\n",
    "mbk_pred = mbkmeans.predict(X_bin_7)\n",
    "print(f\"NMI(Primary Type): {metrics.normalized_mutual_info_score(y1, mbk_pred, average_method='arithmetic')}\")\n",
    "print(f\"NMI(Description): {metrics.normalized_mutual_info_score(y2, mbk_pred, average_method='arithmetic')}\")\n",
    "print(f\"NMI(IUCR): {metrics.normalized_mutual_info_score(y3, mbk_pred, average_method='arithmetic')}\")\n",
    "print(f\"NMI(FBI Code): {metrics.normalized_mutual_info_score(y4, mbk_pred, average_method='arithmetic')}\")"
   ]
  },
  {
   "cell_type": "code",
   "execution_count": 106,
   "metadata": {},
   "outputs": [
    {
     "name": "stdout",
     "output_type": "stream",
     "text": [
      "NMI(Primary Type): 0.10569850128628533\n",
      "NMI(Description): 0.14074767104923583\n",
      "NMI(IUCR): 0.1394707386394332\n",
      "NMI(FBI Code): 0.09994590740445937\n"
     ]
    }
   ],
   "source": [
    "mbkmeans = cluster.MiniBatchKMeans(n_clusters = 70, random_state = 0)\n",
    "mbkmeans.fit(X_bin_7)\n",
    "mbk_pred = mbkmeans.predict(X_bin_7)\n",
    "print(f\"NMI(Primary Type): {metrics.normalized_mutual_info_score(y1, mbk_pred, average_method='arithmetic')}\")\n",
    "print(f\"NMI(Description): {metrics.normalized_mutual_info_score(y2, mbk_pred, average_method='arithmetic')}\")\n",
    "print(f\"NMI(IUCR): {metrics.normalized_mutual_info_score(y3, mbk_pred, average_method='arithmetic')}\")\n",
    "print(f\"NMI(FBI Code): {metrics.normalized_mutual_info_score(y4, mbk_pred, average_method='arithmetic')}\")"
   ]
  },
  {
   "cell_type": "code",
   "execution_count": 107,
   "metadata": {},
   "outputs": [
    {
     "name": "stdout",
     "output_type": "stream",
     "text": [
      "NMI(Primary Type): 0.11993521422956623\n",
      "NMI(Description): 0.12910137336019625\n",
      "NMI(IUCR): 0.12842269877834808\n",
      "NMI(FBI Code): 0.1122999881671647\n"
     ]
    }
   ],
   "source": [
    "mbkmeans = cluster.MiniBatchKMeans(n_clusters = 10, random_state = 0)\n",
    "mbkmeans.fit(X_bin_7)\n",
    "mbk_pred = mbkmeans.predict(X_bin_7)\n",
    "print(f\"NMI(Primary Type): {metrics.normalized_mutual_info_score(y1, mbk_pred, average_method='arithmetic')}\")\n",
    "print(f\"NMI(Description): {metrics.normalized_mutual_info_score(y2, mbk_pred, average_method='arithmetic')}\")\n",
    "print(f\"NMI(IUCR): {metrics.normalized_mutual_info_score(y3, mbk_pred, average_method='arithmetic')}\")\n",
    "print(f\"NMI(FBI Code): {metrics.normalized_mutual_info_score(y4, mbk_pred, average_method='arithmetic')}\")"
   ]
  },
  {
   "cell_type": "markdown",
   "metadata": {},
   "source": [
    "n_bins=3"
   ]
  },
  {
   "cell_type": "code",
   "execution_count": 7,
   "metadata": {},
   "outputs": [],
   "source": [
    "est = preprocessing.KBinsDiscretizer(n_bins=3, encode='ordinal', strategy='uniform')\n",
    "est.fit(X)\n",
    "X_bin_3 = est.transform(X)"
   ]
  },
  {
   "cell_type": "code",
   "execution_count": 8,
   "metadata": {},
   "outputs": [
    {
     "name": "stdout",
     "output_type": "stream",
     "text": [
      "NMI(Primary Type): 0.064723359987629\n",
      "NMI(Description): 0.08621040914553785\n",
      "NMI(IUCR): 0.08469645722471061\n",
      "NMI(FBI Code): 0.06091187851752487\n"
     ]
    }
   ],
   "source": [
    "mbkmeans = cluster.MiniBatchKMeans(n_clusters = 30, random_state = 0)\n",
    "mbkmeans.fit(X_bin_3)\n",
    "mbk_pred = mbkmeans.predict(X_bin_3)\n",
    "print(f\"NMI(Primary Type): {metrics.normalized_mutual_info_score(y1, mbk_pred, average_method='arithmetic')}\")\n",
    "print(f\"NMI(Description): {metrics.normalized_mutual_info_score(y2, mbk_pred, average_method='arithmetic')}\")\n",
    "print(f\"NMI(IUCR): {metrics.normalized_mutual_info_score(y3, mbk_pred, average_method='arithmetic')}\")\n",
    "print(f\"NMI(FBI Code): {metrics.normalized_mutual_info_score(y4, mbk_pred, average_method='arithmetic')}\")"
   ]
  },
  {
   "cell_type": "code",
   "execution_count": 11,
   "metadata": {},
   "outputs": [
    {
     "data": {
      "image/png": "[encoded data removed]",
      "text/plain": [
       "<Figure size 432x288 with 1 Axes>"
      ]
     },
     "metadata": {
      "needs_background": "light"
     },
     "output_type": "display_data"
    }
   ],
   "source": [
    "wcss = []\n",
    "\n",
    "for i in range(2, 50, 3):\n",
    "    model = cluster.MiniBatchKMeans(n_clusters = i,     \n",
    "                    init = 'k-means++',                 # Initialization method for kmeans\n",
    "                    max_iter = 300,                     # Maximum number of iterations \n",
    "                    n_init = 10,                        # Choose how often algorithm will run with different centroid \n",
    "                    random_state = 0)                   # Choose random state for reproducibility\n",
    "    model.fit(X_bin_3)                              \n",
    "    wcss.append(model.inertia_)\n",
    "    \n",
    "# Show Elbow plot\n",
    "plt.plot(range(2, 50, 3), wcss)\n",
    "plt.title('Elbow Method')                               # Set plot title\n",
    "plt.xlabel('Number of clusters')                        # Set x axis name\n",
    "plt.ylabel('Within Cluster Sum of Squares (WCSS)')      # Set y axis name\n",
    "plt.show()"
   ]
  },
  {
   "cell_type": "code",
   "execution_count": 12,
   "metadata": {},
   "outputs": [
    {
     "name": "stdout",
     "output_type": "stream",
     "text": [
      "NMI(Primary Type): 0.08524659376762617\n",
      "NMI(Description): 0.12165284350453419\n",
      "NMI(IUCR): 0.1202556195498926\n",
      "NMI(FBI Code): 0.08035187805664094\n"
     ]
    }
   ],
   "source": [
    "mbkmeans = cluster.MiniBatchKMeans(n_clusters = 100, random_state = 0)\n",
    "mbkmeans.fit(X_bin_3)\n",
    "mbk_pred = mbkmeans.predict(X_bin_3)\n",
    "print(f\"NMI(Primary Type): {metrics.normalized_mutual_info_score(y1, mbk_pred, average_method='arithmetic')}\")\n",
    "print(f\"NMI(Description): {metrics.normalized_mutual_info_score(y2, mbk_pred, average_method='arithmetic')}\")\n",
    "print(f\"NMI(IUCR): {metrics.normalized_mutual_info_score(y3, mbk_pred, average_method='arithmetic')}\")\n",
    "print(f\"NMI(FBI Code): {metrics.normalized_mutual_info_score(y4, mbk_pred, average_method='arithmetic')}\")"
   ]
  },
  {
   "cell_type": "code",
   "execution_count": 13,
   "metadata": {},
   "outputs": [
    {
     "name": "stdout",
     "output_type": "stream",
     "text": [
      "NMI(Primary Type): 0.06948507342351848\n",
      "NMI(Description): 0.09137533966322235\n",
      "NMI(IUCR): 0.08943485104038844\n",
      "NMI(FBI Code): 0.06509968452730036\n"
     ]
    }
   ],
   "source": [
    "mbkmeans = cluster.MiniBatchKMeans(n_clusters = 40, random_state = 0)\n",
    "mbkmeans.fit(X_bin_3)\n",
    "mbk_pred = mbkmeans.predict(X_bin_3)\n",
    "print(f\"NMI(Primary Type): {metrics.normalized_mutual_info_score(y1, mbk_pred, average_method='arithmetic')}\")\n",
    "print(f\"NMI(Description): {metrics.normalized_mutual_info_score(y2, mbk_pred, average_method='arithmetic')}\")\n",
    "print(f\"NMI(IUCR): {metrics.normalized_mutual_info_score(y3, mbk_pred, average_method='arithmetic')}\")\n",
    "print(f\"NMI(FBI Code): {metrics.normalized_mutual_info_score(y4, mbk_pred, average_method='arithmetic')}\")"
   ]
  },
  {
   "cell_type": "code",
   "execution_count": 14,
   "metadata": {},
   "outputs": [
    {
     "name": "stdout",
     "output_type": "stream",
     "text": [
      "NMI(Primary Type): 0.08277231654351924\n",
      "NMI(Description): 0.1134626004626946\n",
      "NMI(IUCR): 0.11188218210113603\n",
      "NMI(FBI Code): 0.07769704403277206\n"
     ]
    }
   ],
   "source": [
    "mbkmeans = cluster.MiniBatchKMeans(n_clusters = 70, random_state = 0)\n",
    "mbkmeans.fit(X_bin_3)\n",
    "mbk_pred = mbkmeans.predict(X_bin_3)\n",
    "print(f\"NMI(Primary Type): {metrics.normalized_mutual_info_score(y1, mbk_pred, average_method='arithmetic')}\")\n",
    "print(f\"NMI(Description): {metrics.normalized_mutual_info_score(y2, mbk_pred, average_method='arithmetic')}\")\n",
    "print(f\"NMI(IUCR): {metrics.normalized_mutual_info_score(y3, mbk_pred, average_method='arithmetic')}\")\n",
    "print(f\"NMI(FBI Code): {metrics.normalized_mutual_info_score(y4, mbk_pred, average_method='arithmetic')}\")"
   ]
  },
  {
   "cell_type": "code",
   "execution_count": 15,
   "metadata": {},
   "outputs": [
    {
     "name": "stdout",
     "output_type": "stream",
     "text": [
      "NMI(Primary Type): 0.010264864314044799\n",
      "NMI(Description): 0.019818820618837635\n",
      "NMI(IUCR): 0.018821782593084105\n",
      "NMI(FBI Code): 0.00967700823206655\n"
     ]
    }
   ],
   "source": [
    "mbkmeans = cluster.MiniBatchKMeans(n_clusters = 10, random_state = 0)\n",
    "mbkmeans.fit(X_bin_3)\n",
    "mbk_pred = mbkmeans.predict(X_bin_3)\n",
    "print(f\"NMI(Primary Type): {metrics.normalized_mutual_info_score(y1, mbk_pred, average_method='arithmetic')}\")\n",
    "print(f\"NMI(Description): {metrics.normalized_mutual_info_score(y2, mbk_pred, average_method='arithmetic')}\")\n",
    "print(f\"NMI(IUCR): {metrics.normalized_mutual_info_score(y3, mbk_pred, average_method='arithmetic')}\")\n",
    "print(f\"NMI(FBI Code): {metrics.normalized_mutual_info_score(y4, mbk_pred, average_method='arithmetic')}\")"
   ]
  },
  {
   "cell_type": "markdown",
   "metadata": {},
   "source": [
    "n_bins=10"
   ]
  },
  {
   "cell_type": "code",
   "execution_count": 16,
   "metadata": {},
   "outputs": [],
   "source": [
    "est = preprocessing.KBinsDiscretizer(n_bins=10, encode='ordinal', strategy='uniform')\n",
    "est.fit(X)\n",
    "X_bin_10 = est.transform(X)"
   ]
  },
  {
   "cell_type": "code",
   "execution_count": 17,
   "metadata": {},
   "outputs": [
    {
     "name": "stdout",
     "output_type": "stream",
     "text": [
      "NMI(Primary Type): 0.11306242083748083\n",
      "NMI(Description): 0.13806486483334587\n",
      "NMI(IUCR): 0.13642678696213176\n",
      "NMI(FBI Code): 0.10649456928945866\n"
     ]
    }
   ],
   "source": [
    "mbkmeans = cluster.MiniBatchKMeans(n_clusters = 30, random_state = 0)\n",
    "mbkmeans.fit(X_bin_10)\n",
    "mbk_pred = mbkmeans.predict(X_bin_10)\n",
    "print(f\"NMI(Primary Type): {metrics.normalized_mutual_info_score(y1, mbk_pred, average_method='arithmetic')}\")\n",
    "print(f\"NMI(Description): {metrics.normalized_mutual_info_score(y2, mbk_pred, average_method='arithmetic')}\")\n",
    "print(f\"NMI(IUCR): {metrics.normalized_mutual_info_score(y3, mbk_pred, average_method='arithmetic')}\")\n",
    "print(f\"NMI(FBI Code): {metrics.normalized_mutual_info_score(y4, mbk_pred, average_method='arithmetic')}\")"
   ]
  },
  {
   "cell_type": "code",
   "execution_count": 18,
   "metadata": {},
   "outputs": [
    {
     "data": {
      "image/png": "[encoded data removed]",
      "text/plain": [
       "<Figure size 432x288 with 1 Axes>"
      ]
     },
     "metadata": {
      "needs_background": "light"
     },
     "output_type": "display_data"
    }
   ],
   "source": [
    "wcss = []\n",
    "\n",
    "for i in range(2, 50, 3):\n",
    "    model = cluster.MiniBatchKMeans(n_clusters = i,     \n",
    "                    init = 'k-means++',                 # Initialization method for kmeans\n",
    "                    max_iter = 300,                     # Maximum number of iterations \n",
    "                    n_init = 10,                        # Choose how often algorithm will run with different centroid \n",
    "                    random_state = 0)                   # Choose random state for reproducibility\n",
    "    model.fit(X_bin_10)                              \n",
    "    wcss.append(model.inertia_)\n",
    "    \n",
    "# Show Elbow plot\n",
    "plt.plot(range(2, 50, 3), wcss)\n",
    "plt.title('Elbow Method')                               # Set plot title\n",
    "plt.xlabel('Number of clusters')                        # Set x axis name\n",
    "plt.ylabel('Within Cluster Sum of Squares (WCSS)')      # Set y axis name\n",
    "plt.show()"
   ]
  },
  {
   "cell_type": "code",
   "execution_count": 20,
   "metadata": {},
   "outputs": [
    {
     "name": "stdout",
     "output_type": "stream",
     "text": [
      "NMI(Primary Type): 0.10717551217002781\n",
      "NMI(Description): 0.1458631099048116\n",
      "NMI(IUCR): 0.1446956762944346\n",
      "NMI(FBI Code): 0.10137148671217652\n"
     ]
    }
   ],
   "source": [
    "mbkmeans = cluster.MiniBatchKMeans(n_clusters = 100, random_state = 0)\n",
    "mbkmeans.fit(X_bin_10)\n",
    "mbk_pred = mbkmeans.predict(X_bin_10)\n",
    "print(f\"NMI(Primary Type): {metrics.normalized_mutual_info_score(y1, mbk_pred, average_method='arithmetic')}\")\n",
    "print(f\"NMI(Description): {metrics.normalized_mutual_info_score(y2, mbk_pred, average_method='arithmetic')}\")\n",
    "print(f\"NMI(IUCR): {metrics.normalized_mutual_info_score(y3, mbk_pred, average_method='arithmetic')}\")\n",
    "print(f\"NMI(FBI Code): {metrics.normalized_mutual_info_score(y4, mbk_pred, average_method='arithmetic')}\")"
   ]
  },
  {
   "cell_type": "code",
   "execution_count": 21,
   "metadata": {},
   "outputs": [
    {
     "name": "stdout",
     "output_type": "stream",
     "text": [
      "NMI(Primary Type): 0.11162062112005308\n",
      "NMI(Description): 0.13892951969830028\n",
      "NMI(IUCR): 0.13732991439017525\n",
      "NMI(FBI Code): 0.10523035011989555\n"
     ]
    }
   ],
   "source": [
    "mbkmeans = cluster.MiniBatchKMeans(n_clusters = 40, random_state = 0)\n",
    "mbkmeans.fit(X_bin_10)\n",
    "mbk_pred = mbkmeans.predict(X_bin_10)\n",
    "print(f\"NMI(Primary Type): {metrics.normalized_mutual_info_score(y1, mbk_pred, average_method='arithmetic')}\")\n",
    "print(f\"NMI(Description): {metrics.normalized_mutual_info_score(y2, mbk_pred, average_method='arithmetic')}\")\n",
    "print(f\"NMI(IUCR): {metrics.normalized_mutual_info_score(y3, mbk_pred, average_method='arithmetic')}\")\n",
    "print(f\"NMI(FBI Code): {metrics.normalized_mutual_info_score(y4, mbk_pred, average_method='arithmetic')}\")"
   ]
  },
  {
   "cell_type": "code",
   "execution_count": 22,
   "metadata": {},
   "outputs": [
    {
     "name": "stdout",
     "output_type": "stream",
     "text": [
      "NMI(Primary Type): 0.10821269630403561\n",
      "NMI(Description): 0.14297748129376564\n",
      "NMI(IUCR): 0.14177520280797629\n",
      "NMI(FBI Code): 0.10207278137383\n"
     ]
    }
   ],
   "source": [
    "mbkmeans = cluster.MiniBatchKMeans(n_clusters = 70, random_state = 0)\n",
    "mbkmeans.fit(X_bin_10)\n",
    "mbk_pred = mbkmeans.predict(X_bin_10)\n",
    "print(f\"NMI(Primary Type): {metrics.normalized_mutual_info_score(y1, mbk_pred, average_method='arithmetic')}\")\n",
    "print(f\"NMI(Description): {metrics.normalized_mutual_info_score(y2, mbk_pred, average_method='arithmetic')}\")\n",
    "print(f\"NMI(IUCR): {metrics.normalized_mutual_info_score(y3, mbk_pred, average_method='arithmetic')}\")\n",
    "print(f\"NMI(FBI Code): {metrics.normalized_mutual_info_score(y4, mbk_pred, average_method='arithmetic')}\")"
   ]
  },
  {
   "cell_type": "code",
   "execution_count": 24,
   "metadata": {},
   "outputs": [
    {
     "name": "stdout",
     "output_type": "stream",
     "text": [
      "NMI(Primary Type): 0.10440645529208267\n",
      "NMI(Description): 0.12511341284850047\n",
      "NMI(IUCR): 0.12318294741584018\n",
      "NMI(FBI Code): 0.09810642279062591\n"
     ]
    }
   ],
   "source": [
    "mbkmeans = cluster.MiniBatchKMeans(n_clusters = 25, random_state = 0)\n",
    "mbkmeans.fit(X_bin_10)\n",
    "mbk_pred = mbkmeans.predict(X_bin_10)\n",
    "print(f\"NMI(Primary Type): {metrics.normalized_mutual_info_score(y1, mbk_pred, average_method='arithmetic')}\")\n",
    "print(f\"NMI(Description): {metrics.normalized_mutual_info_score(y2, mbk_pred, average_method='arithmetic')}\")\n",
    "print(f\"NMI(IUCR): {metrics.normalized_mutual_info_score(y3, mbk_pred, average_method='arithmetic')}\")\n",
    "print(f\"NMI(FBI Code): {metrics.normalized_mutual_info_score(y4, mbk_pred, average_method='arithmetic')}\")"
   ]
  },
  {
   "cell_type": "markdown",
   "metadata": {},
   "source": [
    "## Heirarchical Clustering"
   ]
  },
  {
   "cell_type": "code",
   "execution_count": 45,
   "metadata": {},
   "outputs": [
    {
     "data": {
      "text/plain": [
       "(30000, 25)"
      ]
     },
     "execution_count": 45,
     "metadata": {},
     "output_type": "execute_result"
    }
   ],
   "source": [
    "X_train, X_test, y_train, y_test = model_selection.train_test_split(X, y1, test_size=0.7,random_state=42)\n",
    "X_train.shape"
   ]
  },
  {
   "cell_type": "code",
   "execution_count": 46,
   "metadata": {},
   "outputs": [],
   "source": [
    "dbs = cluster.DBSCAN(eps=0.5, min_samples=5)"
   ]
  },
  {
   "cell_type": "code",
   "execution_count": 47,
   "metadata": {},
   "outputs": [],
   "source": [
    "dbs_pred = dbs.fit_predict(X_train)"
   ]
  },
  {
   "cell_type": "code",
   "execution_count": 48,
   "metadata": {},
   "outputs": [
    {
     "name": "stdout",
     "output_type": "stream",
     "text": [
      "NMI(Primary Type): 0.0\n",
      "n_cluster = 1\n"
     ]
    }
   ],
   "source": [
    "print(f\"NMI(Primary Type): {metrics.normalized_mutual_info_score(y_train, dbs_pred, average_method='arithmetic')}\")\n",
    "print(f\"n_cluster = {len(np.unique(dbs.labels_))}\")"
   ]
  },
  {
   "cell_type": "code",
   "execution_count": 49,
   "metadata": {},
   "outputs": [
    {
     "name": "stdout",
     "output_type": "stream",
     "text": [
      "NMI(Primary Type): 0.0\n",
      "n_cluster = 1\n"
     ]
    }
   ],
   "source": [
    "dbs = cluster.DBSCAN(eps=0.2, min_samples=5)\n",
    "dbs_pred = dbs.fit_predict(X_train)\n",
    "print(f\"NMI(Primary Type): {metrics.normalized_mutual_info_score(y_train, dbs_pred, average_method='arithmetic')}\")\n",
    "print(f\"n_cluster = {len(np.unique(dbs.labels_))}\")"
   ]
  },
  {
   "cell_type": "code",
   "execution_count": 50,
   "metadata": {},
   "outputs": [
    {
     "name": "stdout",
     "output_type": "stream",
     "text": [
      "NMI(Primary Type): 0.0\n",
      "n_cluster = 1\n"
     ]
    }
   ],
   "source": [
    "dbs = cluster.DBSCAN(eps=0.3, min_samples=5)\n",
    "dbs_pred = dbs.fit_predict(X_train)\n",
    "print(f\"NMI(Primary Type): {metrics.normalized_mutual_info_score(y_train, dbs_pred, average_method='arithmetic')}\")\n",
    "print(f\"n_cluster = {len(np.unique(dbs.labels_))}\")"
   ]
  },
  {
   "cell_type": "code",
   "execution_count": 51,
   "metadata": {},
   "outputs": [
    {
     "name": "stdout",
     "output_type": "stream",
     "text": [
      "NMI(Primary Type): 0.010005874314306431\n",
      "n_cluster = 49\n"
     ]
    }
   ],
   "source": [
    "dbs = cluster.DBSCAN(eps=0.7, min_samples=5)\n",
    "dbs_pred = dbs.fit_predict(X_train)\n",
    "print(f\"NMI(Primary Type): {metrics.normalized_mutual_info_score(y_train, dbs_pred, average_method='arithmetic')}\")\n",
    "print(f\"n_cluster = {len(np.unique(dbs.labels_))}\")"
   ]
  },
  {
   "cell_type": "code",
   "execution_count": 52,
   "metadata": {},
   "outputs": [
    {
     "name": "stdout",
     "output_type": "stream",
     "text": [
      "NMI(Primary Type): 0.04189843159387393\n",
      "n_cluster = 205\n"
     ]
    }
   ],
   "source": [
    "dbs = cluster.DBSCAN(eps=0.8, min_samples=5)\n",
    "dbs_pred = dbs.fit_predict(X_train)\n",
    "print(f\"NMI(Primary Type): {metrics.normalized_mutual_info_score(y_train, dbs_pred, average_method='arithmetic')}\")\n",
    "print(f\"n_cluster = {len(np.unique(dbs.labels_))}\")"
   ]
  },
  {
   "cell_type": "code",
   "execution_count": 53,
   "metadata": {},
   "outputs": [
    {
     "name": "stdout",
     "output_type": "stream",
     "text": [
      "NMI(Primary Type): 0.0909050146139351\n",
      "n_cluster = 241\n"
     ]
    }
   ],
   "source": [
    "dbs = cluster.DBSCAN(eps=1, min_samples=5)\n",
    "dbs_pred = dbs.fit_predict(X_train)\n",
    "print(f\"NMI(Primary Type): {metrics.normalized_mutual_info_score(y_train, dbs_pred, average_method='arithmetic')}\")\n",
    "print(f\"n_cluster = {len(np.unique(dbs.labels_))}\")"
   ]
  },
  {
   "cell_type": "code",
   "execution_count": 54,
   "metadata": {},
   "outputs": [
    {
     "name": "stdout",
     "output_type": "stream",
     "text": [
      "NMI(Primary Type): 0.02686279689640948\n",
      "n_cluster = 99\n"
     ]
    }
   ],
   "source": [
    "dbs = cluster.DBSCAN(eps=1.2, min_samples=5)\n",
    "dbs_pred = dbs.fit_predict(X_train)\n",
    "print(f\"NMI(Primary Type): {metrics.normalized_mutual_info_score(y_train, dbs_pred, average_method='arithmetic')}\")\n",
    "print(f\"n_cluster = {len(np.unique(dbs.labels_))}\")"
   ]
  },
  {
   "cell_type": "markdown",
   "metadata": {},
   "source": [
    "Try with different seed of split"
   ]
  },
  {
   "cell_type": "code",
   "execution_count": 55,
   "metadata": {},
   "outputs": [
    {
     "data": {
      "text/plain": [
       "(40000, 25)"
      ]
     },
     "execution_count": 55,
     "metadata": {},
     "output_type": "execute_result"
    }
   ],
   "source": [
    "X_train, X_test, y_train, y_test = model_selection.train_test_split(X, y1, test_size=0.6,random_state=0)\n",
    "X_train.shape"
   ]
  },
  {
   "cell_type": "code",
   "execution_count": 56,
   "metadata": {},
   "outputs": [
    {
     "name": "stdout",
     "output_type": "stream",
     "text": [
      "NMI(Primary Type): 0.00019395252529067142\n",
      "n_cluster = 2\n"
     ]
    }
   ],
   "source": [
    "dbs = cluster.DBSCAN(eps=0.5, min_samples=5)\n",
    "dbs_pred = dbs.fit_predict(X_train)\n",
    "print(f\"NMI(Primary Type): {metrics.normalized_mutual_info_score(y_train, dbs_pred, average_method='arithmetic')}\")\n",
    "print(f\"n_cluster = {len(np.unique(dbs.labels_))}\")"
   ]
  },
  {
   "cell_type": "code",
   "execution_count": 57,
   "metadata": {},
   "outputs": [
    {
     "name": "stdout",
     "output_type": "stream",
     "text": [
      "NMI(Primary Type): 0.09774564743986913\n",
      "n_cluster = 303\n"
     ]
    }
   ],
   "source": [
    "dbs = cluster.DBSCAN(eps=1, min_samples=5)\n",
    "dbs_pred = dbs.fit_predict(X_train)\n",
    "print(f\"NMI(Primary Type): {metrics.normalized_mutual_info_score(y_train, dbs_pred, average_method='arithmetic')}\")\n",
    "print(f\"n_cluster = {len(np.unique(dbs.labels_))}\")"
   ]
  },
  {
   "cell_type": "code",
   "execution_count": 58,
   "metadata": {},
   "outputs": [
    {
     "name": "stdout",
     "output_type": "stream",
     "text": [
      "NMI(Primary Type): 0.014521997897955581\n",
      "n_cluster = 98\n"
     ]
    }
   ],
   "source": [
    "dbs = cluster.DBSCAN(eps=0.7, min_samples=5)\n",
    "dbs_pred = dbs.fit_predict(X_train)\n",
    "print(f\"NMI(Primary Type): {metrics.normalized_mutual_info_score(y_train, dbs_pred, average_method='arithmetic')}\")\n",
    "print(f\"n_cluster = {len(np.unique(dbs.labels_))}\")"
   ]
  },
  {
   "cell_type": "markdown",
   "metadata": {},
   "source": [
    "# Only remove Primary type for testing"
   ]
  },
  {
   "cell_type": "code",
   "execution_count": 78,
   "metadata": {},
   "outputs": [
    {
     "name": "stderr",
     "output_type": "stream",
     "text": [
      "/tmp/ipykernel_55137/2057714055.py:1: FutureWarning: In a future version of pandas all arguments of DataFrame.drop except for the argument 'labels' will be keyword-only\n",
      "  X = df.drop(\"Primary Type\", 1)\n"
     ]
    }
   ],
   "source": [
    "X = df.drop(\"Primary Type\", 1)\n",
    "y = df[\"Primary Type\"]"
   ]
  },
  {
   "cell_type": "code",
   "execution_count": 79,
   "metadata": {},
   "outputs": [
    {
     "data": {
      "text/html": [
       "<div>\n",
       "<style scoped>\n",
       "    .dataframe tbody tr th:only-of-type {\n",
       "        vertical-align: middle;\n",
       "    }\n",
       "\n",
       "    .dataframe tbody tr th {\n",
       "        vertical-align: top;\n",
       "    }\n",
       "\n",
       "    .dataframe thead th {\n",
       "        text-align: right;\n",
       "    }\n",
       "</style>\n",
       "<table border=\"1\" class=\"dataframe\">\n",
       "  <thead>\n",
       "    <tr style=\"text-align: right;\">\n",
       "      <th></th>\n",
       "      <th>0</th>\n",
       "      <th>1</th>\n",
       "      <th>2</th>\n",
       "      <th>3</th>\n",
       "      <th>4</th>\n",
       "      <th>5</th>\n",
       "      <th>6</th>\n",
       "      <th>7</th>\n",
       "      <th>8</th>\n",
       "      <th>9</th>\n",
       "      <th>10</th>\n",
       "      <th>11</th>\n",
       "      <th>12</th>\n",
       "      <th>13</th>\n",
       "      <th>14</th>\n",
       "      <th>15</th>\n",
       "      <th>16</th>\n",
       "      <th>17</th>\n",
       "      <th>18</th>\n",
       "      <th>19</th>\n",
       "      <th>20</th>\n",
       "      <th>21</th>\n",
       "      <th>22</th>\n",
       "      <th>23</th>\n",
       "      <th>24</th>\n",
       "      <th>25</th>\n",
       "      <th>26</th>\n",
       "      <th>27</th>\n",
       "    </tr>\n",
       "  </thead>\n",
       "  <tbody>\n",
       "    <tr>\n",
       "      <th>0</th>\n",
       "      <td>74.0</td>\n",
       "      <td>238.0</td>\n",
       "      <td>131.0</td>\n",
       "      <td>0.0</td>\n",
       "      <td>0.0</td>\n",
       "      <td>167.0</td>\n",
       "      <td>11.0</td>\n",
       "      <td>26.0</td>\n",
       "      <td>27.0</td>\n",
       "      <td>7.0</td>\n",
       "      <td>21009.0</td>\n",
       "      <td>31645.0</td>\n",
       "      <td>45638.0</td>\n",
       "      <td>37464.0</td>\n",
       "      <td>12.0</td>\n",
       "      <td>14.0</td>\n",
       "      <td>45.0</td>\n",
       "      <td>10.0</td>\n",
       "      <td>1.0</td>\n",
       "      <td>4.0</td>\n",
       "      <td>8.0</td>\n",
       "      <td>27.0</td>\n",
       "      <td>8.0</td>\n",
       "      <td>1.0</td>\n",
       "      <td>7.0</td>\n",
       "      <td>2.0</td>\n",
       "      <td>276.0</td>\n",
       "      <td>1.0</td>\n",
       "    </tr>\n",
       "    <tr>\n",
       "      <th>1</th>\n",
       "      <td>44.0</td>\n",
       "      <td>137.0</td>\n",
       "      <td>127.0</td>\n",
       "      <td>0.0</td>\n",
       "      <td>1.0</td>\n",
       "      <td>150.0</td>\n",
       "      <td>11.0</td>\n",
       "      <td>24.0</td>\n",
       "      <td>30.0</td>\n",
       "      <td>10.0</td>\n",
       "      <td>20994.0</td>\n",
       "      <td>26324.0</td>\n",
       "      <td>36716.0</td>\n",
       "      <td>37269.0</td>\n",
       "      <td>18.0</td>\n",
       "      <td>17.0</td>\n",
       "      <td>15.0</td>\n",
       "      <td>3.0</td>\n",
       "      <td>2.0</td>\n",
       "      <td>4.0</td>\n",
       "      <td>8.0</td>\n",
       "      <td>9.0</td>\n",
       "      <td>5.0</td>\n",
       "      <td>1.0</td>\n",
       "      <td>7.0</td>\n",
       "      <td>5.0</td>\n",
       "      <td>82.0</td>\n",
       "      <td>3.0</td>\n",
       "    </tr>\n",
       "    <tr>\n",
       "      <th>2</th>\n",
       "      <td>159.0</td>\n",
       "      <td>315.0</td>\n",
       "      <td>131.0</td>\n",
       "      <td>1.0</td>\n",
       "      <td>0.0</td>\n",
       "      <td>139.0</td>\n",
       "      <td>10.0</td>\n",
       "      <td>23.0</td>\n",
       "      <td>24.0</td>\n",
       "      <td>18.0</td>\n",
       "      <td>6478.0</td>\n",
       "      <td>27879.0</td>\n",
       "      <td>39005.0</td>\n",
       "      <td>9255.0</td>\n",
       "      <td>21.0</td>\n",
       "      <td>15.0</td>\n",
       "      <td>45.0</td>\n",
       "      <td>10.0</td>\n",
       "      <td>15.0</td>\n",
       "      <td>2.0</td>\n",
       "      <td>8.0</td>\n",
       "      <td>9.0</td>\n",
       "      <td>5.0</td>\n",
       "      <td>1.0</td>\n",
       "      <td>7.0</td>\n",
       "      <td>5.0</td>\n",
       "      <td>446.0</td>\n",
       "      <td>2.0</td>\n",
       "    </tr>\n",
       "    <tr>\n",
       "      <th>3</th>\n",
       "      <td>34.0</td>\n",
       "      <td>309.0</td>\n",
       "      <td>94.0</td>\n",
       "      <td>0.0</td>\n",
       "      <td>0.0</td>\n",
       "      <td>34.0</td>\n",
       "      <td>2.0</td>\n",
       "      <td>4.0</td>\n",
       "      <td>68.0</td>\n",
       "      <td>10.0</td>\n",
       "      <td>33963.0</td>\n",
       "      <td>12421.0</td>\n",
       "      <td>16760.0</td>\n",
       "      <td>63920.0</td>\n",
       "      <td>17.0</td>\n",
       "      <td>3.0</td>\n",
       "      <td>30.0</td>\n",
       "      <td>7.0</td>\n",
       "      <td>11.0</td>\n",
       "      <td>5.0</td>\n",
       "      <td>2.0</td>\n",
       "      <td>3.0</td>\n",
       "      <td>4.0</td>\n",
       "      <td>1.0</td>\n",
       "      <td>5.0</td>\n",
       "      <td>3.0</td>\n",
       "      <td>766.0</td>\n",
       "      <td>2.0</td>\n",
       "    </tr>\n",
       "    <tr>\n",
       "      <th>4</th>\n",
       "      <td>133.0</td>\n",
       "      <td>338.0</td>\n",
       "      <td>17.0</td>\n",
       "      <td>0.0</td>\n",
       "      <td>0.0</td>\n",
       "      <td>286.0</td>\n",
       "      <td>20.0</td>\n",
       "      <td>39.0</td>\n",
       "      <td>76.0</td>\n",
       "      <td>16.0</td>\n",
       "      <td>19222.0</td>\n",
       "      <td>47669.0</td>\n",
       "      <td>68814.0</td>\n",
       "      <td>34001.0</td>\n",
       "      <td>16.0</td>\n",
       "      <td>15.0</td>\n",
       "      <td>50.0</td>\n",
       "      <td>11.0</td>\n",
       "      <td>18.0</td>\n",
       "      <td>0.0</td>\n",
       "      <td>8.0</td>\n",
       "      <td>22.0</td>\n",
       "      <td>51.0</td>\n",
       "      <td>11.0</td>\n",
       "      <td>8.0</td>\n",
       "      <td>0.0</td>\n",
       "      <td>1325.0</td>\n",
       "      <td>3.0</td>\n",
       "    </tr>\n",
       "  </tbody>\n",
       "</table>\n",
       "</div>"
      ],
      "text/plain": [
       "      0      1      2    3    4      5     6     7     8     9        10  \\\n",
       "0   74.0  238.0  131.0  0.0  0.0  167.0  11.0  26.0  27.0   7.0  21009.0   \n",
       "1   44.0  137.0  127.0  0.0  1.0  150.0  11.0  24.0  30.0  10.0  20994.0   \n",
       "2  159.0  315.0  131.0  1.0  0.0  139.0  10.0  23.0  24.0  18.0   6478.0   \n",
       "3   34.0  309.0   94.0  0.0  0.0   34.0   2.0   4.0  68.0  10.0  33963.0   \n",
       "4  133.0  338.0   17.0  0.0  0.0  286.0  20.0  39.0  76.0  16.0  19222.0   \n",
       "\n",
       "        11       12       13    14    15    16    17    18   19   20    21  \\\n",
       "0  31645.0  45638.0  37464.0  12.0  14.0  45.0  10.0   1.0  4.0  8.0  27.0   \n",
       "1  26324.0  36716.0  37269.0  18.0  17.0  15.0   3.0   2.0  4.0  8.0   9.0   \n",
       "2  27879.0  39005.0   9255.0  21.0  15.0  45.0  10.0  15.0  2.0  8.0   9.0   \n",
       "3  12421.0  16760.0  63920.0  17.0   3.0  30.0   7.0  11.0  5.0  2.0   3.0   \n",
       "4  47669.0  68814.0  34001.0  16.0  15.0  50.0  11.0  18.0  0.0  8.0  22.0   \n",
       "\n",
       "     22    23   24   25      26   27  \n",
       "0   8.0   1.0  7.0  2.0   276.0  1.0  \n",
       "1   5.0   1.0  7.0  5.0    82.0  3.0  \n",
       "2   5.0   1.0  7.0  5.0   446.0  2.0  \n",
       "3   4.0   1.0  5.0  3.0   766.0  2.0  \n",
       "4  51.0  11.0  8.0  0.0  1325.0  3.0  "
      ]
     },
     "execution_count": 79,
     "metadata": {},
     "output_type": "execute_result"
    }
   ],
   "source": [
    "enc = preprocessing.OrdinalEncoder()\n",
    "X = pd.DataFrame(enc.fit_transform(X))\n",
    "X.head()"
   ]
  },
  {
   "cell_type": "code",
   "execution_count": 80,
   "metadata": {},
   "outputs": [
    {
     "data": {
      "text/html": [
       "<div>\n",
       "<style scoped>\n",
       "    .dataframe tbody tr th:only-of-type {\n",
       "        vertical-align: middle;\n",
       "    }\n",
       "\n",
       "    .dataframe tbody tr th {\n",
       "        vertical-align: top;\n",
       "    }\n",
       "\n",
       "    .dataframe thead th {\n",
       "        text-align: right;\n",
       "    }\n",
       "</style>\n",
       "<table border=\"1\" class=\"dataframe\">\n",
       "  <thead>\n",
       "    <tr style=\"text-align: right;\">\n",
       "      <th></th>\n",
       "      <th>0</th>\n",
       "      <th>1</th>\n",
       "      <th>2</th>\n",
       "      <th>3</th>\n",
       "      <th>4</th>\n",
       "      <th>5</th>\n",
       "      <th>6</th>\n",
       "      <th>7</th>\n",
       "      <th>8</th>\n",
       "      <th>9</th>\n",
       "      <th>10</th>\n",
       "      <th>11</th>\n",
       "      <th>12</th>\n",
       "      <th>13</th>\n",
       "      <th>14</th>\n",
       "      <th>15</th>\n",
       "      <th>16</th>\n",
       "      <th>17</th>\n",
       "      <th>18</th>\n",
       "      <th>19</th>\n",
       "      <th>20</th>\n",
       "      <th>21</th>\n",
       "      <th>22</th>\n",
       "      <th>23</th>\n",
       "      <th>24</th>\n",
       "      <th>25</th>\n",
       "      <th>26</th>\n",
       "      <th>27</th>\n",
       "    </tr>\n",
       "  </thead>\n",
       "  <tbody>\n",
       "    <tr>\n",
       "      <th>0</th>\n",
       "      <td>-0.089744</td>\n",
       "      <td>0.000000</td>\n",
       "      <td>0.442308</td>\n",
       "      <td>0.0</td>\n",
       "      <td>0.0</td>\n",
       "      <td>0.273973</td>\n",
       "      <td>0.2</td>\n",
       "      <td>0.208333</td>\n",
       "      <td>-0.114286</td>\n",
       "      <td>-0.333333</td>\n",
       "      <td>-0.014721</td>\n",
       "      <td>0.261442</td>\n",
       "      <td>0.281706</td>\n",
       "      <td>-0.013314</td>\n",
       "      <td>-0.2</td>\n",
       "      <td>-0.066667</td>\n",
       "      <td>0.791667</td>\n",
       "      <td>0.8</td>\n",
       "      <td>-0.777778</td>\n",
       "      <td>0.25</td>\n",
       "      <td>0.0</td>\n",
       "      <td>1.000000</td>\n",
       "      <td>0.000000</td>\n",
       "      <td>0.0</td>\n",
       "      <td>0.0</td>\n",
       "      <td>-0.333333</td>\n",
       "      <td>-0.705548</td>\n",
       "      <td>-0.5</td>\n",
       "    </tr>\n",
       "    <tr>\n",
       "      <th>1</th>\n",
       "      <td>-0.474359</td>\n",
       "      <td>-0.587209</td>\n",
       "      <td>0.365385</td>\n",
       "      <td>0.0</td>\n",
       "      <td>1.0</td>\n",
       "      <td>0.157534</td>\n",
       "      <td>0.2</td>\n",
       "      <td>0.125000</td>\n",
       "      <td>-0.028571</td>\n",
       "      <td>0.000000</td>\n",
       "      <td>-0.015579</td>\n",
       "      <td>0.019359</td>\n",
       "      <td>0.016259</td>\n",
       "      <td>-0.018718</td>\n",
       "      <td>0.4</td>\n",
       "      <td>0.133333</td>\n",
       "      <td>-0.458333</td>\n",
       "      <td>-0.6</td>\n",
       "      <td>-0.666667</td>\n",
       "      <td>0.25</td>\n",
       "      <td>0.0</td>\n",
       "      <td>0.000000</td>\n",
       "      <td>-1.000000</td>\n",
       "      <td>0.0</td>\n",
       "      <td>0.0</td>\n",
       "      <td>0.666667</td>\n",
       "      <td>-0.981508</td>\n",
       "      <td>0.5</td>\n",
       "    </tr>\n",
       "    <tr>\n",
       "      <th>2</th>\n",
       "      <td>1.000000</td>\n",
       "      <td>0.447674</td>\n",
       "      <td>0.442308</td>\n",
       "      <td>1.0</td>\n",
       "      <td>0.0</td>\n",
       "      <td>0.082192</td>\n",
       "      <td>0.1</td>\n",
       "      <td>0.083333</td>\n",
       "      <td>-0.200000</td>\n",
       "      <td>0.888889</td>\n",
       "      <td>-0.845444</td>\n",
       "      <td>0.090105</td>\n",
       "      <td>0.084362</td>\n",
       "      <td>-0.794976</td>\n",
       "      <td>0.7</td>\n",
       "      <td>0.000000</td>\n",
       "      <td>0.791667</td>\n",
       "      <td>0.8</td>\n",
       "      <td>0.777778</td>\n",
       "      <td>-0.25</td>\n",
       "      <td>0.0</td>\n",
       "      <td>0.000000</td>\n",
       "      <td>-1.000000</td>\n",
       "      <td>0.0</td>\n",
       "      <td>0.0</td>\n",
       "      <td>0.666667</td>\n",
       "      <td>-0.463727</td>\n",
       "      <td>0.0</td>\n",
       "    </tr>\n",
       "    <tr>\n",
       "      <th>3</th>\n",
       "      <td>-0.602564</td>\n",
       "      <td>0.412791</td>\n",
       "      <td>-0.269231</td>\n",
       "      <td>0.0</td>\n",
       "      <td>0.0</td>\n",
       "      <td>-0.636986</td>\n",
       "      <td>-0.7</td>\n",
       "      <td>-0.708333</td>\n",
       "      <td>1.057143</td>\n",
       "      <td>0.000000</td>\n",
       "      <td>0.725846</td>\n",
       "      <td>-0.613171</td>\n",
       "      <td>-0.577470</td>\n",
       "      <td>0.719772</td>\n",
       "      <td>0.3</td>\n",
       "      <td>-0.800000</td>\n",
       "      <td>0.166667</td>\n",
       "      <td>0.2</td>\n",
       "      <td>0.333333</td>\n",
       "      <td>0.50</td>\n",
       "      <td>-6.0</td>\n",
       "      <td>-0.333333</td>\n",
       "      <td>-1.333333</td>\n",
       "      <td>0.0</td>\n",
       "      <td>-2.0</td>\n",
       "      <td>0.000000</td>\n",
       "      <td>-0.008535</td>\n",
       "      <td>0.0</td>\n",
       "    </tr>\n",
       "    <tr>\n",
       "      <th>4</th>\n",
       "      <td>0.666667</td>\n",
       "      <td>0.581395</td>\n",
       "      <td>-1.750000</td>\n",
       "      <td>0.0</td>\n",
       "      <td>0.0</td>\n",
       "      <td>1.089041</td>\n",
       "      <td>1.1</td>\n",
       "      <td>0.750000</td>\n",
       "      <td>1.285714</td>\n",
       "      <td>0.666667</td>\n",
       "      <td>-0.116882</td>\n",
       "      <td>0.990469</td>\n",
       "      <td>0.971237</td>\n",
       "      <td>-0.109273</td>\n",
       "      <td>0.2</td>\n",
       "      <td>0.000000</td>\n",
       "      <td>1.000000</td>\n",
       "      <td>1.0</td>\n",
       "      <td>1.111111</td>\n",
       "      <td>-0.75</td>\n",
       "      <td>0.0</td>\n",
       "      <td>0.722222</td>\n",
       "      <td>14.333333</td>\n",
       "      <td>10.0</td>\n",
       "      <td>1.0</td>\n",
       "      <td>-1.000000</td>\n",
       "      <td>0.786629</td>\n",
       "      <td>0.5</td>\n",
       "    </tr>\n",
       "  </tbody>\n",
       "</table>\n",
       "</div>"
      ],
      "text/plain": [
       "         0         1         2    3    4         5    6         7         8   \\\n",
       "0 -0.089744  0.000000  0.442308  0.0  0.0  0.273973  0.2  0.208333 -0.114286   \n",
       "1 -0.474359 -0.587209  0.365385  0.0  1.0  0.157534  0.2  0.125000 -0.028571   \n",
       "2  1.000000  0.447674  0.442308  1.0  0.0  0.082192  0.1  0.083333 -0.200000   \n",
       "3 -0.602564  0.412791 -0.269231  0.0  0.0 -0.636986 -0.7 -0.708333  1.057143   \n",
       "4  0.666667  0.581395 -1.750000  0.0  0.0  1.089041  1.1  0.750000  1.285714   \n",
       "\n",
       "         9         10        11        12        13   14        15        16  \\\n",
       "0 -0.333333 -0.014721  0.261442  0.281706 -0.013314 -0.2 -0.066667  0.791667   \n",
       "1  0.000000 -0.015579  0.019359  0.016259 -0.018718  0.4  0.133333 -0.458333   \n",
       "2  0.888889 -0.845444  0.090105  0.084362 -0.794976  0.7  0.000000  0.791667   \n",
       "3  0.000000  0.725846 -0.613171 -0.577470  0.719772  0.3 -0.800000  0.166667   \n",
       "4  0.666667 -0.116882  0.990469  0.971237 -0.109273  0.2  0.000000  1.000000   \n",
       "\n",
       "    17        18    19   20        21         22    23   24        25  \\\n",
       "0  0.8 -0.777778  0.25  0.0  1.000000   0.000000   0.0  0.0 -0.333333   \n",
       "1 -0.6 -0.666667  0.25  0.0  0.000000  -1.000000   0.0  0.0  0.666667   \n",
       "2  0.8  0.777778 -0.25  0.0  0.000000  -1.000000   0.0  0.0  0.666667   \n",
       "3  0.2  0.333333  0.50 -6.0 -0.333333  -1.333333   0.0 -2.0  0.000000   \n",
       "4  1.0  1.111111 -0.75  0.0  0.722222  14.333333  10.0  1.0 -1.000000   \n",
       "\n",
       "         26   27  \n",
       "0 -0.705548 -0.5  \n",
       "1 -0.981508  0.5  \n",
       "2 -0.463727  0.0  \n",
       "3 -0.008535  0.0  \n",
       "4  0.786629  0.5  "
      ]
     },
     "execution_count": 80,
     "metadata": {},
     "output_type": "execute_result"
    }
   ],
   "source": [
    "scl = preprocessing.RobustScaler()\n",
    "scl.fit(X)\n",
    "X = pd.DataFrame(scl.transform(X))\n",
    "X.head()"
   ]
  },
  {
   "cell_type": "code",
   "execution_count": 81,
   "metadata": {},
   "outputs": [],
   "source": [
    "mbkmeans = cluster.MiniBatchKMeans(n_clusters = 30, random_state = 0)"
   ]
  },
  {
   "cell_type": "code",
   "execution_count": 82,
   "metadata": {},
   "outputs": [],
   "source": [
    "mbkmeans.fit(X)\n",
    "mbk_pred = mbkmeans.predict(X)"
   ]
  },
  {
   "cell_type": "code",
   "execution_count": 83,
   "metadata": {},
   "outputs": [
    {
     "name": "stdout",
     "output_type": "stream",
     "text": [
      "NMI(Primary Type): 0.17697618940346885\n"
     ]
    }
   ],
   "source": [
    "print(f\"NMI(Primary Type): {metrics.normalized_mutual_info_score(y, mbk_pred, average_method='arithmetic')}\")"
   ]
  },
  {
   "cell_type": "markdown",
   "metadata": {},
   "source": [
    "Elbow Method to determine k"
   ]
  },
  {
   "cell_type": "code",
   "execution_count": 84,
   "metadata": {},
   "outputs": [
    {
     "data": {
      "image/png": "[encoded data removed]",
      "text/plain": [
       "<Figure size 432x288 with 1 Axes>"
      ]
     },
     "metadata": {
      "needs_background": "light"
     },
     "output_type": "display_data"
    }
   ],
   "source": [
    "wcss = []\n",
    "\n",
    "for i in range(2, 100, 3):\n",
    "    model = cluster.MiniBatchKMeans(n_clusters = i,     \n",
    "                    init = 'k-means++',                 # Initialization method for kmeans\n",
    "                    max_iter = 300,                     # Maximum number of iterations \n",
    "                    n_init = 10,                        # Choose how often algorithm will run with different centroid \n",
    "                    random_state = 0)                   # Choose random state for reproducibility\n",
    "    model.fit(X)                              \n",
    "    wcss.append(model.inertia_)\n",
    "    \n",
    "# Show Elbow plot\n",
    "plt.plot(range(2, 100, 3), wcss)\n",
    "plt.title('Elbow Method')                               # Set plot title\n",
    "plt.xlabel('Number of clusters')                        # Set x axis name\n",
    "plt.ylabel('Within Cluster Sum of Squares (WCSS)')      # Set y axis name\n",
    "plt.show()"
   ]
  },
  {
   "cell_type": "markdown",
   "metadata": {},
   "source": [
    "The Elbow method suggests we use $k\\approx 7$"
   ]
  },
  {
   "cell_type": "code",
   "execution_count": 85,
   "metadata": {},
   "outputs": [],
   "source": [
    "mbkmeans = cluster.MiniBatchKMeans(n_clusters = 7, random_state = 0)"
   ]
  },
  {
   "cell_type": "code",
   "execution_count": 86,
   "metadata": {},
   "outputs": [],
   "source": [
    "mbkmeans.fit(X)\n",
    "mbk_pred = mbkmeans.predict(X)"
   ]
  },
  {
   "cell_type": "code",
   "execution_count": 87,
   "metadata": {},
   "outputs": [
    {
     "name": "stdout",
     "output_type": "stream",
     "text": [
      "NMI(Primary Type): 0.19951534635307608\n"
     ]
    }
   ],
   "source": [
    "print(f\"NMI(Primary Type): {metrics.normalized_mutual_info_score(y, mbk_pred, average_method='arithmetic')}\")"
   ]
  },
  {
   "cell_type": "markdown",
   "metadata": {},
   "source": [
    "k=10"
   ]
  },
  {
   "cell_type": "code",
   "execution_count": 88,
   "metadata": {},
   "outputs": [],
   "source": [
    "mbkmeans = cluster.MiniBatchKMeans(n_clusters = 10, random_state = 0)"
   ]
  },
  {
   "cell_type": "code",
   "execution_count": 89,
   "metadata": {},
   "outputs": [],
   "source": [
    "mbkmeans.fit(X)\n",
    "mbk_pred = mbkmeans.predict(X)"
   ]
  },
  {
   "cell_type": "code",
   "execution_count": 90,
   "metadata": {},
   "outputs": [
    {
     "name": "stdout",
     "output_type": "stream",
     "text": [
      "NMI(Primary Type): 0.2014220536474912\n"
     ]
    }
   ],
   "source": [
    "print(f\"NMI(Primary Type): {metrics.normalized_mutual_info_score(y, mbk_pred, average_method='arithmetic')}\")"
   ]
  },
  {
   "cell_type": "markdown",
   "metadata": {},
   "source": [
    "The elbow method seems to give worse results. So, now we experiment with different k values."
   ]
  },
  {
   "cell_type": "markdown",
   "metadata": {},
   "source": [
    "k=25"
   ]
  },
  {
   "cell_type": "code",
   "execution_count": 91,
   "metadata": {},
   "outputs": [],
   "source": [
    "mbkmeans = cluster.MiniBatchKMeans(n_clusters = 25, random_state = 0)"
   ]
  },
  {
   "cell_type": "code",
   "execution_count": 92,
   "metadata": {},
   "outputs": [],
   "source": [
    "mbkmeans.fit(X)\n",
    "mbk_pred = mbkmeans.predict(X)"
   ]
  },
  {
   "cell_type": "code",
   "execution_count": 93,
   "metadata": {},
   "outputs": [
    {
     "name": "stdout",
     "output_type": "stream",
     "text": [
      "NMI(Primary Type): 0.20237589223458494\n"
     ]
    }
   ],
   "source": [
    "print(f\"NMI(Primary Type): {metrics.normalized_mutual_info_score(y, mbk_pred, average_method='arithmetic')}\")"
   ]
  },
  {
   "cell_type": "markdown",
   "metadata": {},
   "source": [
    "k=20"
   ]
  },
  {
   "cell_type": "code",
   "execution_count": 94,
   "metadata": {},
   "outputs": [],
   "source": [
    "mbkmeans = cluster.MiniBatchKMeans(n_clusters = 20, random_state = 0)"
   ]
  },
  {
   "cell_type": "code",
   "execution_count": 95,
   "metadata": {},
   "outputs": [],
   "source": [
    "mbkmeans.fit(X)\n",
    "mbk_pred = mbkmeans.predict(X)"
   ]
  },
  {
   "cell_type": "code",
   "execution_count": 96,
   "metadata": {},
   "outputs": [
    {
     "name": "stdout",
     "output_type": "stream",
     "text": [
      "NMI(Primary Type): 0.17596666524019317\n"
     ]
    }
   ],
   "source": [
    "print(f\"NMI(Primary Type): {metrics.normalized_mutual_info_score(y, mbk_pred, average_method='arithmetic')}\")"
   ]
  },
  {
   "cell_type": "markdown",
   "metadata": {},
   "source": [
    "k=100"
   ]
  },
  {
   "cell_type": "code",
   "execution_count": 97,
   "metadata": {},
   "outputs": [],
   "source": [
    "mbkmeans = cluster.MiniBatchKMeans(n_clusters = 100, random_state = 0)"
   ]
  },
  {
   "cell_type": "code",
   "execution_count": 98,
   "metadata": {},
   "outputs": [],
   "source": [
    "mbkmeans.fit(X)\n",
    "mbk_pred = mbkmeans.predict(X)"
   ]
  },
  {
   "cell_type": "code",
   "execution_count": 99,
   "metadata": {},
   "outputs": [
    {
     "name": "stdout",
     "output_type": "stream",
     "text": [
      "NMI(Primary Type): 0.20892953722675933\n"
     ]
    }
   ],
   "source": [
    "print(f\"NMI(Primary Type): {metrics.normalized_mutual_info_score(y, mbk_pred, average_method='arithmetic')}\")"
   ]
  },
  {
   "cell_type": "markdown",
   "metadata": {},
   "source": [
    "$k=100$ gives better results."
   ]
  },
  {
   "cell_type": "markdown",
   "metadata": {},
   "source": [
    "k=50"
   ]
  },
  {
   "cell_type": "code",
   "execution_count": 100,
   "metadata": {},
   "outputs": [],
   "source": [
    "mbkmeans = cluster.MiniBatchKMeans(n_clusters = 50, random_state = 0)"
   ]
  },
  {
   "cell_type": "code",
   "execution_count": 101,
   "metadata": {},
   "outputs": [],
   "source": [
    "mbkmeans.fit(X)\n",
    "mbk_pred = mbkmeans.predict(X)"
   ]
  },
  {
   "cell_type": "code",
   "execution_count": 102,
   "metadata": {},
   "outputs": [
    {
     "name": "stdout",
     "output_type": "stream",
     "text": [
      "NMI(Primary Type): 0.18698568239097307\n"
     ]
    }
   ],
   "source": [
    "print(f\"NMI(Primary Type): {metrics.normalized_mutual_info_score(y, mbk_pred, average_method='arithmetic')}\")"
   ]
  },
  {
   "cell_type": "markdown",
   "metadata": {},
   "source": [
    "k=200"
   ]
  },
  {
   "cell_type": "code",
   "execution_count": 103,
   "metadata": {},
   "outputs": [],
   "source": [
    "mbkmeans = cluster.MiniBatchKMeans(n_clusters = 200, random_state = 0)"
   ]
  },
  {
   "cell_type": "code",
   "execution_count": 104,
   "metadata": {},
   "outputs": [],
   "source": [
    "mbkmeans.fit(X)\n",
    "mbk_pred = mbkmeans.predict(X)"
   ]
  },
  {
   "cell_type": "code",
   "execution_count": 105,
   "metadata": {},
   "outputs": [
    {
     "name": "stdout",
     "output_type": "stream",
     "text": [
      "NMI(Primary Type): 0.19424497335385815\n"
     ]
    }
   ],
   "source": [
    "print(f\"NMI(Primary Type): {metrics.normalized_mutual_info_score(y, mbk_pred, average_method='arithmetic')}\")"
   ]
  },
  {
   "cell_type": "markdown",
   "metadata": {},
   "source": [
    "Again, $k=200$ gives better results. Somehow, higher $k$ is giving better results."
   ]
  },
  {
   "cell_type": "markdown",
   "metadata": {},
   "source": [
    "## Dimension Reduction"
   ]
  },
  {
   "cell_type": "code",
   "execution_count": 106,
   "metadata": {},
   "outputs": [
    {
     "data": {
      "text/plain": [
       "(100000, 28)"
      ]
     },
     "execution_count": 106,
     "metadata": {},
     "output_type": "execute_result"
    }
   ],
   "source": [
    "X.shape"
   ]
  },
  {
   "cell_type": "markdown",
   "metadata": {},
   "source": [
    "PCA with 5 components"
   ]
  },
  {
   "cell_type": "code",
   "execution_count": 107,
   "metadata": {},
   "outputs": [],
   "source": [
    "pca = decomposition.PCA(n_components=5)\n",
    "# Determine transformed features\n",
    "X_pca_5 = pca.fit_transform(X)"
   ]
  },
  {
   "cell_type": "code",
   "execution_count": 108,
   "metadata": {},
   "outputs": [
    {
     "data": {
      "image/png": "[encoded data removed]",
      "text/plain": [
       "<Figure size 432x288 with 1 Axes>"
      ]
     },
     "metadata": {
      "needs_background": "light"
     },
     "output_type": "display_data"
    }
   ],
   "source": [
    "wcss = []\n",
    "\n",
    "for i in range(2, 100, 3):\n",
    "    model = cluster.MiniBatchKMeans(n_clusters = i,     \n",
    "                    init = 'k-means++',                 # Initialization method for kmeans\n",
    "                    max_iter = 300,                     # Maximum number of iterations \n",
    "                    n_init = 10,                        # Choose how often algorithm will run with different centroid \n",
    "                    random_state = 0)                   # Choose random state for reproducibility\n",
    "    model.fit(X_pca_5)                              \n",
    "    wcss.append(model.inertia_)\n",
    "    \n",
    "# Show Elbow plot\n",
    "plt.plot(range(2, 100, 3), wcss)\n",
    "plt.title('Elbow Method')                               # Set plot title\n",
    "plt.xlabel('Number of clusters')                        # Set x axis name\n",
    "plt.ylabel('Within Cluster Sum of Squares (WCSS)')      # Set y axis name\n",
    "plt.show()"
   ]
  },
  {
   "cell_type": "markdown",
   "metadata": {},
   "source": [
    "k=10"
   ]
  },
  {
   "cell_type": "code",
   "execution_count": 109,
   "metadata": {},
   "outputs": [],
   "source": [
    "mbkmeans = cluster.MiniBatchKMeans(n_clusters = 10, random_state = 0)"
   ]
  },
  {
   "cell_type": "code",
   "execution_count": 110,
   "metadata": {},
   "outputs": [],
   "source": [
    "mbkmeans.fit(X_pca_5)\n",
    "mbk_pred = mbkmeans.predict(X_pca_5)"
   ]
  },
  {
   "cell_type": "code",
   "execution_count": 111,
   "metadata": {},
   "outputs": [
    {
     "name": "stdout",
     "output_type": "stream",
     "text": [
      "NMI(Primary Type): 0.2311320947218261\n"
     ]
    }
   ],
   "source": [
    "print(f\"NMI(Primary Type): {metrics.normalized_mutual_info_score(y, mbk_pred, average_method='arithmetic')}\")"
   ]
  },
  {
   "cell_type": "markdown",
   "metadata": {},
   "source": [
    "k=100"
   ]
  },
  {
   "cell_type": "code",
   "execution_count": 112,
   "metadata": {},
   "outputs": [
    {
     "name": "stdout",
     "output_type": "stream",
     "text": [
      "NMI(Primary Type): 0.24751726554319017\n"
     ]
    }
   ],
   "source": [
    "mbkmeans = cluster.MiniBatchKMeans(n_clusters = 100, random_state = 0)\n",
    "mbkmeans.fit(X_pca_5)\n",
    "mbk_pred = mbkmeans.predict(X_pca_5)\n",
    "print(f\"NMI(Primary Type): {metrics.normalized_mutual_info_score(y, mbk_pred, average_method='arithmetic')}\")"
   ]
  },
  {
   "cell_type": "markdown",
   "metadata": {},
   "source": [
    "k=200"
   ]
  },
  {
   "cell_type": "code",
   "execution_count": 113,
   "metadata": {},
   "outputs": [
    {
     "name": "stdout",
     "output_type": "stream",
     "text": [
      "NMI(Primary Type): 0.25208999871054133\n"
     ]
    }
   ],
   "source": [
    "mbkmeans = cluster.MiniBatchKMeans(n_clusters = 200, random_state = 0)\n",
    "mbkmeans.fit(X_pca_5)\n",
    "mbk_pred = mbkmeans.predict(X_pca_5)\n",
    "print(f\"NMI(Primary Type): {metrics.normalized_mutual_info_score(y, mbk_pred, average_method='arithmetic')}\")"
   ]
  },
  {
   "cell_type": "markdown",
   "metadata": {},
   "source": [
    "k=30"
   ]
  },
  {
   "cell_type": "code",
   "execution_count": 114,
   "metadata": {},
   "outputs": [
    {
     "name": "stdout",
     "output_type": "stream",
     "text": [
      "NMI(Primary Type): 0.23218567457732006\n"
     ]
    }
   ],
   "source": [
    "mbkmeans = cluster.MiniBatchKMeans(n_clusters = 30, random_state = 0)\n",
    "mbkmeans.fit(X_pca_5)\n",
    "mbk_pred = mbkmeans.predict(X_pca_5)\n",
    "print(f\"NMI(Primary Type): {metrics.normalized_mutual_info_score(y, mbk_pred, average_method='arithmetic')}\")"
   ]
  },
  {
   "cell_type": "markdown",
   "metadata": {},
   "source": [
    "PCA with 10 components"
   ]
  },
  {
   "cell_type": "code",
   "execution_count": 115,
   "metadata": {},
   "outputs": [],
   "source": [
    "pca = decomposition.PCA(n_components=10)\n",
    "# Determine transformed features\n",
    "X_pca_10 = pca.fit_transform(X)"
   ]
  },
  {
   "cell_type": "code",
   "execution_count": 116,
   "metadata": {},
   "outputs": [
    {
     "data": {
      "image/png": "[encoded data removed]",
      "text/plain": [
       "<Figure size 432x288 with 1 Axes>"
      ]
     },
     "metadata": {
      "needs_background": "light"
     },
     "output_type": "display_data"
    }
   ],
   "source": [
    "wcss = []\n",
    "\n",
    "for i in range(2, 100, 3):\n",
    "    model = cluster.MiniBatchKMeans(n_clusters = i,     \n",
    "                    init = 'k-means++',                 # Initialization method for kmeans\n",
    "                    max_iter = 300,                     # Maximum number of iterations \n",
    "                    n_init = 10,                        # Choose how often algorithm will run with different centroid \n",
    "                    random_state = 0)                   # Choose random state for reproducibility\n",
    "    model.fit(X_pca_10)                              \n",
    "    wcss.append(model.inertia_)\n",
    "    \n",
    "# Show Elbow plot\n",
    "plt.plot(range(2, 100, 3), wcss)\n",
    "plt.title('Elbow Method')                               # Set plot title\n",
    "plt.xlabel('Number of clusters')                        # Set x axis name\n",
    "plt.ylabel('Within Cluster Sum of Squares (WCSS)')      # Set y axis name\n",
    "plt.show()"
   ]
  },
  {
   "cell_type": "markdown",
   "metadata": {},
   "source": [
    "k=10"
   ]
  },
  {
   "cell_type": "code",
   "execution_count": 117,
   "metadata": {},
   "outputs": [
    {
     "name": "stdout",
     "output_type": "stream",
     "text": [
      "NMI(Primary Type): 0.19712322482851907\n"
     ]
    }
   ],
   "source": [
    "mbkmeans = cluster.MiniBatchKMeans(n_clusters = 10, random_state = 0)\n",
    "mbkmeans.fit(X_pca_10)\n",
    "mbk_pred = mbkmeans.predict(X_pca_10)\n",
    "print(f\"NMI(Primary Type): {metrics.normalized_mutual_info_score(y, mbk_pred, average_method='arithmetic')}\")"
   ]
  },
  {
   "cell_type": "markdown",
   "metadata": {},
   "source": [
    "k=30"
   ]
  },
  {
   "cell_type": "code",
   "execution_count": 118,
   "metadata": {},
   "outputs": [
    {
     "name": "stdout",
     "output_type": "stream",
     "text": [
      "NMI(Primary Type): 0.19755074064801267\n"
     ]
    }
   ],
   "source": [
    "mbkmeans = cluster.MiniBatchKMeans(n_clusters = 30, random_state = 0)\n",
    "mbkmeans.fit(X_pca_10)\n",
    "mbk_pred = mbkmeans.predict(X_pca_10)\n",
    "print(f\"NMI(Primary Type): {metrics.normalized_mutual_info_score(y, mbk_pred, average_method='arithmetic')}\")"
   ]
  },
  {
   "cell_type": "markdown",
   "metadata": {},
   "source": [
    "k=100"
   ]
  },
  {
   "cell_type": "code",
   "execution_count": 119,
   "metadata": {},
   "outputs": [
    {
     "name": "stdout",
     "output_type": "stream",
     "text": [
      "NMI(Primary Type): 0.21194678206702\n"
     ]
    }
   ],
   "source": [
    "mbkmeans = cluster.MiniBatchKMeans(n_clusters = 100, random_state = 0)\n",
    "mbkmeans.fit(X_pca_10)\n",
    "mbk_pred = mbkmeans.predict(X_pca_10)\n",
    "print(f\"NMI(Primary Type): {metrics.normalized_mutual_info_score(y, mbk_pred, average_method='arithmetic')}\")"
   ]
  },
  {
   "cell_type": "markdown",
   "metadata": {},
   "source": [
    "k=200"
   ]
  },
  {
   "cell_type": "code",
   "execution_count": 120,
   "metadata": {},
   "outputs": [
    {
     "name": "stdout",
     "output_type": "stream",
     "text": [
      "NMI(Primary Type): 0.2064198720304763\n"
     ]
    }
   ],
   "source": [
    "mbkmeans = cluster.MiniBatchKMeans(n_clusters = 200, random_state = 0)\n",
    "mbkmeans.fit(X_pca_10)\n",
    "mbk_pred = mbkmeans.predict(X_pca_10)\n",
    "print(f\"NMI(Primary Type): {metrics.normalized_mutual_info_score(y1, mbk_pred, average_method='arithmetic')}\")"
   ]
  },
  {
   "cell_type": "markdown",
   "metadata": {},
   "source": [
    "PCA with 15 components"
   ]
  },
  {
   "cell_type": "code",
   "execution_count": 121,
   "metadata": {},
   "outputs": [],
   "source": [
    "pca = decomposition.PCA(n_components=15)\n",
    "# Determine transformed features\n",
    "X_pca_15 = pca.fit_transform(X)"
   ]
  },
  {
   "cell_type": "code",
   "execution_count": 122,
   "metadata": {},
   "outputs": [
    {
     "data": {
      "image/png": "[encoded data removed]",
      "text/plain": [
       "<Figure size 432x288 with 1 Axes>"
      ]
     },
     "metadata": {
      "needs_background": "light"
     },
     "output_type": "display_data"
    }
   ],
   "source": [
    "wcss = []\n",
    "\n",
    "for i in range(2, 100, 3):\n",
    "    model = cluster.MiniBatchKMeans(n_clusters = i,     \n",
    "                    init = 'k-means++',                 # Initialization method for kmeans\n",
    "                    max_iter = 300,                     # Maximum number of iterations \n",
    "                    n_init = 10,                        # Choose how often algorithm will run with different centroid \n",
    "                    random_state = 0)                   # Choose random state for reproducibility\n",
    "    model.fit(X_pca_5)                              \n",
    "    wcss.append(model.inertia_)\n",
    "    \n",
    "# Show Elbow plot\n",
    "plt.plot(range(2, 100, 3), wcss)\n",
    "plt.title('Elbow Method')                               # Set plot title\n",
    "plt.xlabel('Number of clusters')                        # Set x axis name\n",
    "plt.ylabel('Within Cluster Sum of Squares (WCSS)')      # Set y axis name\n",
    "plt.show()"
   ]
  },
  {
   "cell_type": "markdown",
   "metadata": {},
   "source": [
    "k=10"
   ]
  },
  {
   "cell_type": "code",
   "execution_count": 123,
   "metadata": {},
   "outputs": [
    {
     "name": "stdout",
     "output_type": "stream",
     "text": [
      "NMI(Primary Type): 0.22273387679283252\n"
     ]
    }
   ],
   "source": [
    "mbkmeans = cluster.MiniBatchKMeans(n_clusters = 10, random_state = 0)\n",
    "mbkmeans.fit(X_pca_15)\n",
    "mbk_pred = mbkmeans.predict(X_pca_15)\n",
    "print(f\"NMI(Primary Type): {metrics.normalized_mutual_info_score(y, mbk_pred, average_method='arithmetic')}\")"
   ]
  },
  {
   "cell_type": "markdown",
   "metadata": {},
   "source": [
    "k=30"
   ]
  },
  {
   "cell_type": "code",
   "execution_count": 124,
   "metadata": {},
   "outputs": [
    {
     "name": "stdout",
     "output_type": "stream",
     "text": [
      "NMI(Primary Type): 0.20017196943765056\n"
     ]
    }
   ],
   "source": [
    "mbkmeans = cluster.MiniBatchKMeans(n_clusters = 30, random_state = 0)\n",
    "mbkmeans.fit(X_pca_15)\n",
    "mbk_pred = mbkmeans.predict(X_pca_15)\n",
    "print(f\"NMI(Primary Type): {metrics.normalized_mutual_info_score(y, mbk_pred, average_method='arithmetic')}\")"
   ]
  },
  {
   "cell_type": "markdown",
   "metadata": {},
   "source": [
    "k=100"
   ]
  },
  {
   "cell_type": "code",
   "execution_count": 125,
   "metadata": {},
   "outputs": [
    {
     "name": "stdout",
     "output_type": "stream",
     "text": [
      "NMI(Primary Type): 0.20586628452139263\n"
     ]
    }
   ],
   "source": [
    "mbkmeans = cluster.MiniBatchKMeans(n_clusters = 100, random_state = 0)\n",
    "mbkmeans.fit(X_pca_15)\n",
    "mbk_pred = mbkmeans.predict(X_pca_15)\n",
    "print(f\"NMI(Primary Type): {metrics.normalized_mutual_info_score(y, mbk_pred, average_method='arithmetic')}\")"
   ]
  },
  {
   "cell_type": "markdown",
   "metadata": {},
   "source": [
    "## Binning"
   ]
  },
  {
   "cell_type": "markdown",
   "metadata": {},
   "source": [
    "n_bins=7"
   ]
  },
  {
   "cell_type": "code",
   "execution_count": 126,
   "metadata": {},
   "outputs": [],
   "source": [
    "est = preprocessing.KBinsDiscretizer(n_bins=7, encode='ordinal', strategy='uniform')\n",
    "est.fit(X)\n",
    "X_bin_7 = est.transform(X)"
   ]
  },
  {
   "cell_type": "code",
   "execution_count": 127,
   "metadata": {},
   "outputs": [
    {
     "name": "stdout",
     "output_type": "stream",
     "text": [
      "NMI(Primary Type): 0.18359278393205772\n"
     ]
    }
   ],
   "source": [
    "mbkmeans = cluster.MiniBatchKMeans(n_clusters = 30, random_state = 0)\n",
    "mbkmeans.fit(X_bin_7)\n",
    "mbk_pred = mbkmeans.predict(X_bin_7)\n",
    "print(f\"NMI(Primary Type): {metrics.normalized_mutual_info_score(y, mbk_pred, average_method='arithmetic')}\")"
   ]
  },
  {
   "cell_type": "code",
   "execution_count": 128,
   "metadata": {},
   "outputs": [
    {
     "data": {
      "image/png": "[encoded data removed]",
      "text/plain": [
       "<Figure size 432x288 with 1 Axes>"
      ]
     },
     "metadata": {
      "needs_background": "light"
     },
     "output_type": "display_data"
    }
   ],
   "source": [
    "wcss = []\n",
    "\n",
    "for i in range(2, 100, 3):\n",
    "    model = cluster.MiniBatchKMeans(n_clusters = i,     \n",
    "                    init = 'k-means++',                 # Initialization method for kmeans\n",
    "                    max_iter = 300,                     # Maximum number of iterations \n",
    "                    n_init = 10,                        # Choose how often algorithm will run with different centroid \n",
    "                    random_state = 0)                   # Choose random state for reproducibility\n",
    "    model.fit(X_bin_7)                              \n",
    "    wcss.append(model.inertia_)\n",
    "    \n",
    "# Show Elbow plot\n",
    "plt.plot(range(2, 100, 3), wcss)\n",
    "plt.title('Elbow Method')                               # Set plot title\n",
    "plt.xlabel('Number of clusters')                        # Set x axis name\n",
    "plt.ylabel('Within Cluster Sum of Squares (WCSS)')      # Set y axis name\n",
    "plt.show()"
   ]
  },
  {
   "cell_type": "code",
   "execution_count": 129,
   "metadata": {},
   "outputs": [
    {
     "name": "stdout",
     "output_type": "stream",
     "text": [
      "NMI(Primary Type): 0.1881736430174102\n"
     ]
    }
   ],
   "source": [
    "mbkmeans = cluster.MiniBatchKMeans(n_clusters = 100, random_state = 0)\n",
    "mbkmeans.fit(X_bin_7)\n",
    "mbk_pred = mbkmeans.predict(X_bin_7)\n",
    "print(f\"NMI(Primary Type): {metrics.normalized_mutual_info_score(y, mbk_pred, average_method='arithmetic')}\")"
   ]
  },
  {
   "cell_type": "code",
   "execution_count": 130,
   "metadata": {},
   "outputs": [
    {
     "name": "stdout",
     "output_type": "stream",
     "text": [
      "NMI(Primary Type): 0.16071252050263124\n"
     ]
    }
   ],
   "source": [
    "mbkmeans = cluster.MiniBatchKMeans(n_clusters = 40, random_state = 0)\n",
    "mbkmeans.fit(X_bin_7)\n",
    "mbk_pred = mbkmeans.predict(X_bin_7)\n",
    "print(f\"NMI(Primary Type): {metrics.normalized_mutual_info_score(y, mbk_pred, average_method='arithmetic')}\")"
   ]
  },
  {
   "cell_type": "code",
   "execution_count": 131,
   "metadata": {},
   "outputs": [
    {
     "name": "stdout",
     "output_type": "stream",
     "text": [
      "NMI(Primary Type): 0.177069676464528\n"
     ]
    }
   ],
   "source": [
    "mbkmeans = cluster.MiniBatchKMeans(n_clusters = 70, random_state = 0)\n",
    "mbkmeans.fit(X_bin_7)\n",
    "mbk_pred = mbkmeans.predict(X_bin_7)\n",
    "print(f\"NMI(Primary Type): {metrics.normalized_mutual_info_score(y, mbk_pred, average_method='arithmetic')}\")"
   ]
  },
  {
   "cell_type": "code",
   "execution_count": 132,
   "metadata": {},
   "outputs": [
    {
     "name": "stdout",
     "output_type": "stream",
     "text": [
      "NMI(Primary Type): 0.1042076574120982\n"
     ]
    }
   ],
   "source": [
    "mbkmeans = cluster.MiniBatchKMeans(n_clusters = 10, random_state = 0)\n",
    "mbkmeans.fit(X_bin_7)\n",
    "mbk_pred = mbkmeans.predict(X_bin_7)\n",
    "print(f\"NMI(Primary Type): {metrics.normalized_mutual_info_score(y, mbk_pred, average_method='arithmetic')}\")"
   ]
  },
  {
   "cell_type": "markdown",
   "metadata": {},
   "source": [
    "n_bins=10"
   ]
  },
  {
   "cell_type": "code",
   "execution_count": 133,
   "metadata": {},
   "outputs": [],
   "source": [
    "est = preprocessing.KBinsDiscretizer(n_bins=10, encode='ordinal', strategy='uniform')\n",
    "est.fit(X)\n",
    "X_bin_10 = est.transform(X)"
   ]
  },
  {
   "cell_type": "code",
   "execution_count": 134,
   "metadata": {},
   "outputs": [
    {
     "name": "stdout",
     "output_type": "stream",
     "text": [
      "NMI(Primary Type): 0.14208517634022919\n"
     ]
    }
   ],
   "source": [
    "mbkmeans = cluster.MiniBatchKMeans(n_clusters = 30, random_state = 0)\n",
    "mbkmeans.fit(X_bin_10)\n",
    "mbk_pred = mbkmeans.predict(X_bin_10)\n",
    "print(f\"NMI(Primary Type): {metrics.normalized_mutual_info_score(y, mbk_pred, average_method='arithmetic')}\")"
   ]
  },
  {
   "cell_type": "code",
   "execution_count": 135,
   "metadata": {},
   "outputs": [
    {
     "data": {
      "image/png": "[encoded data removed]",
      "text/plain": [
       "<Figure size 432x288 with 1 Axes>"
      ]
     },
     "metadata": {
      "needs_background": "light"
     },
     "output_type": "display_data"
    }
   ],
   "source": [
    "wcss = []\n",
    "\n",
    "for i in range(2, 50, 3):\n",
    "    model = cluster.MiniBatchKMeans(n_clusters = i,     \n",
    "                    init = 'k-means++',                 # Initialization method for kmeans\n",
    "                    max_iter = 300,                     # Maximum number of iterations \n",
    "                    n_init = 10,                        # Choose how often algorithm will run with different centroid \n",
    "                    random_state = 0)                   # Choose random state for reproducibility\n",
    "    model.fit(X_bin_10)                              \n",
    "    wcss.append(model.inertia_)\n",
    "    \n",
    "# Show Elbow plot\n",
    "plt.plot(range(2, 50, 3), wcss)\n",
    "plt.title('Elbow Method')                               # Set plot title\n",
    "plt.xlabel('Number of clusters')                        # Set x axis name\n",
    "plt.ylabel('Within Cluster Sum of Squares (WCSS)')      # Set y axis name\n",
    "plt.show()"
   ]
  },
  {
   "cell_type": "code",
   "execution_count": 136,
   "metadata": {},
   "outputs": [
    {
     "name": "stdout",
     "output_type": "stream",
     "text": [
      "NMI(Primary Type): 0.1710192350839743\n"
     ]
    }
   ],
   "source": [
    "mbkmeans = cluster.MiniBatchKMeans(n_clusters = 100, random_state = 0)\n",
    "mbkmeans.fit(X_bin_10)\n",
    "mbk_pred = mbkmeans.predict(X_bin_10)\n",
    "print(f\"NMI(Primary Type): {metrics.normalized_mutual_info_score(y, mbk_pred, average_method='arithmetic')}\")"
   ]
  },
  {
   "cell_type": "code",
   "execution_count": 137,
   "metadata": {},
   "outputs": [
    {
     "name": "stdout",
     "output_type": "stream",
     "text": [
      "NMI(Primary Type): 0.14155559579927865\n"
     ]
    }
   ],
   "source": [
    "mbkmeans = cluster.MiniBatchKMeans(n_clusters = 40, random_state = 0)\n",
    "mbkmeans.fit(X_bin_10)\n",
    "mbk_pred = mbkmeans.predict(X_bin_10)\n",
    "print(f\"NMI(Primary Type): {metrics.normalized_mutual_info_score(y, mbk_pred, average_method='arithmetic')}\")"
   ]
  },
  {
   "cell_type": "code",
   "execution_count": 138,
   "metadata": {},
   "outputs": [
    {
     "name": "stdout",
     "output_type": "stream",
     "text": [
      "NMI(Primary Type): 0.15525657502095344\n"
     ]
    }
   ],
   "source": [
    "mbkmeans = cluster.MiniBatchKMeans(n_clusters = 70, random_state = 0)\n",
    "mbkmeans.fit(X_bin_10)\n",
    "mbk_pred = mbkmeans.predict(X_bin_10)\n",
    "print(f\"NMI(Primary Type): {metrics.normalized_mutual_info_score(y, mbk_pred, average_method='arithmetic')}\")"
   ]
  },
  {
   "cell_type": "code",
   "execution_count": 139,
   "metadata": {},
   "outputs": [
    {
     "name": "stdout",
     "output_type": "stream",
     "text": [
      "NMI(Primary Type): 0.13462571800919487\n"
     ]
    }
   ],
   "source": [
    "mbkmeans = cluster.MiniBatchKMeans(n_clusters = 25, random_state = 0)\n",
    "mbkmeans.fit(X_bin_10)\n",
    "mbk_pred = mbkmeans.predict(X_bin_10)\n",
    "print(f\"NMI(Primary Type): {metrics.normalized_mutual_info_score(y, mbk_pred, average_method='arithmetic')}\")"
   ]
  },
  {
   "cell_type": "markdown",
   "metadata": {},
   "source": [
    "## Heirarchical Clustering"
   ]
  },
  {
   "cell_type": "code",
   "execution_count": 140,
   "metadata": {},
   "outputs": [
    {
     "data": {
      "text/plain": [
       "(30000, 28)"
      ]
     },
     "execution_count": 140,
     "metadata": {},
     "output_type": "execute_result"
    }
   ],
   "source": [
    "X_train, X_test, y_train, y_test = model_selection.train_test_split(X, y, test_size=0.7,random_state=42)\n",
    "X_train.shape"
   ]
  },
  {
   "cell_type": "code",
   "execution_count": 141,
   "metadata": {},
   "outputs": [],
   "source": [
    "dbs = cluster.DBSCAN(eps=0.5, min_samples=5)"
   ]
  },
  {
   "cell_type": "code",
   "execution_count": 142,
   "metadata": {},
   "outputs": [],
   "source": [
    "dbs_pred = dbs.fit_predict(X_train)"
   ]
  },
  {
   "cell_type": "code",
   "execution_count": 143,
   "metadata": {},
   "outputs": [
    {
     "name": "stdout",
     "output_type": "stream",
     "text": [
      "NMI(Primary Type): 0.0\n",
      "n_cluster = 1\n"
     ]
    }
   ],
   "source": [
    "print(f\"NMI(Primary Type): {metrics.normalized_mutual_info_score(y_train, dbs_pred, average_method='arithmetic')}\")\n",
    "print(f\"n_cluster = {len(np.unique(dbs.labels_))}\")"
   ]
  },
  {
   "cell_type": "code",
   "execution_count": 144,
   "metadata": {},
   "outputs": [
    {
     "name": "stdout",
     "output_type": "stream",
     "text": [
      "NMI(Primary Type): 0.0\n",
      "n_cluster = 1\n"
     ]
    }
   ],
   "source": [
    "dbs = cluster.DBSCAN(eps=0.2, min_samples=5)\n",
    "dbs_pred = dbs.fit_predict(X_train)\n",
    "print(f\"NMI(Primary Type): {metrics.normalized_mutual_info_score(y_train, dbs_pred, average_method='arithmetic')}\")\n",
    "print(f\"n_cluster = {len(np.unique(dbs.labels_))}\")"
   ]
  },
  {
   "cell_type": "code",
   "execution_count": 145,
   "metadata": {},
   "outputs": [
    {
     "name": "stdout",
     "output_type": "stream",
     "text": [
      "NMI(Primary Type): 0.0\n",
      "n_cluster = 1\n"
     ]
    }
   ],
   "source": [
    "dbs = cluster.DBSCAN(eps=0.3, min_samples=5)\n",
    "dbs_pred = dbs.fit_predict(X_train)\n",
    "print(f\"NMI(Primary Type): {metrics.normalized_mutual_info_score(y_train, dbs_pred, average_method='arithmetic')}\")\n",
    "print(f\"n_cluster = {len(np.unique(dbs.labels_))}\")"
   ]
  },
  {
   "cell_type": "code",
   "execution_count": 146,
   "metadata": {},
   "outputs": [
    {
     "name": "stdout",
     "output_type": "stream",
     "text": [
      "NMI(Primary Type): 0.0\n",
      "n_cluster = 1\n"
     ]
    }
   ],
   "source": [
    "dbs = cluster.DBSCAN(eps=0.7, min_samples=5)\n",
    "dbs_pred = dbs.fit_predict(X_train)\n",
    "print(f\"NMI(Primary Type): {metrics.normalized_mutual_info_score(y_train, dbs_pred, average_method='arithmetic')}\")\n",
    "print(f\"n_cluster = {len(np.unique(dbs.labels_))}\")"
   ]
  },
  {
   "cell_type": "code",
   "execution_count": 147,
   "metadata": {},
   "outputs": [
    {
     "name": "stdout",
     "output_type": "stream",
     "text": [
      "NMI(Primary Type): 0.003883969918791498\n",
      "n_cluster = 13\n"
     ]
    }
   ],
   "source": [
    "dbs = cluster.DBSCAN(eps=0.8, min_samples=5)\n",
    "dbs_pred = dbs.fit_predict(X_train)\n",
    "print(f\"NMI(Primary Type): {metrics.normalized_mutual_info_score(y_train, dbs_pred, average_method='arithmetic')}\")\n",
    "print(f\"n_cluster = {len(np.unique(dbs.labels_))}\")"
   ]
  },
  {
   "cell_type": "code",
   "execution_count": 148,
   "metadata": {},
   "outputs": [
    {
     "name": "stdout",
     "output_type": "stream",
     "text": [
      "NMI(Primary Type): 0.07490997066426018\n",
      "n_cluster = 135\n"
     ]
    }
   ],
   "source": [
    "dbs = cluster.DBSCAN(eps=1, min_samples=5)\n",
    "dbs_pred = dbs.fit_predict(X_train)\n",
    "print(f\"NMI(Primary Type): {metrics.normalized_mutual_info_score(y_train, dbs_pred, average_method='arithmetic')}\")\n",
    "print(f\"n_cluster = {len(np.unique(dbs.labels_))}\")"
   ]
  },
  {
   "cell_type": "code",
   "execution_count": 149,
   "metadata": {},
   "outputs": [
    {
     "name": "stdout",
     "output_type": "stream",
     "text": [
      "NMI(Primary Type): 0.14927264887029967\n",
      "n_cluster = 197\n"
     ]
    }
   ],
   "source": [
    "dbs = cluster.DBSCAN(eps=1.2, min_samples=5)\n",
    "dbs_pred = dbs.fit_predict(X_train)\n",
    "print(f\"NMI(Primary Type): {metrics.normalized_mutual_info_score(y_train, dbs_pred, average_method='arithmetic')}\")\n",
    "print(f\"n_cluster = {len(np.unique(dbs.labels_))}\")"
   ]
  },
  {
   "cell_type": "markdown",
   "metadata": {},
   "source": [
    "Try with different seed of split"
   ]
  },
  {
   "cell_type": "code",
   "execution_count": 150,
   "metadata": {},
   "outputs": [
    {
     "data": {
      "text/plain": [
       "(40000, 28)"
      ]
     },
     "execution_count": 150,
     "metadata": {},
     "output_type": "execute_result"
    }
   ],
   "source": [
    "X_train, X_test, y_train, y_test = model_selection.train_test_split(X, y, test_size=0.6,random_state=0)\n",
    "X_train.shape"
   ]
  },
  {
   "cell_type": "code",
   "execution_count": 151,
   "metadata": {},
   "outputs": [
    {
     "name": "stdout",
     "output_type": "stream",
     "text": [
      "NMI(Primary Type): 0.00019395252529067142\n",
      "n_cluster = 2\n"
     ]
    }
   ],
   "source": [
    "dbs = cluster.DBSCAN(eps=0.5, min_samples=5)\n",
    "dbs_pred = dbs.fit_predict(X_train)\n",
    "print(f\"NMI(Primary Type): {metrics.normalized_mutual_info_score(y_train, dbs_pred, average_method='arithmetic')}\")\n",
    "print(f\"n_cluster = {len(np.unique(dbs.labels_))}\")"
   ]
  },
  {
   "cell_type": "code",
   "execution_count": 152,
   "metadata": {},
   "outputs": [
    {
     "name": "stdout",
     "output_type": "stream",
     "text": [
      "NMI(Primary Type): 0.09043399399624932\n",
      "n_cluster = 247\n"
     ]
    }
   ],
   "source": [
    "dbs = cluster.DBSCAN(eps=1, min_samples=5)\n",
    "dbs_pred = dbs.fit_predict(X_train)\n",
    "print(f\"NMI(Primary Type): {metrics.normalized_mutual_info_score(y_train, dbs_pred, average_method='arithmetic')}\")\n",
    "print(f\"n_cluster = {len(np.unique(dbs.labels_))}\")"
   ]
  },
  {
   "cell_type": "code",
   "execution_count": 153,
   "metadata": {},
   "outputs": [
    {
     "name": "stdout",
     "output_type": "stream",
     "text": [
      "NMI(Primary Type): 0.0007722619103536397\n",
      "n_cluster = 4\n"
     ]
    }
   ],
   "source": [
    "dbs = cluster.DBSCAN(eps=0.7, min_samples=5)\n",
    "dbs_pred = dbs.fit_predict(X_train)\n",
    "print(f\"NMI(Primary Type): {metrics.normalized_mutual_info_score(y_train, dbs_pred, average_method='arithmetic')}\")\n",
    "print(f\"n_cluster = {len(np.unique(dbs.labels_))}\")"
   ]
  },
  {
   "cell_type": "code",
   "execution_count": 154,
   "metadata": {},
   "outputs": [
    {
     "data": {
      "text/plain": [
       "(100000, 28)"
      ]
     },
     "execution_count": 154,
     "metadata": {},
     "output_type": "execute_result"
    }
   ],
   "source": [
    "X.shape"
   ]
  },
  {
   "cell_type": "markdown",
   "metadata": {},
   "source": []
  }
 ],
 "metadata": {
  "kernelspec": {
   "display_name": "Python 3",
   "language": "python",
   "name": "python3"
  },
  "language_info": {
   "codemirror_mode": {
    "name": "ipython",
    "version": 3
   },
   "file_extension": ".py",
   "mimetype": "text/x-python",
   "name": "python",
   "nbconvert_exporter": "python",
   "pygments_lexer": "ipython3",
   "version": "3.9.7"
  }
 },
 "nbformat": 4,
 "nbformat_minor": 2
}
